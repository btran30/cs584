{
  "nbformat": 4,
  "nbformat_minor": 0,
  "metadata": {
    "accelerator": "GPU",
    "colab": {
      "name": "Copy of ResNet50_pretrained.ipynb",
      "provenance": [],
      "collapsed_sections": [],
      "toc_visible": true
    },
    "kernelspec": {
      "display_name": "Python 3",
      "language": "python",
      "name": "python3"
    },
    "language_info": {
      "codemirror_mode": {
        "name": "ipython",
        "version": 3
      },
      "file_extension": ".py",
      "mimetype": "text/x-python",
      "name": "python",
      "nbconvert_exporter": "python",
      "pygments_lexer": "ipython3",
      "version": "3.8.6"
    }
  },
  "cells": [
    {
      "cell_type": "markdown",
      "metadata": {
        "id": "ZY5c1IBb4OVS"
      },
      "source": [
        "# ResNet50 Analysis"
      ]
    },
    {
      "cell_type": "code",
      "metadata": {
        "id": "24x8j0HORkj2"
      },
      "source": [
        "import tensorflow as tf\n",
        "import tensorflow.keras as keras\n",
        "import numpy as np\n",
        "import matplotlib.pyplot as plt\n",
        "import time\n",
        "\n",
        "from tensorflow.keras.applications.resnet50 import ResNet50, preprocess_input\n",
        "from tensorflow.keras.models import Model, Sequential\n",
        "from tensorflow.keras.layers import Input, UpSampling2D, Flatten, BatchNormalization, Dense, Dropout, GlobalAveragePooling2D\n",
        "from tensorflow.keras import optimizers\n",
        "from keras.datasets import cifar100, cifar10\n",
        "from keras.utils import np_utils\n",
        "from keras.applications.resnet50 import preprocess_input, decode_predictions\n",
        "from keras.preprocessing.image import ImageDataGenerator\n",
        "from skimage.transform import resize"
      ],
      "execution_count": 1,
      "outputs": []
    },
    {
      "cell_type": "code",
      "metadata": {
        "id": "UfYcb0C4AO03"
      },
      "source": [
        "def preprocess_data(num_classes):\n",
        "\n",
        "    if num_classes == 100:\n",
        "        (x_train, y_train), (x_test, y_test) = cifar100.load_data()\n",
        "    else :\n",
        "        (x_train, y_train), (x_test, y_test) = cifar10.load_data()\n",
        "        \n",
        "    x_train = preprocess_input(x_train)\n",
        "    x_test = preprocess_input(x_test)\n",
        "   \n",
        "    y_train = np_utils.to_categorical(y_train, num_classes)\n",
        "    y_test = np_utils.to_categorical(y_test, num_classes)\n",
        "       \n",
        "    print('Train: X=%s, y=%s' % (x_train.shape, y_train.shape))\n",
        "    print('Test: X=%s, y=%s' % (x_test.shape, y_test.shape))\n",
        "    return (x_train, y_train), (x_test, y_test) "
      ],
      "execution_count": 2,
      "outputs": []
    },
    {
      "cell_type": "code",
      "metadata": {
        "id": "bgz2-43OAO03"
      },
      "source": [
        "def fit_model(num_classes, x_train, y_train, x_test, y_test):\n",
        "    resnet_model = ResNet50(weights='imagenet', include_top=False, input_shape=(224, 224, 3))\n",
        "    \n",
        "    for layer in resnet_model.layers:\n",
        "      if isinstance(layer, BatchNormalization):\n",
        "        layer.trainable = True\n",
        "      else:\n",
        "        layer.trainable = False\n",
        "    \n",
        "    model = Sequential()\n",
        "    model.add(UpSampling2D(size=(7,7)))\n",
        "    model.add(resnet_model)\n",
        "    model.add(GlobalAveragePooling2D())\n",
        "    model.add(Dense(256, activation='relu'))\n",
        "    model.add(Dropout(.25))\n",
        "    model.add(BatchNormalization())\n",
        "    model.add(Dense(num_classes, activation='softmax'))\n",
        "    model.compile(loss='categorical_crossentropy',optimizer='adam',metrics=['accuracy', 'top_k_categorical_accuracy'])\n",
        "\n",
        "    datagen = ImageDataGenerator(rotation_range=8,\n",
        "                             shear_range=0.2, \n",
        "                             zoom_range=0.2,\n",
        "                             channel_shift_range=0.05, \n",
        "                             horizontal_flip=True)\n",
        "    datagen.fit(x_train)\n",
        "\n",
        "    t=time.time()\n",
        "    nb_epochs = 10\n",
        "    batch_size = 64\n",
        "    history = model.fit(datagen.flow(x_train, y_train, batch_size=batch_size),\n",
        "                                  steps_per_epoch=x_train.shape[0] // batch_size,\n",
        "                                  epochs=nb_epochs,\n",
        "                                  validation_data=(x_test, y_test))\n",
        "    print('Training time: %s' % (time.time()-1))\n",
        "    model.save('ResNet50_cifar'+str(num_classes)+'.h5')\n",
        "    return history, model"
      ],
      "execution_count": 9,
      "outputs": []
    },
    {
      "cell_type": "code",
      "metadata": {
        "id": "sLwN45_tAO03"
      },
      "source": [
        "def summarize_diagnostics(num_classes, history):\n",
        "    cifar = 'CIFAR'+str(num_classes)\n",
        "    plt.subplots_adjust(hspace=0.7)\n",
        "\n",
        "    # plot loss\n",
        "    plt.subplot(211)\n",
        "    plt.title(cifar + ' Cross Entropy Loss')\n",
        "    plt.plot(history.history['loss'], color='blue', label='train')\n",
        "    plt.plot(history.history['val_loss'], color='orange', label='test')\n",
        "    \n",
        "    # plot accuracy\n",
        "    plt.subplot(212)\n",
        "    plt.title(cifar + ' Classification Accuracy')\n",
        "    plt.plot(history.history['accuracy'], color='blue', label='train')\n",
        "    plt.plot(history.history['val_accuracy'], color='orange', label='test')\n",
        "    \n",
        "    # save plot to file\n",
        "    #filename = \"ResNet50_Pretrained\"\n",
        "    #plt.savefig(filename + '_plot.png')"
      ],
      "execution_count": 5,
      "outputs": []
    },
    {
      "cell_type": "code",
      "metadata": {
        "id": "YnSWzhX2AO03"
      },
      "source": [
        "def predict(model, x_test, y_test):\n",
        "    ypred = model.predict(x_test)\n",
        "\n",
        "    total = 0\n",
        "    accurate = 0\n",
        "    accurateindex = []\n",
        "    wrongindex = []\n",
        "\n",
        "    for i in range(len(ypred)):\n",
        "        if np.argmax(ypred[i]) == np.argmax(y_test[i]):\n",
        "            accurate += 1\n",
        "            accurateindex.append(i)\n",
        "        else:\n",
        "            wrongindex.append(i)\n",
        "\n",
        "        total += 1\n",
        "    \n",
        "    print('Total-test-data;', total, '\\taccurately-predicted-data:', accurate, '\\t wrongly-predicted-data: ', total - accurate)\n",
        "    print('Accuracy:', round(accurate/total*100, 3), '%')\n",
        "    return ypred"
      ],
      "execution_count": 6,
      "outputs": []
    },
    {
      "cell_type": "markdown",
      "metadata": {
        "id": "NA1yBUaFAO04"
      },
      "source": [
        "### Run with CIFAR100"
      ]
    },
    {
      "cell_type": "code",
      "metadata": {
        "colab": {
          "base_uri": "https://localhost:8080/",
          "height": 1000
        },
        "id": "BNmjG88lAO04",
        "outputId": "72e5ef4a-f9be-4dd9-d669-804b3d6bd43a"
      },
      "source": [
        "num_classes = 100\n",
        "(x_train, y_train), (x_test, y_test) = preprocess_data(num_classes)\n",
        "history, model = fit_model(num_classes, x_train, y_train,x_test, y_test)\n",
        "print('\\n\\n')\n",
        "summarize_diagnostics(num_classes, history)\n",
        "print('\\n')\n",
        "pred = predict(model, x_test, y_test)"
      ],
      "execution_count": 10,
      "outputs": [
        {
          "output_type": "stream",
          "text": [
            "Train: X=(50000, 32, 32, 3), y=(50000, 100)\n",
            "Test: X=(10000, 32, 32, 3), y=(10000, 100)\n",
            "Epoch 1/10\n",
            "781/781 [==============================] - 432s 553ms/step - loss: 1.9476 - accuracy: 0.4963 - top_k_categorical_accuracy: 0.7839 - val_loss: 1.0981 - val_accuracy: 0.6741 - val_top_k_categorical_accuracy: 0.9274\n",
            "Epoch 2/10\n",
            "781/781 [==============================] - 433s 555ms/step - loss: 1.1526 - accuracy: 0.6668 - top_k_categorical_accuracy: 0.9185 - val_loss: 0.9044 - val_accuracy: 0.7267 - val_top_k_categorical_accuracy: 0.9468\n",
            "Epoch 3/10\n",
            "781/781 [==============================] - 432s 553ms/step - loss: 0.9811 - accuracy: 0.7093 - top_k_categorical_accuracy: 0.9373 - val_loss: 0.8292 - val_accuracy: 0.7472 - val_top_k_categorical_accuracy: 0.9527\n",
            "Epoch 4/10\n",
            "781/781 [==============================] - 432s 553ms/step - loss: 0.8917 - accuracy: 0.7330 - top_k_categorical_accuracy: 0.9475 - val_loss: 0.8147 - val_accuracy: 0.7540 - val_top_k_categorical_accuracy: 0.9545\n",
            "Epoch 5/10\n",
            "781/781 [==============================] - 431s 552ms/step - loss: 0.8164 - accuracy: 0.7519 - top_k_categorical_accuracy: 0.9550 - val_loss: 0.7836 - val_accuracy: 0.7661 - val_top_k_categorical_accuracy: 0.9571\n",
            "Epoch 6/10\n",
            "781/781 [==============================] - 433s 554ms/step - loss: 0.7651 - accuracy: 0.7654 - top_k_categorical_accuracy: 0.9611 - val_loss: 0.7649 - val_accuracy: 0.7689 - val_top_k_categorical_accuracy: 0.9586\n",
            "Epoch 7/10\n",
            "781/781 [==============================] - 433s 554ms/step - loss: 0.7122 - accuracy: 0.7787 - top_k_categorical_accuracy: 0.9650 - val_loss: 0.7416 - val_accuracy: 0.7788 - val_top_k_categorical_accuracy: 0.9607\n",
            "Epoch 8/10\n",
            "781/781 [==============================] - 433s 555ms/step - loss: 0.6707 - accuracy: 0.7939 - top_k_categorical_accuracy: 0.9687 - val_loss: 0.7410 - val_accuracy: 0.7843 - val_top_k_categorical_accuracy: 0.9614\n",
            "Epoch 9/10\n",
            "781/781 [==============================] - 432s 553ms/step - loss: 0.6361 - accuracy: 0.8020 - top_k_categorical_accuracy: 0.9727 - val_loss: 0.7504 - val_accuracy: 0.7793 - val_top_k_categorical_accuracy: 0.9598\n",
            "Epoch 10/10\n",
            "781/781 [==============================] - 432s 554ms/step - loss: 0.6009 - accuracy: 0.8097 - top_k_categorical_accuracy: 0.9754 - val_loss: 0.7247 - val_accuracy: 0.7852 - val_top_k_categorical_accuracy: 0.9631\n",
            "Training time: -4330.5260598659515\n",
            "\n",
            "\n",
            "\n",
            "\n",
            "\n",
            "Total-test-data; 10000 \taccurately-predicted-data: 7852 \t wrongly-predicted-data:  2148\n",
            "Accuracy: 78.52 %\n"
          ],
          "name": "stdout"
        },
        {
          "output_type": "execute_result",
          "data": {
            "text/plain": [
              "array([[2.4157821e-08, 4.3479801e-08, 5.2362349e-04, ..., 5.9743780e-07,\n",
              "        3.6713718e-05, 2.9057082e-08],\n",
              "       [2.5007052e-06, 3.1678650e-05, 2.3347947e-03, ..., 1.3161313e-03,\n",
              "        1.9023426e-05, 2.0790327e-05],\n",
              "       [2.9034788e-09, 6.7079600e-07, 1.3370175e-06, ..., 2.0333460e-05,\n",
              "        8.1443162e-08, 5.0286695e-07],\n",
              "       ...,\n",
              "       [7.1658279e-09, 3.1905562e-10, 2.7445584e-09, ..., 2.7302494e-11,\n",
              "        3.5359038e-10, 1.2094012e-10],\n",
              "       [2.9352704e-14, 2.5472238e-09, 3.6040836e-12, ..., 5.4275802e-08,\n",
              "        2.2912675e-11, 7.5217571e-10],\n",
              "       [2.8077902e-05, 2.6196502e-03, 6.3582029e-06, ..., 1.5611820e-04,\n",
              "        4.3276673e-06, 3.7958940e-05]], dtype=float32)"
            ]
          },
          "metadata": {
            "tags": []
          },
          "execution_count": 10
        },
        {
          "output_type": "display_data",
          "data": {
            "image/png": "[encoded data removed]",
            "text/plain": [
              "<Figure size 432x288 with 2 Axes>"
            ]
          },
          "metadata": {
            "tags": [],
            "needs_background": "light"
          }
        }
      ]
    },
    {
      "cell_type": "markdown",
      "metadata": {
        "id": "VpJ_MWNzAO04"
      },
      "source": [
        "### Run with CIFAR10"
      ]
    },
    {
      "cell_type": "code",
      "metadata": {
        "colab": {
          "base_uri": "https://localhost:8080/",
          "height": 845
        },
        "id": "mekINX6PAO04",
        "outputId": "fceab913-b420-47c8-e6f8-7df5c6a6f1b8"
      },
      "source": [
        "num_classes = 10\n",
        "(x_train, y_train), (x_test, y_test) = preprocess_data(num_classes)\n",
        "history, model = fit_model(num_classes, x_train, y_train,x_test, y_test)\n",
        "print('\\n\\n')\n",
        "summarize_diagnostics(num_classes, history)\n",
        "print('\\n')\n",
        "pred = predict(model, x_test, y_test)"
      ],
      "execution_count": 11,
      "outputs": [
        {
          "output_type": "stream",
          "text": [
            "Downloading data from https://www.cs.toronto.edu/~kriz/cifar-10-python.tar.gz\n",
            "170500096/170498071 [==============================] - 2s 0us/step\n",
            "Train: X=(50000, 32, 32, 3), y=(50000, 10)\n",
            "Test: X=(10000, 32, 32, 3), y=(10000, 10)\n",
            "Epoch 1/10\n",
            "781/781 [==============================] - 428s 548ms/step - loss: 0.5939 - accuracy: 0.7961 - top_k_categorical_accuracy: 0.9853 - val_loss: 0.3315 - val_accuracy: 0.8863 - val_top_k_categorical_accuracy: 0.9979\n",
            "Epoch 2/10\n",
            "781/781 [==============================] - 432s 553ms/step - loss: 0.3308 - accuracy: 0.8874 - top_k_categorical_accuracy: 0.9971 - val_loss: 0.2282 - val_accuracy: 0.9188 - val_top_k_categorical_accuracy: 0.9994\n",
            "Epoch 3/10\n",
            "781/781 [==============================] - 431s 552ms/step - loss: 0.2679 - accuracy: 0.9079 - top_k_categorical_accuracy: 0.9981 - val_loss: 0.2129 - val_accuracy: 0.9253 - val_top_k_categorical_accuracy: 0.9992\n",
            "Epoch 4/10\n",
            "781/781 [==============================] - 432s 553ms/step - loss: 0.2349 - accuracy: 0.9192 - top_k_categorical_accuracy: 0.9984 - val_loss: 0.1817 - val_accuracy: 0.9365 - val_top_k_categorical_accuracy: 0.9992\n",
            "Epoch 5/10\n",
            "781/781 [==============================] - 431s 552ms/step - loss: 0.2088 - accuracy: 0.9277 - top_k_categorical_accuracy: 0.9989 - val_loss: 0.1630 - val_accuracy: 0.9434 - val_top_k_categorical_accuracy: 0.9994\n",
            "Epoch 6/10\n",
            "781/781 [==============================] - 431s 551ms/step - loss: 0.1910 - accuracy: 0.9335 - top_k_categorical_accuracy: 0.9990 - val_loss: 0.1612 - val_accuracy: 0.9456 - val_top_k_categorical_accuracy: 0.9994\n",
            "Epoch 7/10\n",
            "781/781 [==============================] - 431s 552ms/step - loss: 0.1778 - accuracy: 0.9381 - top_k_categorical_accuracy: 0.9992 - val_loss: 0.1586 - val_accuracy: 0.9458 - val_top_k_categorical_accuracy: 0.9997\n",
            "Epoch 8/10\n",
            "781/781 [==============================] - 431s 552ms/step - loss: 0.1653 - accuracy: 0.9416 - top_k_categorical_accuracy: 0.9993 - val_loss: 0.1578 - val_accuracy: 0.9448 - val_top_k_categorical_accuracy: 0.9997\n",
            "Epoch 9/10\n",
            "781/781 [==============================] - 431s 551ms/step - loss: 0.1553 - accuracy: 0.9459 - top_k_categorical_accuracy: 0.9993 - val_loss: 0.1497 - val_accuracy: 0.9478 - val_top_k_categorical_accuracy: 0.9997\n",
            "Epoch 10/10\n",
            "781/781 [==============================] - 431s 551ms/step - loss: 0.1498 - accuracy: 0.9465 - top_k_categorical_accuracy: 0.9995 - val_loss: 0.1469 - val_accuracy: 0.9503 - val_top_k_categorical_accuracy: 0.9998\n",
            "Training time: -4315.845039367676\n",
            "\n",
            "\n",
            "\n",
            "\n",
            "\n",
            "Total-test-data; 10000 \taccurately-predicted-data: 9503 \t wrongly-predicted-data:  497\n",
            "Accuracy: 95.03 %\n"
          ],
          "name": "stdout"
        },
        {
          "output_type": "display_data",
          "data": {
            "image/png": "[encoded data removed]",
            "text/plain": [
              "<Figure size 432x288 with 2 Axes>"
            ]
          },
          "metadata": {
            "tags": [],
            "needs_background": "light"
          }
        }
      ]
    }
  ]
}