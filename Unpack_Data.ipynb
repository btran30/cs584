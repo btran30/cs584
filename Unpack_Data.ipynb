{
 "cells": [
  {
   "cell_type": "code",
   "execution_count": 1,
   "metadata": {},
   "outputs": [
    {
     "name": "stdout",
     "output_type": "stream",
     "text": [
      "Loading Data..\n"
     ]
    }
   ],
   "source": [
    "import pickle\n",
    "import cv2\n",
    "import numpy as np\n",
    "import matplotlib.pyplot as plt\n",
    "import random\n",
    "\n",
    "# a method to load a pickle file \n",
    "\n",
    "def unpickle(file):\n",
    "    with open(file, 'rb') as fo:\n",
    "        dict = pickle.load(fo, encoding='bytes')\n",
    "    return dict\n",
    "\n",
    "# load train, test, and meta \n",
    "\n",
    "print(\"Loading Data..\")\n",
    "\n",
    "train_dec = unpickle('./cifar-100-python/train')\n",
    "test_dec = unpickle('./cifar-100-python/test')\n",
    "meta = unpickle('./cifar-100-python/meta')\n",
    "\n",
    "# load data and labels \n",
    "\n",
    "train_data = train_dec[b'data']\n",
    "train_labels = np.array(train_dec[b'fine_labels'])\n",
    "train_class = np.array(train_dec[b'coarse_labels'])\n",
    "\n",
    "test_data = test_dec[b'data']\n",
    "test_labels = np.array(test_dec[b'fine_labels'])\n",
    "test_class = np.array(test_dec[b'coarse_labels'])\n",
    "\n",
    "label_names = meta[b'fine_label_names']\n",
    "class_names = meta[b'coarse_label_names']"
   ]
  },
  {
   "cell_type": "code",
   "execution_count": 2,
   "metadata": {},
   "outputs": [
    {
     "name": "stdout",
     "output_type": "stream",
     "text": [
      "Shuffling Data..\n"
     ]
    }
   ],
   "source": [
    "# a method to return dataset in format [num_images,image_height,image_width,num_channels] \n",
    "def reshape(dataset):\n",
    "    return np.reshape(dataset, (-1, 3, 32, 32)).transpose((0, 2, 3, 1))\n",
    "\n",
    "# a method to shuffle dataset and labels \n",
    "def randomize(dataset, labels, classes):\n",
    "    permutation = np.random.permutation(dataset.shape[0])\n",
    "    shuffled_dataset = dataset[permutation, :, :]\n",
    "    shuffled_labels = labels[permutation]\n",
    "    shuffled_classes = classes[permutation]\n",
    "    return shuffled_dataset, shuffled_labels, shuffled_classes\n",
    "\n",
    "# reshape and shuffle \n",
    "\n",
    "print(\"Shuffling Data..\")\n",
    "\n",
    "train_data = reshape(train_data)\n",
    "test_data = reshape(test_data)\n",
    "train_data, train_labels, train_class = randomize(train_data, train_labels, train_class)"
   ]
  },
  {
   "cell_type": "code",
   "execution_count": 3,
   "metadata": {},
   "outputs": [],
   "source": [
    "# a method to sharpen the blurry images \n",
    "def sharpen(dataset):\n",
    "    # img = rgb2gray(img)     \n",
    "    kernel = (-1 / 256.0) * np.array(\n",
    "        np.asarray([[1, 4, 6, 4, 1], [4, 16, 24, 16, 4], [6, 24, -476, 24, 6], [4, 16, 24, 16, 4], [1, 4, 6, 4, 1]]))\n",
    "\n",
    "    for i in range(dataset.shape[0]):\n",
    "        dataset[i] = cv2.filter2D(dataset[i], -1, kernel)\n",
    "\n",
    "    return dataset\n",
    "\n",
    "train_data = sharpen(train_data)\n",
    "test_data = sharpen(test_data)"
   ]
  },
  {
   "cell_type": "code",
   "execution_count": 4,
   "metadata": {},
   "outputs": [
    {
     "name": "stdout",
     "output_type": "stream",
     "text": [
      "Done\n"
     ]
    }
   ],
   "source": [
    "pickle_file = 'CIFAR_100_processed.pickle'\n",
    "\n",
    "# pickle data after pre processing \n",
    "try:\n",
    "    f = open(pickle_file, 'wb')\n",
    "    save = {\n",
    "        'train_dataset': train_data,\n",
    "        'train_labels': train_labels,\n",
    "        'train_class': train_class,\n",
    "        'test_dataset': test_data,\n",
    "        'test_labels': test_labels,\n",
    "        'test_class': test_class,\n",
    "        'label_names': label_names,\n",
    "        'class_names': class_names\n",
    "    }\n",
    "    pickle.dump(save, f, pickle.HIGHEST_PROTOCOL)\n",
    "    f.close()\n",
    "    print(\"Done\")\n",
    "except Exception as e:\n",
    "    print('Unable to save data to', pickle_file, ':', e)\n",
    "    raise"
   ]
  }
 ],
 "metadata": {
  "kernelspec": {
   "display_name": "Python 3",
   "language": "python",
   "name": "python3"
  },
  "language_info": {
   "codemirror_mode": {
    "name": "ipython",
    "version": 3
   },
   "file_extension": ".py",
   "mimetype": "text/x-python",
   "name": "python",
   "nbconvert_exporter": "python",
   "pygments_lexer": "ipython3",
   "version": "3.8.6"
  }
 },
 "nbformat": 4,
 "nbformat_minor": 4
}
