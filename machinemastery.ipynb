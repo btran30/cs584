{
 "cells": [
  {
   "cell_type": "markdown",
   "metadata": {},
   "source": [
    "## Final Project"
   ]
  },
  {
   "cell_type": "code",
   "execution_count": 4,
   "metadata": {},
   "outputs": [],
   "source": [
    "import numpy as np\n",
    "import matplotlib.pyplot as plt\n",
    "from keras.utils.np_utils import to_categorical\n",
    "from keras.models import Sequential\n",
    "from keras.layers import Dense, Dropout, Flatten, Conv2D, MaxPool2D, MaxPooling2D, AvgPool2D, BatchNormalization, Reshape\n",
    "from keras.preprocessing.image import ImageDataGenerator\n",
    "from keras.callbacks import LearningRateScheduler, EarlyStopping\n",
    "from keras.optimizers import SGD\n",
    "from tensorflow.keras.losses import sparse_categorical_crossentropy\n",
    "from sklearn.metrics import accuracy_score\n",
    "from tensorflow.keras.datasets import cifar100, cifar10\n"
   ]
  },
  {
   "cell_type": "code",
   "execution_count": 9,
   "metadata": {},
   "outputs": [],
   "source": [
    "#load data \n",
    "\n",
    "(x_train, y_train), (x_test, y_test) = cifar100.load_data('fine')\n",
    "\n",
    "x_train = x_train.astype('float32')\n",
    "x_train = x_train / 255.0\n",
    "\n",
    "x_test = x_test.astype('float32')\n",
    "x_test = x_test / 255.0\n",
    "    \n",
    "# One-hot encoding for 100 classes.\n",
    "y_train = to_categorical(y_train, 100)\n",
    "y_test = to_categorical(y_test, 100)\n"
   ]
  },
  {
   "cell_type": "code",
   "execution_count": 7,
   "metadata": {},
   "outputs": [],
   "source": [
    "# plot first few images\n",
    "# for i in range(9):\n",
    "#     plt.subplot(3,3,1+i) # subplot 3 rows, 5 columns, ith subplot\n",
    "#     plt.imshow(trainX[i], cmap=plt.get_cmap('gray'))\n",
    "# plt.show()"
   ]
  },
  {
   "cell_type": "code",
   "execution_count": 6,
   "metadata": {},
   "outputs": [],
   "source": [
    "# Model \n",
    "def build_model():\n",
    "    model = Sequential()\n",
    "    model.add(Conv2D(32, (3, 3), activation='relu', input_shape=(32, 32, 3)))\n",
    "    model.add(Conv2D(32, (3, 3), activation='relu'))\n",
    "    model.add(MaxPool2D())\n",
    "    model.add(Dropout(0.2))\n",
    "    \n",
    "    model.add(Conv2D(64, (3, 3), activation='relu'))\n",
    "    model.add(Conv2D(64, (3, 3), activation='relu'))\n",
    "    model.add(MaxPool2D())\n",
    "    model.add(Dropout(0.2))\n",
    "    \n",
    "    model.add(Conv2D(128, (3, 3), activation='relu', kernel_initializer='he_uniform', padding='same'))\n",
    "    model.add(Conv2D(128, (3, 3), activation='relu', kernel_initializer='he_uniform', padding='same'))\n",
    "    model.add(MaxPool2D())\n",
    "    model.add(Dropout(0.2))\n",
    "    \n",
    "    model.add(Flatten())   \n",
    "    model.add(Dense(128, activation='relu'))\n",
    "    model.add(Dropout(0.2))\n",
    "    model.add(Dense(100, activation='softmax'))\n",
    "    opt = SGD(lr=0.001, momentum=0.9)\n",
    "    model.compile(optimizer=opt, loss='categorical_crossentropy', metrics=[\"accuracy\"])\n",
    "    return model\n",
    "    \n",
    "def diagnostics(history):\n",
    "    # plot loss\n",
    "    plt.subplot(211)\n",
    "    plt.title('Cross Entropy Loss')\n",
    "    plt.plot(history.history['loss'], color='blue', label='train')\n",
    "    plt.plot(history.history['val_loss'], color='orange', label='test')\n",
    "    # plot accuracy\n",
    "    plt.subplot(212)\n",
    "    plt.title('Classification Accuracy')\n",
    "    plt.plot(history.history['accuracy'], color='blue', label='train')\n",
    "    plt.plot(history.history['val_accuracy'], color='orange', label='test')\n",
    "\n"
   ]
  },
  {
   "cell_type": "code",
   "execution_count": 7,
   "metadata": {},
   "outputs": [
    {
     "name": "stdout",
     "output_type": "stream",
     "text": [
      "Epoch 1/60\n",
      "625/625 [==============================] - 42s 67ms/step - loss: 4.6039 - accuracy: 0.0113 - val_loss: 4.5997 - val_accuracy: 0.0114\n",
      "Epoch 2/60\n",
      "625/625 [==============================] - 45s 71ms/step - loss: 4.5703 - accuracy: 0.0154 - val_loss: 4.5195 - val_accuracy: 0.0199\n",
      "Epoch 3/60\n",
      "625/625 [==============================] - 45s 72ms/step - loss: 4.5083 - accuracy: 0.0187 - val_loss: 4.4804 - val_accuracy: 0.0221\n",
      "Epoch 4/60\n",
      "625/625 [==============================] - 45s 72ms/step - loss: 4.4817 - accuracy: 0.0204 - val_loss: 4.4508 - val_accuracy: 0.0288\n",
      "Epoch 5/60\n",
      "625/625 [==============================] - 45s 71ms/step - loss: 4.4390 - accuracy: 0.0250 - val_loss: 4.3814 - val_accuracy: 0.0288\n",
      "Epoch 6/60\n",
      "625/625 [==============================] - 45s 71ms/step - loss: 4.3769 - accuracy: 0.0292 - val_loss: 4.3259 - val_accuracy: 0.0362\n",
      "Epoch 7/60\n",
      "625/625 [==============================] - 43s 69ms/step - loss: 4.3059 - accuracy: 0.0379 - val_loss: 4.2367 - val_accuracy: 0.0580\n",
      "Epoch 8/60\n",
      "625/625 [==============================] - 46s 74ms/step - loss: 4.2317 - accuracy: 0.0486 - val_loss: 4.1520 - val_accuracy: 0.0681\n",
      "Epoch 9/60\n",
      "625/625 [==============================] - 44s 70ms/step - loss: 4.1652 - accuracy: 0.0582 - val_loss: 4.0675 - val_accuracy: 0.0790\n",
      "Epoch 10/60\n",
      "625/625 [==============================] - 45s 71ms/step - loss: 4.0908 - accuracy: 0.0679 - val_loss: 4.0091 - val_accuracy: 0.0884\n",
      "Epoch 11/60\n",
      "625/625 [==============================] - 46s 73ms/step - loss: 4.0315 - accuracy: 0.0757 - val_loss: 3.9287 - val_accuracy: 0.0994\n",
      "Epoch 12/60\n",
      "625/625 [==============================] - 45s 72ms/step - loss: 3.9699 - accuracy: 0.0838 - val_loss: 3.8992 - val_accuracy: 0.1111\n",
      "Epoch 13/60\n",
      "625/625 [==============================] - 46s 73ms/step - loss: 3.9116 - accuracy: 0.0945 - val_loss: 3.8272 - val_accuracy: 0.1165\n",
      "Epoch 14/60\n",
      "625/625 [==============================] - 46s 73ms/step - loss: 3.8662 - accuracy: 0.1028 - val_loss: 3.7498 - val_accuracy: 0.1298\n",
      "Epoch 15/60\n",
      "625/625 [==============================] - 46s 73ms/step - loss: 3.8168 - accuracy: 0.1111 - val_loss: 3.7235 - val_accuracy: 0.1359\n",
      "Epoch 16/60\n",
      "625/625 [==============================] - 46s 73ms/step - loss: 3.7761 - accuracy: 0.1177 - val_loss: 3.7032 - val_accuracy: 0.1344\n",
      "Epoch 17/60\n",
      "625/625 [==============================] - 46s 74ms/step - loss: 3.7223 - accuracy: 0.1271 - val_loss: 3.6200 - val_accuracy: 0.1523\n",
      "Epoch 18/60\n",
      "625/625 [==============================] - 46s 74ms/step - loss: 3.6746 - accuracy: 0.1355 - val_loss: 3.5916 - val_accuracy: 0.1650\n",
      "Epoch 19/60\n",
      "625/625 [==============================] - 45s 72ms/step - loss: 3.6369 - accuracy: 0.1408 - val_loss: 3.5322 - val_accuracy: 0.1679\n",
      "Epoch 20/60\n",
      "625/625 [==============================] - 44s 71ms/step - loss: 3.5930 - accuracy: 0.1477 - val_loss: 3.4987 - val_accuracy: 0.1775\n",
      "Epoch 21/60\n",
      "625/625 [==============================] - 43s 69ms/step - loss: 3.5577 - accuracy: 0.1546 - val_loss: 3.4356 - val_accuracy: 0.1804\n",
      "Epoch 22/60\n",
      "625/625 [==============================] - 43s 69ms/step - loss: 3.5144 - accuracy: 0.1635 - val_loss: 3.4082 - val_accuracy: 0.1864\n",
      "Epoch 23/60\n",
      "625/625 [==============================] - 44s 71ms/step - loss: 3.4805 - accuracy: 0.1713 - val_loss: 3.3654 - val_accuracy: 0.1968\n",
      "Epoch 24/60\n",
      "625/625 [==============================] - 44s 71ms/step - loss: 3.4481 - accuracy: 0.1749 - val_loss: 3.3421 - val_accuracy: 0.1992\n",
      "Epoch 25/60\n",
      "625/625 [==============================] - 45s 72ms/step - loss: 3.4030 - accuracy: 0.1805 - val_loss: 3.3016 - val_accuracy: 0.2117\n",
      "Epoch 26/60\n",
      "625/625 [==============================] - 46s 73ms/step - loss: 3.3766 - accuracy: 0.1881 - val_loss: 3.2734 - val_accuracy: 0.2136\n",
      "Epoch 27/60\n",
      "625/625 [==============================] - 45s 72ms/step - loss: 3.3402 - accuracy: 0.1972 - val_loss: 3.2452 - val_accuracy: 0.2200\n",
      "Epoch 28/60\n",
      "625/625 [==============================] - 45s 72ms/step - loss: 3.3081 - accuracy: 0.2007 - val_loss: 3.2066 - val_accuracy: 0.2219\n",
      "Epoch 29/60\n",
      "625/625 [==============================] - 45s 73ms/step - loss: 3.2825 - accuracy: 0.2053 - val_loss: 3.1893 - val_accuracy: 0.2277\n",
      "Epoch 30/60\n",
      "625/625 [==============================] - 45s 72ms/step - loss: 3.2521 - accuracy: 0.2087 - val_loss: 3.1676 - val_accuracy: 0.2343\n",
      "Epoch 31/60\n",
      "625/625 [==============================] - 45s 71ms/step - loss: 3.2166 - accuracy: 0.2174 - val_loss: 3.1562 - val_accuracy: 0.2324\n",
      "Epoch 32/60\n",
      "625/625 [==============================] - 45s 73ms/step - loss: 3.1864 - accuracy: 0.2220 - val_loss: 3.1088 - val_accuracy: 0.2466\n",
      "Epoch 33/60\n",
      "625/625 [==============================] - 45s 71ms/step - loss: 3.1621 - accuracy: 0.2259 - val_loss: 3.0801 - val_accuracy: 0.2513\n",
      "Epoch 34/60\n",
      "625/625 [==============================] - 45s 72ms/step - loss: 3.1347 - accuracy: 0.2288 - val_loss: 3.0517 - val_accuracy: 0.2530\n",
      "Epoch 35/60\n",
      "625/625 [==============================] - 46s 73ms/step - loss: 3.1033 - accuracy: 0.2388 - val_loss: 3.0289 - val_accuracy: 0.2628\n",
      "Epoch 36/60\n",
      "625/625 [==============================] - 45s 73ms/step - loss: 3.0830 - accuracy: 0.2415 - val_loss: 3.0071 - val_accuracy: 0.2622\n",
      "Epoch 37/60\n",
      "625/625 [==============================] - 45s 72ms/step - loss: 3.0539 - accuracy: 0.2465 - val_loss: 2.9575 - val_accuracy: 0.2752\n",
      "Epoch 38/60\n",
      "625/625 [==============================] - 45s 72ms/step - loss: 3.0224 - accuracy: 0.2496 - val_loss: 2.9536 - val_accuracy: 0.2763\n",
      "Epoch 39/60\n",
      "625/625 [==============================] - 46s 73ms/step - loss: 3.0054 - accuracy: 0.2544 - val_loss: 2.9080 - val_accuracy: 0.2833\n",
      "Epoch 40/60\n",
      "625/625 [==============================] - 47s 75ms/step - loss: 2.9809 - accuracy: 0.2586 - val_loss: 2.8865 - val_accuracy: 0.2938\n",
      "Epoch 41/60\n",
      "625/625 [==============================] - 43s 69ms/step - loss: 2.9483 - accuracy: 0.2653 - val_loss: 2.8698 - val_accuracy: 0.2941\n",
      "Epoch 42/60\n",
      "625/625 [==============================] - 44s 71ms/step - loss: 2.9389 - accuracy: 0.2668 - val_loss: 2.8586 - val_accuracy: 0.2975\n",
      "Epoch 43/60\n",
      "625/625 [==============================] - 45s 72ms/step - loss: 2.9122 - accuracy: 0.2738 - val_loss: 2.8539 - val_accuracy: 0.2982\n",
      "Epoch 44/60\n",
      "625/625 [==============================] - 45s 72ms/step - loss: 2.8891 - accuracy: 0.2776 - val_loss: 2.8189 - val_accuracy: 0.3058\n",
      "Epoch 45/60\n",
      "625/625 [==============================] - 44s 70ms/step - loss: 2.8689 - accuracy: 0.2811 - val_loss: 2.8041 - val_accuracy: 0.3062\n",
      "Epoch 46/60\n",
      "625/625 [==============================] - 44s 70ms/step - loss: 2.8457 - accuracy: 0.2842 - val_loss: 2.7668 - val_accuracy: 0.3157\n",
      "Epoch 47/60\n",
      "625/625 [==============================] - 43s 69ms/step - loss: 2.8220 - accuracy: 0.2904 - val_loss: 2.7830 - val_accuracy: 0.3094\n",
      "Epoch 48/60\n",
      "625/625 [==============================] - 43s 69ms/step - loss: 2.7939 - accuracy: 0.2929 - val_loss: 2.7217 - val_accuracy: 0.3226\n",
      "Epoch 49/60\n",
      "625/625 [==============================] - 45s 72ms/step - loss: 2.7809 - accuracy: 0.2966 - val_loss: 2.6968 - val_accuracy: 0.3314\n",
      "Epoch 50/60\n",
      "625/625 [==============================] - 45s 72ms/step - loss: 2.7648 - accuracy: 0.3018 - val_loss: 2.7385 - val_accuracy: 0.3230\n",
      "Epoch 51/60\n",
      "625/625 [==============================] - 44s 70ms/step - loss: 2.7478 - accuracy: 0.3032 - val_loss: 2.6878 - val_accuracy: 0.3278\n",
      "Epoch 52/60\n",
      "625/625 [==============================] - 45s 72ms/step - loss: 2.7238 - accuracy: 0.3103 - val_loss: 2.6564 - val_accuracy: 0.3323\n",
      "Epoch 53/60\n",
      "625/625 [==============================] - 45s 72ms/step - loss: 2.7064 - accuracy: 0.3135 - val_loss: 2.6545 - val_accuracy: 0.3337\n",
      "Epoch 54/60\n",
      "625/625 [==============================] - 46s 74ms/step - loss: 2.6783 - accuracy: 0.3198 - val_loss: 2.6401 - val_accuracy: 0.3417\n",
      "Epoch 55/60\n",
      "625/625 [==============================] - 45s 71ms/step - loss: 2.6701 - accuracy: 0.3211 - val_loss: 2.6438 - val_accuracy: 0.3410\n",
      "Epoch 56/60\n",
      "625/625 [==============================] - 43s 69ms/step - loss: 2.6503 - accuracy: 0.3214 - val_loss: 2.6029 - val_accuracy: 0.3424\n",
      "Epoch 57/60\n",
      "625/625 [==============================] - 43s 69ms/step - loss: 2.6281 - accuracy: 0.3296 - val_loss: 2.5971 - val_accuracy: 0.3436\n",
      "Epoch 58/60\n",
      "625/625 [==============================] - 43s 69ms/step - loss: 2.6142 - accuracy: 0.3326 - val_loss: 2.5784 - val_accuracy: 0.3523\n",
      "Epoch 59/60\n",
      "625/625 [==============================] - 43s 69ms/step - loss: 2.5928 - accuracy: 0.3331 - val_loss: 2.5596 - val_accuracy: 0.3501\n",
      "Epoch 60/60\n",
      "625/625 [==============================] - 43s 69ms/step - loss: 2.5747 - accuracy: 0.3390 - val_loss: 2.5552 - val_accuracy: 0.3564\n",
      "Saving Model...\n"
     ]
    }
   ],
   "source": [
    "\n",
    "model = build_model()\n",
    "history = model.fit(x_train, y_train, epochs=100, batch_size=64, validation_data(x_test, y_test), verbose=1)\n",
    "# Save Model\n",
    "print('Saving Model...')\n",
    "\n",
    "model.save(\"m1.h5\")"
   ]
  },
  {
   "cell_type": "code",
   "execution_count": 8,
   "metadata": {},
   "outputs": [
    {
     "name": "stdout",
     "output_type": "stream",
     "text": [
      "> 34.870\n"
     ]
    },
    {
     "data": {
      "image/png": "[encoded data removed]",
      "text/plain": [
       "<Figure size 432x288 with 2 Axes>"
      ]
     },
     "metadata": {
      "needs_background": "light"
     },
     "output_type": "display_data"
    }
   ],
   "source": [
    "# evaluate model\n",
    "_, acc = model.evaluate(x_test, y_test, verbose=0)\n",
    "print('> %.3f' % (acc * 100.0))\n",
    "# learning curves\n",
    "diagnostics(history)"
   ]
  },
  {
   "cell_type": "code",
   "execution_count": null,
   "metadata": {},
   "outputs": [],
   "source": []
  },
  {
   "cell_type": "code",
   "execution_count": null,
   "metadata": {},
   "outputs": [],
   "source": []
  }
 ],
 "metadata": {
  "kernelspec": {
   "display_name": "Python 3",
   "language": "python",
   "name": "python3"
  },
  "language_info": {
   "codemirror_mode": {
    "name": "ipython",
    "version": 3
   },
   "file_extension": ".py",
   "mimetype": "text/x-python",
   "name": "python",
   "nbconvert_exporter": "python",
   "pygments_lexer": "ipython3",
   "version": "3.8.5"
  }
 },
 "nbformat": 4,
 "nbformat_minor": 4
}
