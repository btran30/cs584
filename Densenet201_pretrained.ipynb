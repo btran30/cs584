{
  "nbformat": 4,
  "nbformat_minor": 0,
  "metadata": {
    "kernelspec": {
      "display_name": "Python 3",
      "language": "python",
      "name": "python3"
    },
    "language_info": {
      "codemirror_mode": {
        "name": "ipython",
        "version": 3
      },
      "file_extension": ".py",
      "mimetype": "text/x-python",
      "name": "python",
      "nbconvert_exporter": "python",
      "pygments_lexer": "ipython3",
      "version": "3.8.5"
    },
    "colab": {
      "name": "Densenet201.ipynb",
      "provenance": []
    },
    "accelerator": "GPU"
  },
  "cells": [
    {
      "cell_type": "code",
      "metadata": {
        "id": "X5PR0RkJIRus",
        "outputId": "5bd2ece4-270f-462b-e8fb-1dbe28b687e1",
        "colab": {
          "base_uri": "https://localhost:8080/"
        }
      },
      "source": [
        "import tensorflow \n",
        "\n",
        "import pandas as pd\n",
        "import numpy as np\n",
        "import os\n",
        "import keras\n",
        "import random\n",
        "import cv2\n",
        "import math\n",
        "import seaborn as sns\n",
        "from matplotlib import pyplot\n",
        "from sklearn.metrics import confusion_matrix\n",
        "from sklearn.preprocessing import LabelBinarizer\n",
        "from sklearn.model_selection import train_test_split\n",
        "\n",
        "import matplotlib.pyplot as plt\n",
        "\n",
        "from keras.utils.np_utils import to_categorical\n",
        "from tensorflow.keras.layers import Dense,GlobalAveragePooling2D,Convolution2D,BatchNormalization,Activation\n",
        "from tensorflow.keras.layers import Flatten,MaxPooling2D,Dropout\n",
        "from tensorflow.keras.applications import DenseNet201\n",
        "from tensorflow.keras.applications.densenet import preprocess_input\n",
        "\n",
        "from tensorflow.keras.preprocessing import image\n",
        "from tensorflow.keras.preprocessing.image import ImageDataGenerator,img_to_array\n",
        "from tensorflow.keras.models import Model\n",
        "from tensorflow.keras.optimizers import Adam,SGD\n",
        "from tensorflow.keras.callbacks import ModelCheckpoint, ReduceLROnPlateau\n",
        "\n",
        "import warnings\n",
        "warnings.filterwarnings(\"ignore\")\n",
        "\n",
        "print(\"Tensorflow-version:\", tensorflow.__version__)"
      ],
      "execution_count": 2,
      "outputs": [
        {
          "output_type": "stream",
          "text": [
            "Tensorflow-version: 2.3.0\n"
          ],
          "name": "stdout"
        }
      ]
    },
    {
      "cell_type": "code",
      "metadata": {
        "id": "3VlBx-CrIRu6",
        "outputId": "b944b15c-1128-4fde-a73e-eebf13456df5",
        "colab": {
          "base_uri": "https://localhost:8080/"
        }
      },
      "source": [
        "(x_train, y_train), (x_test, y_test) = tensorflow.keras.datasets.cifar100.load_data()\n",
        "\n",
        "# One-hot encoding for 100 classes.\n",
        "y_train = to_categorical(y_train, 100)\n",
        "y_test = to_categorical(y_test, 100)\n",
        "\n",
        "print('Train: X=%s, y=%s' % (x_train.shape, y_train.shape))\n",
        "print('Test: X=%s, y=%s' % (x_test.shape, y_test.shape))"
      ],
      "execution_count": 3,
      "outputs": [
        {
          "output_type": "stream",
          "text": [
            "Downloading data from https://www.cs.toronto.edu/~kriz/cifar-100-python.tar.gz\n",
            "169009152/169001437 [==============================] - 4s 0us/step\n",
            "Train: X=(50000, 32, 32, 3), y=(50000, 100)\n",
            "Test: X=(10000, 32, 32, 3), y=(10000, 100)\n"
          ],
          "name": "stdout"
        }
      ]
    },
    {
      "cell_type": "markdown",
      "metadata": {
        "id": "B2vrvDCpIRvI"
      },
      "source": [
        "### DenseNet 201 Model"
      ]
    },
    {
      "cell_type": "markdown",
      "metadata": {
        "id": "sN58miu4IRvK"
      },
      "source": [
        "#### We utilize ImageDataGenerator to augment our input data. This should help us avoid overfitting."
      ]
    },
    {
      "cell_type": "code",
      "metadata": {
        "id": "haNwawnDIRvN",
        "outputId": "7a2d4483-94fa-4e81-9ab9-088a645c861a",
        "colab": {
          "base_uri": "https://localhost:8080/"
        }
      },
      "source": [
        "input_shape=(32,32,3)\n",
        "model_d=DenseNet201(weights='imagenet',include_top=False, input_shape=input_shape) \n",
        "\n",
        "x=model_d.output\n",
        "\n",
        "x= BatchNormalization()(x)\n",
        "x= Activation('relu')(x)\n",
        "x= GlobalAveragePooling2D()(x)\n",
        "\n",
        "preds=Dense(100,activation='softmax')(x) #FC-layer\n",
        "\n",
        "model=Model(inputs=model_d.input, outputs=preds)\n",
        "\n",
        "#model.summary()\n",
        "#tf.keras.utils.plot_model( model , show_shapes=True )\n",
        "\n",
        "sgd = SGD(lr=1e-3, decay=1e-6, momentum=0.9, nesterov=True)\n",
        "model.compile(optimizer=sgd, loss='categorical_crossentropy', metrics=['accuracy', 'top_k_categorical_accuracy'])\n",
        "\n",
        "batch_size = 128\n",
        "epochs = 20\n",
        "\n",
        "anne = ReduceLROnPlateau(monitor='val_accuracy', factor=0.5, patience=5, verbose=1, min_lr=1e-3)\n",
        "checkpoint = ModelCheckpoint('m_densenet201.h5', verbose=1, save_best_only=True)\n",
        "\n",
        "datagen = ImageDataGenerator(zoom_range = 0.2, horizontal_flip=True, shear_range=0.2)\n",
        "\n",
        "datagen.fit(x_train)\n",
        "# Fits-the-model\n",
        "history = model.fit(datagen.flow(x_train, y_train, batch_size=batch_size),\n",
        "               steps_per_epoch=x_train.shape[0] // batch_size,\n",
        "               epochs=epochs,\n",
        "               verbose=1,\n",
        "               callbacks=[anne, checkpoint],\n",
        "               validation_data=(x_test, y_test))\n",
        "\n",
        "#model.save(\"m_densenet201.h5\")"
      ],
      "execution_count": 12,
      "outputs": [
        {
          "output_type": "stream",
          "text": [
            "Epoch 1/20\n",
            "390/390 [==============================] - ETA: 0s - loss: 3.4529 - accuracy: 0.2255 - top_k_categorical_accuracy: 0.4521\n",
            "Epoch 00001: val_loss improved from inf to 2.64269, saving model to m_densenet201.h5\n",
            "390/390 [==============================] - 48s 123ms/step - loss: 3.4529 - accuracy: 0.2255 - top_k_categorical_accuracy: 0.4521 - val_loss: 2.6427 - val_accuracy: 0.3676 - val_top_k_categorical_accuracy: 0.6637\n",
            "Epoch 2/20\n",
            "390/390 [==============================] - ETA: 0s - loss: 2.1876 - accuracy: 0.4378 - top_k_categorical_accuracy: 0.7451\n",
            "Epoch 00002: val_loss improved from 2.64269 to 2.00794, saving model to m_densenet201.h5\n",
            "390/390 [==============================] - 47s 120ms/step - loss: 2.1876 - accuracy: 0.4378 - top_k_categorical_accuracy: 0.7451 - val_loss: 2.0079 - val_accuracy: 0.4713 - val_top_k_categorical_accuracy: 0.7717\n",
            "Epoch 3/20\n",
            "390/390 [==============================] - ETA: 0s - loss: 1.7539 - accuracy: 0.5299 - top_k_categorical_accuracy: 0.8237\n",
            "Epoch 00003: val_loss improved from 2.00794 to 1.90552, saving model to m_densenet201.h5\n",
            "390/390 [==============================] - 47s 121ms/step - loss: 1.7539 - accuracy: 0.5299 - top_k_categorical_accuracy: 0.8237 - val_loss: 1.9055 - val_accuracy: 0.4911 - val_top_k_categorical_accuracy: 0.7916\n",
            "Epoch 4/20\n",
            "390/390 [==============================] - ETA: 0s - loss: 1.5035 - accuracy: 0.5884 - top_k_categorical_accuracy: 0.8637\n",
            "Epoch 00004: val_loss improved from 1.90552 to 1.65926, saving model to m_densenet201.h5\n",
            "390/390 [==============================] - 46s 117ms/step - loss: 1.5035 - accuracy: 0.5884 - top_k_categorical_accuracy: 0.8637 - val_loss: 1.6593 - val_accuracy: 0.5484 - val_top_k_categorical_accuracy: 0.8274\n",
            "Epoch 5/20\n",
            "390/390 [==============================] - ETA: 0s - loss: 1.3187 - accuracy: 0.6321 - top_k_categorical_accuracy: 0.8901\n",
            "Epoch 00005: val_loss improved from 1.65926 to 1.50868, saving model to m_densenet201.h5\n",
            "390/390 [==============================] - 46s 119ms/step - loss: 1.3187 - accuracy: 0.6321 - top_k_categorical_accuracy: 0.8901 - val_loss: 1.5087 - val_accuracy: 0.5821 - val_top_k_categorical_accuracy: 0.8552\n",
            "Epoch 6/20\n",
            "390/390 [==============================] - ETA: 0s - loss: 1.1756 - accuracy: 0.6695 - top_k_categorical_accuracy: 0.9107\n",
            "Epoch 00006: val_loss did not improve from 1.50868\n",
            "390/390 [==============================] - 45s 116ms/step - loss: 1.1756 - accuracy: 0.6695 - top_k_categorical_accuracy: 0.9107 - val_loss: 1.6584 - val_accuracy: 0.5532 - val_top_k_categorical_accuracy: 0.8301\n",
            "Epoch 7/20\n",
            "390/390 [==============================] - ETA: 0s - loss: 1.0493 - accuracy: 0.7019 - top_k_categorical_accuracy: 0.9276\n",
            "Epoch 00007: val_loss improved from 1.50868 to 1.48365, saving model to m_densenet201.h5\n",
            "390/390 [==============================] - 47s 120ms/step - loss: 1.0493 - accuracy: 0.7019 - top_k_categorical_accuracy: 0.9276 - val_loss: 1.4836 - val_accuracy: 0.5940 - val_top_k_categorical_accuracy: 0.8608\n",
            "Epoch 8/20\n",
            "390/390 [==============================] - ETA: 0s - loss: 0.9517 - accuracy: 0.7304 - top_k_categorical_accuracy: 0.9410\n",
            "Epoch 00008: val_loss improved from 1.48365 to 1.43330, saving model to m_densenet201.h5\n",
            "390/390 [==============================] - 48s 123ms/step - loss: 0.9517 - accuracy: 0.7304 - top_k_categorical_accuracy: 0.9410 - val_loss: 1.4333 - val_accuracy: 0.6023 - val_top_k_categorical_accuracy: 0.8690\n",
            "Epoch 9/20\n",
            "390/390 [==============================] - ETA: 0s - loss: 0.8510 - accuracy: 0.7580 - top_k_categorical_accuracy: 0.9526\n",
            "Epoch 00009: val_loss improved from 1.43330 to 1.42545, saving model to m_densenet201.h5\n",
            "390/390 [==============================] - 48s 122ms/step - loss: 0.8510 - accuracy: 0.7580 - top_k_categorical_accuracy: 0.9526 - val_loss: 1.4255 - val_accuracy: 0.6081 - val_top_k_categorical_accuracy: 0.8703\n",
            "Epoch 10/20\n",
            "390/390 [==============================] - ETA: 0s - loss: 0.7582 - accuracy: 0.7856 - top_k_categorical_accuracy: 0.9608\n",
            "Epoch 00010: val_loss improved from 1.42545 to 1.40804, saving model to m_densenet201.h5\n",
            "390/390 [==============================] - 48s 122ms/step - loss: 0.7582 - accuracy: 0.7856 - top_k_categorical_accuracy: 0.9608 - val_loss: 1.4080 - val_accuracy: 0.6134 - val_top_k_categorical_accuracy: 0.8752\n",
            "Epoch 11/20\n",
            "390/390 [==============================] - ETA: 0s - loss: 0.6873 - accuracy: 0.8051 - top_k_categorical_accuracy: 0.9684\n",
            "Epoch 00011: val_loss did not improve from 1.40804\n",
            "390/390 [==============================] - 46s 117ms/step - loss: 0.6873 - accuracy: 0.8051 - top_k_categorical_accuracy: 0.9684 - val_loss: 1.4259 - val_accuracy: 0.6147 - val_top_k_categorical_accuracy: 0.8703\n",
            "Epoch 12/20\n",
            "390/390 [==============================] - ETA: 0s - loss: 0.6098 - accuracy: 0.8297 - top_k_categorical_accuracy: 0.9755\n",
            "Epoch 00012: val_loss improved from 1.40804 to 1.40149, saving model to m_densenet201.h5\n",
            "390/390 [==============================] - 49s 126ms/step - loss: 0.6098 - accuracy: 0.8297 - top_k_categorical_accuracy: 0.9755 - val_loss: 1.4015 - val_accuracy: 0.6248 - val_top_k_categorical_accuracy: 0.8759\n",
            "Epoch 13/20\n",
            "390/390 [==============================] - ETA: 0s - loss: 0.5428 - accuracy: 0.8502 - top_k_categorical_accuracy: 0.9812\n",
            "Epoch 00013: val_loss did not improve from 1.40149\n",
            "390/390 [==============================] - 48s 123ms/step - loss: 0.5428 - accuracy: 0.8502 - top_k_categorical_accuracy: 0.9812 - val_loss: 1.4579 - val_accuracy: 0.6117 - val_top_k_categorical_accuracy: 0.8716\n",
            "Epoch 14/20\n",
            "390/390 [==============================] - ETA: 0s - loss: 0.4914 - accuracy: 0.8656 - top_k_categorical_accuracy: 0.9845\n",
            "Epoch 00014: val_loss did not improve from 1.40149\n",
            "390/390 [==============================] - 47s 120ms/step - loss: 0.4914 - accuracy: 0.8656 - top_k_categorical_accuracy: 0.9845 - val_loss: 1.4183 - val_accuracy: 0.6254 - val_top_k_categorical_accuracy: 0.8766\n",
            "Epoch 15/20\n",
            "390/390 [==============================] - ETA: 0s - loss: 0.4313 - accuracy: 0.8827 - top_k_categorical_accuracy: 0.9887\n",
            "Epoch 00015: val_loss did not improve from 1.40149\n",
            "390/390 [==============================] - 47s 121ms/step - loss: 0.4313 - accuracy: 0.8827 - top_k_categorical_accuracy: 0.9887 - val_loss: 1.4273 - val_accuracy: 0.6287 - val_top_k_categorical_accuracy: 0.8761\n",
            "Epoch 16/20\n",
            "390/390 [==============================] - ETA: 0s - loss: 0.3849 - accuracy: 0.8980 - top_k_categorical_accuracy: 0.9912\n",
            "Epoch 00016: val_loss did not improve from 1.40149\n",
            "390/390 [==============================] - 46s 119ms/step - loss: 0.3849 - accuracy: 0.8980 - top_k_categorical_accuracy: 0.9912 - val_loss: 1.4084 - val_accuracy: 0.6314 - val_top_k_categorical_accuracy: 0.8774\n",
            "Epoch 17/20\n",
            "390/390 [==============================] - ETA: 0s - loss: 0.3405 - accuracy: 0.9117 - top_k_categorical_accuracy: 0.9934\n",
            "Epoch 00017: val_loss did not improve from 1.40149\n",
            "390/390 [==============================] - 47s 122ms/step - loss: 0.3405 - accuracy: 0.9117 - top_k_categorical_accuracy: 0.9934 - val_loss: 1.4227 - val_accuracy: 0.6301 - val_top_k_categorical_accuracy: 0.8777\n",
            "Epoch 18/20\n",
            "390/390 [==============================] - ETA: 0s - loss: 0.3079 - accuracy: 0.9211 - top_k_categorical_accuracy: 0.9948\n",
            "Epoch 00018: val_loss did not improve from 1.40149\n",
            "390/390 [==============================] - 47s 121ms/step - loss: 0.3079 - accuracy: 0.9211 - top_k_categorical_accuracy: 0.9948 - val_loss: 1.4337 - val_accuracy: 0.6347 - val_top_k_categorical_accuracy: 0.8778\n",
            "Epoch 19/20\n",
            "390/390 [==============================] - ETA: 0s - loss: 0.2696 - accuracy: 0.9335 - top_k_categorical_accuracy: 0.9960\n",
            "Epoch 00019: val_loss did not improve from 1.40149\n",
            "390/390 [==============================] - 48s 122ms/step - loss: 0.2696 - accuracy: 0.9335 - top_k_categorical_accuracy: 0.9960 - val_loss: 1.4374 - val_accuracy: 0.6340 - val_top_k_categorical_accuracy: 0.8806\n",
            "Epoch 20/20\n",
            "390/390 [==============================] - ETA: 0s - loss: 0.2404 - accuracy: 0.9409 - top_k_categorical_accuracy: 0.9970\n",
            "Epoch 00020: val_loss did not improve from 1.40149\n",
            "390/390 [==============================] - 47s 121ms/step - loss: 0.2404 - accuracy: 0.9409 - top_k_categorical_accuracy: 0.9970 - val_loss: 1.4785 - val_accuracy: 0.6304 - val_top_k_categorical_accuracy: 0.8756\n"
          ],
          "name": "stdout"
        }
      ]
    },
    {
      "cell_type": "code",
      "metadata": {
        "id": "mi4V0oTMIRvb",
        "outputId": "ee82edea-d091-402e-8824-0c22736ee359",
        "colab": {
          "base_uri": "https://localhost:8080/",
          "height": 281
        }
      },
      "source": [
        "def summarize_diagnostics(history):\n",
        "    # plot loss\n",
        "    pyplot.subplot(211)\n",
        "    pyplot.title('Cross Entropy Loss')\n",
        "    pyplot.plot(history.history['loss'], color='blue', label='train')\n",
        "    pyplot.plot(history.history['val_loss'], color='orange', label='test')\n",
        "    \n",
        "    # plot accuracy\n",
        "    pyplot.subplot(212)\n",
        "    pyplot.title('Classification Accuracy')\n",
        "    pyplot.plot(history.history['accuracy'], color='blue', label='train')\n",
        "    pyplot.plot(history.history['val_accuracy'], color='orange', label='test')\n",
        "    \n",
        "    # save plot to file\n",
        "    filename = \"DenseNet201_Pretrained\"\n",
        "    pyplot.savefig(filename + '_plot.png')\n",
        "    #pyplot.close()\n",
        "\n",
        "summarize_diagnostics(history)"
      ],
      "execution_count": 18,
      "outputs": [
        {
          "output_type": "display_data",
          "data": {
            "image/png": "[encoded data removed]",
            "text/plain": [
              "<Figure size 432x288 with 2 Axes>"
            ]
          },
          "metadata": {
            "tags": [],
            "needs_background": "light"
          }
        }
      ]
    },
    {
      "cell_type": "code",
      "metadata": {
        "id": "GcwQ3p-eaRaT"
      },
      "source": [
        "summarize_diagnostics(history)"
      ],
      "execution_count": 14,
      "outputs": []
    },
    {
      "cell_type": "markdown",
      "metadata": {
        "id": "SYnCGskcIRvr"
      },
      "source": [
        "### Final Prediciton"
      ]
    },
    {
      "cell_type": "code",
      "metadata": {
        "id": "IUBmodrLIRvs",
        "outputId": "f0cb7a9f-a5e5-43dd-d708-61ba0f1a507e",
        "colab": {
          "base_uri": "https://localhost:8080/"
        }
      },
      "source": [
        "ypred = model.predict(x_test)\n",
        "\n",
        "total = 0\n",
        "accurate = 0\n",
        "accurateindex = []\n",
        "wrongindex = []\n",
        "\n",
        "for i in range(len(ypred)):\n",
        "    if np.argmax(ypred[i]) == np.argmax(y_test[i]):\n",
        "        accurate += 1\n",
        "        accurateindex.append(i)\n",
        "    else:\n",
        "        wrongindex.append(i)\n",
        "        \n",
        "    total += 1\n",
        "    \n",
        "print('Total-test-data;', total, '\\taccurately-predicted-data:', accurate, '\\t wrongly-predicted-data: ', total - accurate)\n",
        "print('Accuracy:', round(accurate/total*100, 3), '%')"
      ],
      "execution_count": 6,
      "outputs": [
        {
          "output_type": "stream",
          "text": [
            "Total-test-data; 10000 \taccurately-predicted-data: 6510 \t wrongly-predicted-data:  3490\n",
            "Accuracy: 65.1 %\n"
          ],
          "name": "stdout"
        }
      ]
    },
    {
      "cell_type": "code",
      "metadata": {
        "id": "Y6yiGs1VIRwB",
        "outputId": "9cab41b9-ce89-4761-f287-f7311412d767",
        "colab": {
          "base_uri": "https://localhost:8080/",
          "height": 249
        }
      },
      "source": [
        "Ypred = model.predict(x_test)\n",
        "\n",
        "Ypred = np.argmax(Ypred, axis=1)\n",
        "Ytrue = np.argmax(y_test, axis=1)\n",
        "\n",
        "cm = confusion_matrix(Ytrue, Ypred)\n",
        "plt.figure(figsize=(12, 12))\n",
        "ax = sns.heatmap(cm, cmap=\"rocket_r\", fmt=\".01f\",annot_kws={'size':16}, annot=True, square=True, xticklabels=label, yticklabels=label)\n",
        "ax.set_ylabel('Actual', fontsize=20)\n",
        "ax.set_xlabel('Predicted', fontsize=20)"
      ],
      "execution_count": 7,
      "outputs": [
        {
          "output_type": "error",
          "ename": "NameError",
          "evalue": "ignored",
          "traceback": [
            "\u001b[0;31m---------------------------------------------------------------------------\u001b[0m",
            "\u001b[0;31mNameError\u001b[0m                                 Traceback (most recent call last)",
            "\u001b[0;32m<ipython-input-7-aa9d1534dc7e>\u001b[0m in \u001b[0;36m<module>\u001b[0;34m()\u001b[0m\n\u001b[1;32m      6\u001b[0m \u001b[0mcm\u001b[0m \u001b[0;34m=\u001b[0m \u001b[0mconfusion_matrix\u001b[0m\u001b[0;34m(\u001b[0m\u001b[0mYtrue\u001b[0m\u001b[0;34m,\u001b[0m \u001b[0mYpred\u001b[0m\u001b[0;34m)\u001b[0m\u001b[0;34m\u001b[0m\u001b[0;34m\u001b[0m\u001b[0m\n\u001b[1;32m      7\u001b[0m \u001b[0mplt\u001b[0m\u001b[0;34m.\u001b[0m\u001b[0mfigure\u001b[0m\u001b[0;34m(\u001b[0m\u001b[0mfigsize\u001b[0m\u001b[0;34m=\u001b[0m\u001b[0;34m(\u001b[0m\u001b[0;36m12\u001b[0m\u001b[0;34m,\u001b[0m \u001b[0;36m12\u001b[0m\u001b[0;34m)\u001b[0m\u001b[0;34m)\u001b[0m\u001b[0;34m\u001b[0m\u001b[0;34m\u001b[0m\u001b[0m\n\u001b[0;32m----> 8\u001b[0;31m \u001b[0max\u001b[0m \u001b[0;34m=\u001b[0m \u001b[0msns\u001b[0m\u001b[0;34m.\u001b[0m\u001b[0mheatmap\u001b[0m\u001b[0;34m(\u001b[0m\u001b[0mcm\u001b[0m\u001b[0;34m,\u001b[0m \u001b[0mcmap\u001b[0m\u001b[0;34m=\u001b[0m\u001b[0;34m\"rocket_r\"\u001b[0m\u001b[0;34m,\u001b[0m \u001b[0mfmt\u001b[0m\u001b[0;34m=\u001b[0m\u001b[0;34m\".01f\"\u001b[0m\u001b[0;34m,\u001b[0m\u001b[0mannot_kws\u001b[0m\u001b[0;34m=\u001b[0m\u001b[0;34m{\u001b[0m\u001b[0;34m'size'\u001b[0m\u001b[0;34m:\u001b[0m\u001b[0;36m16\u001b[0m\u001b[0;34m}\u001b[0m\u001b[0;34m,\u001b[0m \u001b[0mannot\u001b[0m\u001b[0;34m=\u001b[0m\u001b[0;32mTrue\u001b[0m\u001b[0;34m,\u001b[0m \u001b[0msquare\u001b[0m\u001b[0;34m=\u001b[0m\u001b[0;32mTrue\u001b[0m\u001b[0;34m,\u001b[0m \u001b[0mxticklabels\u001b[0m\u001b[0;34m=\u001b[0m\u001b[0mlabel\u001b[0m\u001b[0;34m,\u001b[0m \u001b[0myticklabels\u001b[0m\u001b[0;34m=\u001b[0m\u001b[0mlabel\u001b[0m\u001b[0;34m)\u001b[0m\u001b[0;34m\u001b[0m\u001b[0;34m\u001b[0m\u001b[0m\n\u001b[0m\u001b[1;32m      9\u001b[0m \u001b[0max\u001b[0m\u001b[0;34m.\u001b[0m\u001b[0mset_ylabel\u001b[0m\u001b[0;34m(\u001b[0m\u001b[0;34m'Actual'\u001b[0m\u001b[0;34m,\u001b[0m \u001b[0mfontsize\u001b[0m\u001b[0;34m=\u001b[0m\u001b[0;36m20\u001b[0m\u001b[0;34m)\u001b[0m\u001b[0;34m\u001b[0m\u001b[0;34m\u001b[0m\u001b[0m\n\u001b[1;32m     10\u001b[0m \u001b[0max\u001b[0m\u001b[0;34m.\u001b[0m\u001b[0mset_xlabel\u001b[0m\u001b[0;34m(\u001b[0m\u001b[0;34m'Predicted'\u001b[0m\u001b[0;34m,\u001b[0m \u001b[0mfontsize\u001b[0m\u001b[0;34m=\u001b[0m\u001b[0;36m20\u001b[0m\u001b[0;34m)\u001b[0m\u001b[0;34m\u001b[0m\u001b[0;34m\u001b[0m\u001b[0m\n",
            "\u001b[0;31mNameError\u001b[0m: name 'label' is not defined"
          ]
        },
        {
          "output_type": "display_data",
          "data": {
            "text/plain": [
              "<Figure size 864x864 with 0 Axes>"
            ]
          },
          "metadata": {
            "tags": []
          }
        }
      ]
    },
    {
      "cell_type": "code",
      "metadata": {
        "id": "hU0fJRCiIRwM"
      },
      "source": [
        ""
      ],
      "execution_count": null,
      "outputs": []
    }
  ]
}