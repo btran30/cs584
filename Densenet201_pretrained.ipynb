{
  "nbformat": 4,
  "nbformat_minor": 0,
  "metadata": {
    "accelerator": "GPU",
    "colab": {
      "name": "Densenet201_pretrained.ipynb",
      "provenance": [],
      "collapsed_sections": [],
      "include_colab_link": true
    },
    "kernelspec": {
      "display_name": "Python 3",
      "language": "python",
      "name": "python3"
    },
    "language_info": {
      "codemirror_mode": {
        "name": "ipython",
        "version": 3
      },
      "file_extension": ".py",
      "mimetype": "text/x-python",
      "name": "python",
      "nbconvert_exporter": "python",
      "pygments_lexer": "ipython3",
      "version": "3.8.6"
    }
  },
  "cells": [
    {
      "cell_type": "markdown",
      "metadata": {
        "id": "view-in-github",
        "colab_type": "text"
      },
      "source": [
        "<a href=\"https://colab.research.google.com/github/btran30/cs584/blob/brenda/Densenet201_pretrained.ipynb\" target=\"_parent\"><img src=\"https://colab.research.google.com/assets/colab-badge.svg\" alt=\"Open In Colab\"/></a>"
      ]
    },
    {
      "cell_type": "markdown",
      "metadata": {
        "id": "ZY5c1IBb4OVS"
      },
      "source": [
        "# DenseNet 201 Analysis"
      ]
    },
    {
      "cell_type": "markdown",
      "metadata": {
        "id": "gfoamKGa4XSl"
      },
      "source": [
        "## Library Import"
      ]
    },
    {
      "cell_type": "code",
      "metadata": {
        "colab": {
          "base_uri": "https://localhost:8080/"
        },
        "id": "cjZlTdjjfXLr",
        "outputId": "b7aec26b-e540-4dd7-8709-67e0896c4ee9"
      },
      "source": [
        "import tensorflow \n",
        "import pandas as pd\n",
        "import numpy as np\n",
        "import os\n",
        "import keras\n",
        "import matplotlib.pyplot as plt\n",
        "import time\n",
        "\n",
        "from tensorflow.keras.datasets import cifar100, cifar10\n",
        "from tensorflow.keras.applications import DenseNet201\n",
        "from tensorflow.keras.layers import Dense,GlobalAveragePooling2D,Convolution2D,BatchNormalization,Activation,Flatten,MaxPooling2D,Dropout,UpSampling2D\n",
        "from tensorflow.keras.applications.densenet import preprocess_input\n",
        "from tensorflow.keras.preprocessing.image import ImageDataGenerator\n",
        "from tensorflow.keras.models import Model, Sequential\n",
        "from tensorflow.keras.optimizers import Adam\n",
        "from tensorflow.keras.callbacks import ReduceLROnPlateau\n",
        "\n",
        "import warnings\n",
        "warnings.filterwarnings(\"ignore\")\n",
        "\n",
        "print(\"Tensorflow-version:\", tensorflow.__version__)"
      ],
      "execution_count": 1,
      "outputs": [
        {
          "output_type": "stream",
          "text": [
            "Tensorflow-version: 2.3.0\n"
          ],
          "name": "stdout"
        }
      ]
    },
    {
      "cell_type": "markdown",
      "metadata": {
        "id": "j8rl-qhF4lP-"
      },
      "source": [
        "## Load and preprocess Data from Keras"
      ]
    },
    {
      "cell_type": "code",
      "metadata": {
        "id": "bJ0MfUxMfXL5"
      },
      "source": [
        "def preprocess_data(num_classes):\n",
        "\n",
        "    if num_classes == 100:\n",
        "        (x_train, y_train), (x_test, y_test) = cifar100.load_data()\n",
        "    else :\n",
        "        (x_train, y_train), (x_test, y_test) = cifar10.load_data()\n",
        "        \n",
        "    x_train = tensorflow.keras.applications.densenet.preprocess_input(x_train)\n",
        "    x_test = tensorflow.keras.applications.densenet.preprocess_input(x_test)\n",
        "    y_train = tensorflow.keras.utils.to_categorical(y_train)\n",
        "    y_test = tensorflow.keras.utils.to_categorical(y_test)\n",
        "       \n",
        "    print('Train: X=%s, y=%s' % (x_train.shape, y_train.shape))\n",
        "    print('Test: X=%s, y=%s' % (x_test.shape, y_test.shape))\n",
        "    return (x_train, y_train), (x_test, y_test) "
      ],
      "execution_count": 2,
      "outputs": []
    },
    {
      "cell_type": "markdown",
      "metadata": {
        "id": "Hjw4aw-b4qEs"
      },
      "source": [
        "## DenseNet 201 Model"
      ]
    },
    {
      "cell_type": "markdown",
      "metadata": {
        "id": "EW5ANnlB4xC_"
      },
      "source": [
        "We utilize ImageDataGenerator to augment our input data.  This should help us avoid overfitting."
      ]
    },
    {
      "cell_type": "code",
      "metadata": {
        "id": "gJXdLY1zXqwF"
      },
      "source": [
        "def fit_model(num_classes, x_train, y_train, x_test, y_test):\n",
        "    densenet_model = DenseNet201(weights='imagenet', include_top=False, input_shape=(224, 224, 3))\n",
        "    for layer in densenet_model.layers:\n",
        "      if isinstance(layer, BatchNormalization):\n",
        "        layer.trainable = True  # update the weight\n",
        "      else:\n",
        "        layer.trainable = False\n",
        "        \n",
        "    model = Sequential()\n",
        "    model.add(UpSampling2D(size=(7,7)))\n",
        "    model.add(densenet_model)\n",
        "    model.add(GlobalAveragePooling2D())\n",
        "    model.add(Dense(256, activation='relu'))\n",
        "    model.add(Dropout(.25))\n",
        "    model.add(BatchNormalization())\n",
        "    model.add(Dense(num_classes, activation='softmax'))\n",
        "    model.compile(optimizer='Adam', loss='categorical_crossentropy', metrics=['accuracy', 'top_k_categorical_accuracy'])\n",
        "\n",
        "    datagen = ImageDataGenerator(rotation_range=8,\n",
        "                             shear_range=0.2, \n",
        "                             zoom_range=0.2,\n",
        "                             channel_shift_range=0.05, \n",
        "                             horizontal_flip=True)\n",
        "    datagen.fit(x_train)\n",
        "    # Fits-the-model\n",
        "    batch_size = 64\n",
        "    epochs = 10\n",
        "    anne = ReduceLROnPlateau(monitor='val_accuracy', factor=0.1, patience=5, verbose=1, min_lr=1e-3)\n",
        "    t=time.time()\n",
        "    history = model.fit(datagen.flow(x_train, y_train, batch_size=batch_size),\n",
        "               steps_per_epoch=x_train.shape[0] // batch_size,\n",
        "               epochs=epochs,\n",
        "               verbose=1,\n",
        "               callbacks=[anne],\n",
        "               validation_data=(x_test, y_test))\n",
        "    print('Training time: %s' % (time.time() -t))\n",
        "    model.save('Densenet201_cifar'+str(num_classes)+'.h5')\n",
        "    return history, model"
      ],
      "execution_count": 7,
      "outputs": []
    },
    {
      "cell_type": "code",
      "metadata": {
        "id": "Rwk0Fk9uQyd2"
      },
      "source": [
        "def summarize_diagnostics(num_classes, history):\n",
        "    cifar = 'CIFAR'+str(num_classes)\n",
        "    plt.subplots_adjust(hspace=0.7)\n",
        "    # plot loss\n",
        "    plt.subplot(211)\n",
        "    plt.title(cifar + ' Cross Entropy Loss')\n",
        "    plt.plot(history.history['loss'], color='blue', label='train')\n",
        "    plt.plot(history.history['val_loss'], color='orange', label='test')\n",
        "    \n",
        "    # plot accuracy\n",
        "    plt.subplot(212)\n",
        "    plt.title(cifar + ' Classification Accuracy')\n",
        "    plt.plot(history.history['accuracy'], color='blue', label='train')\n",
        "    plt.plot(history.history['val_accuracy'], color='orange', label='test')\n",
        "    \n",
        "    # save plot to file\n",
        "    #filename = \"DenseNet201_Pretrained\"\n",
        "    #plt.savefig(filename + '_plot.png')\n",
        "    \n",
        "    return history\n"
      ],
      "execution_count": 8,
      "outputs": []
    },
    {
      "cell_type": "code",
      "metadata": {
        "id": "GqKhzLKEQyd2"
      },
      "source": [
        "def predict(model, x_test, y_test):\n",
        "    ypred = model.predict(x_test)\n",
        "\n",
        "    total = 0\n",
        "    accurate = 0\n",
        "    accurateindex = []\n",
        "    wrongindex = []\n",
        "\n",
        "    for i in range(len(ypred)):\n",
        "        if np.argmax(ypred[i]) == np.argmax(y_test[i]):\n",
        "            accurate += 1\n",
        "            accurateindex.append(i)\n",
        "        else:\n",
        "            wrongindex.append(i)\n",
        "\n",
        "        total += 1\n",
        "    \n",
        "    print('Total-test-data;', total, '\\taccurately-predicted-data:', accurate, '\\t wrongly-predicted-data: ', total - accurate)\n",
        "    print('Accuracy:', round(accurate/total*100, 3), '%')\n",
        "    return ypred"
      ],
      "execution_count": 9,
      "outputs": []
    },
    {
      "cell_type": "markdown",
      "metadata": {
        "id": "M3i04VBsQyd2"
      },
      "source": [
        "### Run with CIFAR100"
      ]
    },
    {
      "cell_type": "code",
      "metadata": {
        "colab": {
          "base_uri": "https://localhost:8080/",
          "height": 1000
        },
        "id": "MxDh_9oUQyd2",
        "outputId": "beddd917-fd81-49e9-c945-ea46adffb002"
      },
      "source": [
        "num_classes = 100\n",
        "(x_train, y_train), (x_test, y_test) = preprocess_data(num_classes)\n",
        "history, model = fit_model(num_classes, x_train, y_train,x_test, y_test)\n",
        "print('\\n\\n')\n",
        "summarize_diagnostics(num_classes, history)\n",
        "print('\\n')\n",
        "pred = predict(model, x_test, y_test)"
      ],
      "execution_count": 14,
      "outputs": [
        {
          "output_type": "stream",
          "text": [
            "Train: X=(50000, 32, 32, 3), y=(50000, 100)\n",
            "Test: X=(10000, 32, 32, 3), y=(10000, 100)\n",
            "Epoch 1/10\n",
            "781/781 [==============================] - 703s 900ms/step - loss: 1.7080 - accuracy: 0.5553 - top_k_categorical_accuracy: 0.8246 - val_loss: 0.9235 - val_accuracy: 0.7243 - val_top_k_categorical_accuracy: 0.9449\n",
            "Epoch 2/10\n",
            "781/781 [==============================] - 695s 890ms/step - loss: 0.9336 - accuracy: 0.7262 - top_k_categorical_accuracy: 0.9431 - val_loss: 0.8483 - val_accuracy: 0.7411 - val_top_k_categorical_accuracy: 0.9500\n",
            "Epoch 3/10\n",
            "781/781 [==============================] - 694s 889ms/step - loss: 0.8059 - accuracy: 0.7578 - top_k_categorical_accuracy: 0.9568 - val_loss: 0.7383 - val_accuracy: 0.7780 - val_top_k_categorical_accuracy: 0.9622\n",
            "Epoch 4/10\n",
            "781/781 [==============================] - 694s 889ms/step - loss: 0.7452 - accuracy: 0.7734 - top_k_categorical_accuracy: 0.9620 - val_loss: 0.7527 - val_accuracy: 0.7774 - val_top_k_categorical_accuracy: 0.9613\n",
            "Epoch 5/10\n",
            "781/781 [==============================] - 693s 887ms/step - loss: 0.7002 - accuracy: 0.7860 - top_k_categorical_accuracy: 0.9656 - val_loss: 0.7800 - val_accuracy: 0.7684 - val_top_k_categorical_accuracy: 0.9598\n",
            "Epoch 6/10\n",
            "781/781 [==============================] - 692s 887ms/step - loss: 0.6539 - accuracy: 0.8002 - top_k_categorical_accuracy: 0.9699 - val_loss: 0.7551 - val_accuracy: 0.7782 - val_top_k_categorical_accuracy: 0.9599\n",
            "Epoch 7/10\n",
            "781/781 [==============================] - 693s 888ms/step - loss: 0.6267 - accuracy: 0.8045 - top_k_categorical_accuracy: 0.9728 - val_loss: 0.7008 - val_accuracy: 0.7920 - val_top_k_categorical_accuracy: 0.9645\n",
            "Epoch 8/10\n",
            "781/781 [==============================] - 691s 885ms/step - loss: 0.5977 - accuracy: 0.8130 - top_k_categorical_accuracy: 0.9739 - val_loss: 0.7414 - val_accuracy: 0.7856 - val_top_k_categorical_accuracy: 0.9589\n",
            "Epoch 9/10\n",
            "781/781 [==============================] - 692s 886ms/step - loss: 0.5757 - accuracy: 0.8199 - top_k_categorical_accuracy: 0.9767 - val_loss: 0.6980 - val_accuracy: 0.7944 - val_top_k_categorical_accuracy: 0.9646\n",
            "Epoch 10/10\n",
            "781/781 [==============================] - 692s 886ms/step - loss: 0.5503 - accuracy: 0.8262 - top_k_categorical_accuracy: 0.9786 - val_loss: 0.7263 - val_accuracy: 0.7936 - val_top_k_categorical_accuracy: 0.9604\n",
            "Training time: 6977.829580783844\n",
            "\n",
            "\n",
            "\n",
            "\n",
            "\n",
            "Total-test-data; 10000 \taccurately-predicted-data: 7936 \t wrongly-predicted-data:  2064\n",
            "Accuracy: 79.36 %\n"
          ],
          "name": "stdout"
        },
        {
          "output_type": "execute_result",
          "data": {
            "text/plain": [
              "array([[2.4194946e-06, 4.3160921e-06, 1.0257779e-04, ..., 5.3757038e-05,\n",
              "        1.5627395e-02, 1.0077557e-05],\n",
              "       [3.6540911e-07, 1.3530548e-07, 1.3118661e-05, ..., 4.5047880e-05,\n",
              "        2.6187410e-09, 6.0775150e-08],\n",
              "       [3.3294674e-07, 1.2525211e-06, 1.0033174e-04, ..., 4.3363257e-06,\n",
              "        1.7732986e-04, 9.1243288e-07],\n",
              "       ...,\n",
              "       [4.6193531e-07, 6.0399367e-07, 3.9837514e-06, ..., 6.2863016e-08,\n",
              "        5.2338289e-09, 3.7845402e-09],\n",
              "       [1.3979471e-11, 1.8447641e-09, 3.2606664e-07, ..., 5.2493064e-08,\n",
              "        5.2582920e-09, 6.4653960e-08],\n",
              "       [1.4500587e-07, 4.7893809e-06, 1.2537315e-08, ..., 8.3801828e-09,\n",
              "        1.1034084e-09, 1.5948198e-07]], dtype=float32)"
            ]
          },
          "metadata": {
            "tags": []
          },
          "execution_count": 14
        },
        {
          "output_type": "display_data",
          "data": {
            "image/png": "[encoded data removed]",
            "text/plain": [
              "<Figure size 432x288 with 2 Axes>"
            ]
          },
          "metadata": {
            "tags": [],
            "needs_background": "light"
          }
        }
      ]
    },
    {
      "cell_type": "markdown",
      "metadata": {
        "id": "iyVlCjq3mWle"
      },
      "source": [
        "### Run with CIFAR10"
      ]
    },
    {
      "cell_type": "code",
      "metadata": {
        "colab": {
          "base_uri": "https://localhost:8080/",
          "height": 845
        },
        "id": "Hxnxyb8VmWle",
        "outputId": "1fd8ed42-aba6-46db-fd34-fa5a7cb2394a"
      },
      "source": [
        "num_classes = 10\n",
        "(x_train, y_train), (x_test, y_test) = preprocess_data(num_classes)\n",
        "history, model = fit_model(num_classes, x_train, y_train,x_test, y_test)\n",
        "print('\\n\\n')\n",
        "summarize_diagnostics(num_classes, history)\n",
        "print('\\n')\n",
        "pred = predict(model, x_test, y_test)"
      ],
      "execution_count": 15,
      "outputs": [
        {
          "output_type": "stream",
          "text": [
            "Downloading data from https://www.cs.toronto.edu/~kriz/cifar-10-python.tar.gz\n",
            "170500096/170498071 [==============================] - 2s 0us/step\n",
            "Train: X=(50000, 32, 32, 3), y=(50000, 10)\n",
            "Test: X=(10000, 32, 32, 3), y=(10000, 10)\n",
            "Epoch 1/10\n",
            "781/781 [==============================] - 699s 895ms/step - loss: 0.3805 - accuracy: 0.8711 - top_k_categorical_accuracy: 0.9907 - val_loss: 0.2766 - val_accuracy: 0.9096 - val_top_k_categorical_accuracy: 0.9976\n",
            "Epoch 2/10\n",
            "781/781 [==============================] - 694s 889ms/step - loss: 0.1909 - accuracy: 0.9357 - top_k_categorical_accuracy: 0.9987 - val_loss: 0.1482 - val_accuracy: 0.9504 - val_top_k_categorical_accuracy: 0.9994\n",
            "Epoch 3/10\n",
            "781/781 [==============================] - 694s 888ms/step - loss: 0.1577 - accuracy: 0.9471 - top_k_categorical_accuracy: 0.9991 - val_loss: 0.1402 - val_accuracy: 0.9527 - val_top_k_categorical_accuracy: 0.9993\n",
            "Epoch 4/10\n",
            "781/781 [==============================] - 693s 888ms/step - loss: 0.1438 - accuracy: 0.9507 - top_k_categorical_accuracy: 0.9994 - val_loss: 0.1788 - val_accuracy: 0.9400 - val_top_k_categorical_accuracy: 0.9988\n",
            "Epoch 5/10\n",
            "781/781 [==============================] - 693s 887ms/step - loss: 0.1268 - accuracy: 0.9566 - top_k_categorical_accuracy: 0.9995 - val_loss: 0.1449 - val_accuracy: 0.9512 - val_top_k_categorical_accuracy: 0.9987\n",
            "Epoch 6/10\n",
            "781/781 [==============================] - 692s 887ms/step - loss: 0.1169 - accuracy: 0.9600 - top_k_categorical_accuracy: 0.9996 - val_loss: 0.2144 - val_accuracy: 0.9330 - val_top_k_categorical_accuracy: 0.9988\n",
            "Epoch 7/10\n",
            "781/781 [==============================] - 692s 886ms/step - loss: 0.1139 - accuracy: 0.9614 - top_k_categorical_accuracy: 0.9996 - val_loss: 0.1280 - val_accuracy: 0.9590 - val_top_k_categorical_accuracy: 0.9997\n",
            "Epoch 8/10\n",
            "781/781 [==============================] - 692s 886ms/step - loss: 0.1043 - accuracy: 0.9641 - top_k_categorical_accuracy: 0.9997 - val_loss: 0.1303 - val_accuracy: 0.9588 - val_top_k_categorical_accuracy: 0.9997\n",
            "Epoch 9/10\n",
            "781/781 [==============================] - 691s 885ms/step - loss: 0.1008 - accuracy: 0.9644 - top_k_categorical_accuracy: 0.9997 - val_loss: 0.1487 - val_accuracy: 0.9532 - val_top_k_categorical_accuracy: 0.9998\n",
            "Epoch 10/10\n",
            "781/781 [==============================] - 691s 885ms/step - loss: 0.0958 - accuracy: 0.9665 - top_k_categorical_accuracy: 0.9998 - val_loss: 0.1458 - val_accuracy: 0.9525 - val_top_k_categorical_accuracy: 0.9992\n",
            "Training time: 6957.343850135803\n",
            "\n",
            "\n",
            "\n",
            "\n",
            "\n",
            "Total-test-data; 10000 \taccurately-predicted-data: 9525 \t wrongly-predicted-data:  475\n",
            "Accuracy: 95.25 %\n"
          ],
          "name": "stdout"
        },
        {
          "output_type": "display_data",
          "data": {
            "image/png": "[encoded data removed]",
            "text/plain": [
              "<Figure size 432x288 with 2 Axes>"
            ]
          },
          "metadata": {
            "tags": [],
            "needs_background": "light"
          }
        }
      ]
    },
    {
      "cell_type": "code",
      "metadata": {
        "id": "2To0wzcgmWle"
      },
      "source": [
        ""
      ],
      "execution_count": null,
      "outputs": []
    }
  ]
}