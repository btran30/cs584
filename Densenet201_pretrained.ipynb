{
  "nbformat": 4,
  "nbformat_minor": 0,
  "metadata": {
    "kernelspec": {
      "display_name": "Python 3",
      "language": "python",
      "name": "python3"
    },
    "language_info": {
      "codemirror_mode": {
        "name": "ipython",
        "version": 3
      },
      "file_extension": ".py",
      "mimetype": "text/x-python",
      "name": "python",
      "nbconvert_exporter": "python",
      "pygments_lexer": "ipython3",
      "version": "3.8.5"
    },
    "colab": {
      "name": "Densenet201_pretrained.ipynb",
      "provenance": [],
      "collapsed_sections": [],
      "toc_visible": true,
      "include_colab_link": true
    },
    "accelerator": "GPU"
  },
  "cells": [
    {
      "cell_type": "markdown",
      "metadata": {
        "id": "view-in-github",
        "colab_type": "text"
      },
      "source": [
        "<a href=\"https://colab.research.google.com/github/btran30/cs584/blob/brenda/Densenet201_pretrained.ipynb\" target=\"_parent\"><img src=\"https://colab.research.google.com/assets/colab-badge.svg\" alt=\"Open In Colab\"/></a>"
      ]
    },
    {
      "cell_type": "markdown",
      "metadata": {
        "id": "ZY5c1IBb4OVS"
      },
      "source": [
        "# DenseNet 201 Analysis"
      ]
    },
    {
      "cell_type": "markdown",
      "metadata": {
        "id": "gfoamKGa4XSl"
      },
      "source": [
        "## Library Import"
      ]
    },
    {
      "cell_type": "code",
      "metadata": {
        "id": "cjZlTdjjfXLr",
        "outputId": "340957b5-e600-4cb8-894a-d81bcc2134c3",
        "colab": {
          "base_uri": "https://localhost:8080/"
        }
      },
      "source": [
        "import tensorflow \n",
        "\n",
        "import pandas as pd\n",
        "import numpy as np\n",
        "import os\n",
        "import keras\n",
        "import random\n",
        "import cv2\n",
        "import math\n",
        "import seaborn as sns\n",
        "\n",
        "from matplotlib import pyplot\n",
        "\n",
        "from sklearn.metrics import confusion_matrix\n",
        "from sklearn.preprocessing import LabelBinarizer\n",
        "from sklearn.model_selection import train_test_split\n",
        "\n",
        "import matplotlib.pyplot as plt\n",
        "\n",
        "from keras.utils.np_utils import to_categorical\n",
        "from tensorflow.keras.layers import Dense,GlobalAveragePooling2D,Convolution2D,BatchNormalization,Activation\n",
        "from tensorflow.keras.layers import Flatten,MaxPooling2D,Dropout\n",
        "from tensorflow.keras.applications import DenseNet201\n",
        "from tensorflow.keras.applications.densenet import preprocess_input\n",
        "\n",
        "from tensorflow.keras.preprocessing import image\n",
        "from tensorflow.keras.preprocessing.image import ImageDataGenerator,img_to_array\n",
        "from tensorflow.keras.models import Model\n",
        "from tensorflow.keras.optimizers import Adam,SGD\n",
        "from tensorflow.keras.callbacks import ModelCheckpoint, ReduceLROnPlateau\n",
        "\n",
        "import warnings\n",
        "warnings.filterwarnings(\"ignore\")\n",
        "\n",
        "print(\"Tensorflow-version:\", tensorflow.__version__)"
      ],
      "execution_count": 1,
      "outputs": [
        {
          "output_type": "stream",
          "text": [
            "Tensorflow-version: 2.3.0\n"
          ],
          "name": "stdout"
        }
      ]
    },
    {
      "cell_type": "markdown",
      "metadata": {
        "id": "j8rl-qhF4lP-"
      },
      "source": [
        "## Load Data from Keras"
      ]
    },
    {
      "cell_type": "code",
      "metadata": {
        "id": "bJ0MfUxMfXL5",
        "outputId": "acbe651d-87d1-4b2c-93af-cdc4b49069bb",
        "colab": {
          "base_uri": "https://localhost:8080/"
        }
      },
      "source": [
        "(x_train, y_train), (x_test, y_test) = tensorflow.keras.datasets.cifar100.load_data()\n",
        "\n",
        "# One-hot encoding for 100 classes.\n",
        "y_train = to_categorical(y_train, 100)\n",
        "y_test = to_categorical(y_test, 100)\n",
        "\n",
        "print('Train: X=%s, y=%s' % (x_train.shape, y_train.shape))\n",
        "print('Test: X=%s, y=%s' % (x_test.shape, y_test.shape))"
      ],
      "execution_count": 2,
      "outputs": [
        {
          "output_type": "stream",
          "text": [
            "Downloading data from https://www.cs.toronto.edu/~kriz/cifar-100-python.tar.gz\n",
            "169009152/169001437 [==============================] - 4s 0us/step\n",
            "Train: X=(50000, 32, 32, 3), y=(50000, 100)\n",
            "Test: X=(10000, 32, 32, 3), y=(10000, 100)\n"
          ],
          "name": "stdout"
        }
      ]
    },
    {
      "cell_type": "markdown",
      "metadata": {
        "id": "Hjw4aw-b4qEs"
      },
      "source": [
        "## DenseNet 201 Model"
      ]
    },
    {
      "cell_type": "markdown",
      "metadata": {
        "id": "EW5ANnlB4xC_"
      },
      "source": [
        "We utilize ImageDataGenerator to augment our input data.  This should help us avoid overfitting."
      ]
    },
    {
      "cell_type": "code",
      "metadata": {
        "id": "gJXdLY1zXqwF",
        "outputId": "5446defc-5a8f-4712-c0e9-6d52a5185ec4",
        "colab": {
          "base_uri": "https://localhost:8080/"
        }
      },
      "source": [
        "input_shape=(32,32,3)\n",
        "model_d=DenseNet201(weights='imagenet',include_top=False, input_shape=input_shape) \n",
        "\n",
        "x=model_d.output\n",
        "\n",
        "x= BatchNormalization()(x)\n",
        "x= Activation('relu')(x)\n",
        "x= GlobalAveragePooling2D()(x)\n",
        "\n",
        "preds=Dense(100,activation='softmax')(x) #FC-layer\n",
        "\n",
        "model=Model(inputs=model_d.input, outputs=preds)\n",
        "\n",
        "#model.summary()\n",
        "#tf.keras.utils.plot_model( model , show_shapes=True )\n",
        "\n",
        "sgd = SGD(lr=1e-3, decay=1e-6, momentum=0.9, nesterov=True)\n",
        "model.compile(optimizer=sgd, loss='categorical_crossentropy', metrics=['accuracy', 'top_k_categorical_accuracy'])\n",
        "\n",
        "batch_size = 128\n",
        "epochs = 20\n",
        "\n",
        "anne = ReduceLROnPlateau(monitor='val_accuracy', factor=0.5, patience=5, verbose=1, min_lr=1e-3)\n",
        "checkpoint = ModelCheckpoint('model.h5', verbose=1, save_best_only=True)\n",
        "\n",
        "datagen = ImageDataGenerator(zoom_range = 0.2, horizontal_flip=True, shear_range=0.2)\n",
        "\n",
        "datagen.fit(x_train)\n",
        "# Fits-the-model\n",
        "history = model.fit(datagen.flow(x_train, y_train, batch_size=batch_size),\n",
        "               steps_per_epoch=x_train.shape[0] // batch_size,\n",
        "               epochs=epochs,\n",
        "               verbose=1,\n",
        "               callbacks=[anne, checkpoint],\n",
        "               validation_data=(x_test, y_test))\n",
        "\n",
        "#model.save(\"m_densenet201.h5\")"
      ],
      "execution_count": 6,
      "outputs": [
        {
          "output_type": "stream",
          "text": [
            "Epoch 1/60\n",
            "390/390 [==============================] - ETA: 0s - loss: 3.4858 - accuracy: 0.2258 - top_k_categorical_accuracy: 0.4444\n",
            "Epoch 00001: val_loss improved from inf to 2.63600, saving model to model.h5\n",
            "390/390 [==============================] - 54s 138ms/step - loss: 3.4858 - accuracy: 0.2258 - top_k_categorical_accuracy: 0.4444 - val_loss: 2.6360 - val_accuracy: 0.3677 - val_top_k_categorical_accuracy: 0.6815\n",
            "Epoch 2/60\n",
            "390/390 [==============================] - ETA: 0s - loss: 2.1777 - accuracy: 0.4432 - top_k_categorical_accuracy: 0.7492\n",
            "Epoch 00002: val_loss improved from 2.63600 to 2.06248, saving model to model.h5\n",
            "390/390 [==============================] - 49s 126ms/step - loss: 2.1777 - accuracy: 0.4432 - top_k_categorical_accuracy: 0.7492 - val_loss: 2.0625 - val_accuracy: 0.4641 - val_top_k_categorical_accuracy: 0.7664\n",
            "Epoch 3/60\n",
            "390/390 [==============================] - ETA: 0s - loss: 1.7378 - accuracy: 0.5348 - top_k_categorical_accuracy: 0.8257\n",
            "Epoch 00003: val_loss improved from 2.06248 to 1.88190, saving model to model.h5\n",
            "390/390 [==============================] - 49s 126ms/step - loss: 1.7378 - accuracy: 0.5348 - top_k_categorical_accuracy: 0.8257 - val_loss: 1.8819 - val_accuracy: 0.4931 - val_top_k_categorical_accuracy: 0.7937\n",
            "Epoch 4/60\n",
            "390/390 [==============================] - ETA: 0s - loss: 1.4867 - accuracy: 0.5919 - top_k_categorical_accuracy: 0.8669\n",
            "Epoch 00004: val_loss improved from 1.88190 to 1.63573, saving model to model.h5\n",
            "390/390 [==============================] - 49s 126ms/step - loss: 1.4867 - accuracy: 0.5919 - top_k_categorical_accuracy: 0.8669 - val_loss: 1.6357 - val_accuracy: 0.5503 - val_top_k_categorical_accuracy: 0.8384\n",
            "Epoch 5/60\n",
            "390/390 [==============================] - ETA: 0s - loss: 1.3119 - accuracy: 0.6348 - top_k_categorical_accuracy: 0.8916\n",
            "Epoch 00005: val_loss improved from 1.63573 to 1.59250, saving model to model.h5\n",
            "390/390 [==============================] - 49s 126ms/step - loss: 1.3119 - accuracy: 0.6348 - top_k_categorical_accuracy: 0.8916 - val_loss: 1.5925 - val_accuracy: 0.5608 - val_top_k_categorical_accuracy: 0.8441\n",
            "Epoch 6/60\n",
            "390/390 [==============================] - ETA: 0s - loss: 1.1701 - accuracy: 0.6721 - top_k_categorical_accuracy: 0.9126\n",
            "Epoch 00006: val_loss improved from 1.59250 to 1.48924, saving model to model.h5\n",
            "390/390 [==============================] - 49s 127ms/step - loss: 1.1701 - accuracy: 0.6721 - top_k_categorical_accuracy: 0.9126 - val_loss: 1.4892 - val_accuracy: 0.5869 - val_top_k_categorical_accuracy: 0.8617\n",
            "Epoch 7/60\n",
            "390/390 [==============================] - ETA: 0s - loss: 1.0411 - accuracy: 0.7069 - top_k_categorical_accuracy: 0.9284\n",
            "Epoch 00007: val_loss improved from 1.48924 to 1.41007, saving model to model.h5\n",
            "390/390 [==============================] - 49s 126ms/step - loss: 1.0411 - accuracy: 0.7069 - top_k_categorical_accuracy: 0.9284 - val_loss: 1.4101 - val_accuracy: 0.6065 - val_top_k_categorical_accuracy: 0.8739\n",
            "Epoch 8/60\n",
            "390/390 [==============================] - ETA: 0s - loss: 0.9392 - accuracy: 0.7328 - top_k_categorical_accuracy: 0.9397\n",
            "Epoch 00008: val_loss did not improve from 1.41007\n",
            "390/390 [==============================] - 48s 122ms/step - loss: 0.9392 - accuracy: 0.7328 - top_k_categorical_accuracy: 0.9397 - val_loss: 1.4384 - val_accuracy: 0.6001 - val_top_k_categorical_accuracy: 0.8729\n",
            "Epoch 9/60\n",
            "390/390 [==============================] - ETA: 0s - loss: 0.8303 - accuracy: 0.7652 - top_k_categorical_accuracy: 0.9542\n",
            "Epoch 00009: val_loss did not improve from 1.41007\n",
            "390/390 [==============================] - 48s 122ms/step - loss: 0.8303 - accuracy: 0.7652 - top_k_categorical_accuracy: 0.9542 - val_loss: 1.5092 - val_accuracy: 0.5925 - val_top_k_categorical_accuracy: 0.8606\n",
            "Epoch 10/60\n",
            "390/390 [==============================] - ETA: 0s - loss: 0.7479 - accuracy: 0.7893 - top_k_categorical_accuracy: 0.9618\n",
            "Epoch 00010: val_loss did not improve from 1.41007\n",
            "390/390 [==============================] - 48s 123ms/step - loss: 0.7479 - accuracy: 0.7893 - top_k_categorical_accuracy: 0.9618 - val_loss: 1.4183 - val_accuracy: 0.6152 - val_top_k_categorical_accuracy: 0.8745\n",
            "Epoch 11/60\n",
            "390/390 [==============================] - ETA: 0s - loss: 0.6726 - accuracy: 0.8099 - top_k_categorical_accuracy: 0.9693\n",
            "Epoch 00011: val_loss did not improve from 1.41007\n",
            "390/390 [==============================] - 48s 123ms/step - loss: 0.6726 - accuracy: 0.8099 - top_k_categorical_accuracy: 0.9693 - val_loss: 1.4567 - val_accuracy: 0.6069 - val_top_k_categorical_accuracy: 0.8681\n",
            "Epoch 12/60\n",
            "390/390 [==============================] - ETA: 0s - loss: 0.5991 - accuracy: 0.8329 - top_k_categorical_accuracy: 0.9760\n",
            "Epoch 00012: val_loss did not improve from 1.41007\n",
            "390/390 [==============================] - 48s 123ms/step - loss: 0.5991 - accuracy: 0.8329 - top_k_categorical_accuracy: 0.9760 - val_loss: 1.4633 - val_accuracy: 0.6110 - val_top_k_categorical_accuracy: 0.8680\n",
            "Epoch 13/60\n",
            "390/390 [==============================] - ETA: 0s - loss: 0.5248 - accuracy: 0.8548 - top_k_categorical_accuracy: 0.9818\n",
            "Epoch 00013: val_loss did not improve from 1.41007\n",
            "390/390 [==============================] - 48s 123ms/step - loss: 0.5248 - accuracy: 0.8548 - top_k_categorical_accuracy: 0.9818 - val_loss: 1.4273 - val_accuracy: 0.6199 - val_top_k_categorical_accuracy: 0.8774\n",
            "Epoch 14/60\n",
            "390/390 [==============================] - ETA: 0s - loss: 0.4725 - accuracy: 0.8701 - top_k_categorical_accuracy: 0.9862\n",
            "Epoch 00014: val_loss improved from 1.41007 to 1.39592, saving model to model.h5\n",
            "390/390 [==============================] - 49s 126ms/step - loss: 0.4725 - accuracy: 0.8701 - top_k_categorical_accuracy: 0.9862 - val_loss: 1.3959 - val_accuracy: 0.6302 - val_top_k_categorical_accuracy: 0.8801\n",
            "Epoch 15/60\n",
            "390/390 [==============================] - ETA: 0s - loss: 0.4191 - accuracy: 0.8872 - top_k_categorical_accuracy: 0.9892\n",
            "Epoch 00015: val_loss did not improve from 1.39592\n",
            "390/390 [==============================] - 48s 122ms/step - loss: 0.4191 - accuracy: 0.8872 - top_k_categorical_accuracy: 0.9892 - val_loss: 1.4223 - val_accuracy: 0.6257 - val_top_k_categorical_accuracy: 0.8779\n",
            "Epoch 16/60\n",
            "390/390 [==============================] - ETA: 0s - loss: 0.3710 - accuracy: 0.9013 - top_k_categorical_accuracy: 0.9913\n",
            "Epoch 00016: val_loss did not improve from 1.39592\n",
            "390/390 [==============================] - 48s 122ms/step - loss: 0.3710 - accuracy: 0.9013 - top_k_categorical_accuracy: 0.9913 - val_loss: 1.4447 - val_accuracy: 0.6259 - val_top_k_categorical_accuracy: 0.8762\n",
            "Epoch 17/60\n",
            "390/390 [==============================] - ETA: 0s - loss: 0.3332 - accuracy: 0.9127 - top_k_categorical_accuracy: 0.9937\n",
            "Epoch 00017: val_loss did not improve from 1.39592\n",
            "390/390 [==============================] - 47s 122ms/step - loss: 0.3332 - accuracy: 0.9127 - top_k_categorical_accuracy: 0.9937 - val_loss: 1.4137 - val_accuracy: 0.6328 - val_top_k_categorical_accuracy: 0.8824\n",
            "Epoch 18/60\n",
            "390/390 [==============================] - ETA: 0s - loss: 0.2876 - accuracy: 0.9262 - top_k_categorical_accuracy: 0.9954\n",
            "Epoch 00018: val_loss did not improve from 1.39592\n",
            "390/390 [==============================] - 48s 122ms/step - loss: 0.2876 - accuracy: 0.9262 - top_k_categorical_accuracy: 0.9954 - val_loss: 1.4388 - val_accuracy: 0.6327 - val_top_k_categorical_accuracy: 0.8831\n",
            "Epoch 19/60\n",
            "390/390 [==============================] - ETA: 0s - loss: 0.2582 - accuracy: 0.9360 - top_k_categorical_accuracy: 0.9961\n",
            "Epoch 00019: val_loss did not improve from 1.39592\n",
            "390/390 [==============================] - 48s 122ms/step - loss: 0.2582 - accuracy: 0.9360 - top_k_categorical_accuracy: 0.9961 - val_loss: 1.4103 - val_accuracy: 0.6386 - val_top_k_categorical_accuracy: 0.8827\n",
            "Epoch 20/60\n",
            "390/390 [==============================] - ETA: 0s - loss: 0.2421 - accuracy: 0.9412 - top_k_categorical_accuracy: 0.9968\n",
            "Epoch 00020: val_loss did not improve from 1.39592\n",
            "390/390 [==============================] - 47s 121ms/step - loss: 0.2421 - accuracy: 0.9412 - top_k_categorical_accuracy: 0.9968 - val_loss: 1.4275 - val_accuracy: 0.6409 - val_top_k_categorical_accuracy: 0.8861\n",
            "Epoch 21/60\n",
            "390/390 [==============================] - ETA: 0s - loss: 0.2105 - accuracy: 0.9494 - top_k_categorical_accuracy: 0.9975\n",
            "Epoch 00021: val_loss did not improve from 1.39592\n",
            "390/390 [==============================] - 48s 122ms/step - loss: 0.2105 - accuracy: 0.9494 - top_k_categorical_accuracy: 0.9975 - val_loss: 1.4758 - val_accuracy: 0.6303 - val_top_k_categorical_accuracy: 0.8770\n",
            "Epoch 22/60\n",
            "390/390 [==============================] - ETA: 0s - loss: 0.1889 - accuracy: 0.9552 - top_k_categorical_accuracy: 0.9985\n",
            "Epoch 00022: val_loss did not improve from 1.39592\n",
            "390/390 [==============================] - 48s 122ms/step - loss: 0.1889 - accuracy: 0.9552 - top_k_categorical_accuracy: 0.9985 - val_loss: 1.4607 - val_accuracy: 0.6376 - val_top_k_categorical_accuracy: 0.8809\n",
            "Epoch 23/60\n",
            "390/390 [==============================] - ETA: 0s - loss: 0.1657 - accuracy: 0.9623 - top_k_categorical_accuracy: 0.9986\n",
            "Epoch 00023: val_loss did not improve from 1.39592\n",
            "390/390 [==============================] - 48s 123ms/step - loss: 0.1657 - accuracy: 0.9623 - top_k_categorical_accuracy: 0.9986 - val_loss: 1.4892 - val_accuracy: 0.6352 - val_top_k_categorical_accuracy: 0.8781\n",
            "Epoch 24/60\n",
            "390/390 [==============================] - ETA: 0s - loss: 0.1585 - accuracy: 0.9627 - top_k_categorical_accuracy: 0.9988\n",
            "Epoch 00024: val_loss did not improve from 1.39592\n",
            "390/390 [==============================] - 48s 122ms/step - loss: 0.1585 - accuracy: 0.9627 - top_k_categorical_accuracy: 0.9988 - val_loss: 1.4693 - val_accuracy: 0.6421 - val_top_k_categorical_accuracy: 0.8816\n",
            "Epoch 25/60\n",
            "390/390 [==============================] - ETA: 0s - loss: 0.1424 - accuracy: 0.9681 - top_k_categorical_accuracy: 0.9991\n",
            "Epoch 00025: val_loss did not improve from 1.39592\n",
            "390/390 [==============================] - 48s 123ms/step - loss: 0.1424 - accuracy: 0.9681 - top_k_categorical_accuracy: 0.9991 - val_loss: 1.4806 - val_accuracy: 0.6409 - val_top_k_categorical_accuracy: 0.8813\n",
            "Epoch 26/60\n",
            "390/390 [==============================] - ETA: 0s - loss: 0.1289 - accuracy: 0.9716 - top_k_categorical_accuracy: 0.9991\n",
            "Epoch 00026: val_loss did not improve from 1.39592\n",
            "390/390 [==============================] - 48s 122ms/step - loss: 0.1289 - accuracy: 0.9716 - top_k_categorical_accuracy: 0.9991 - val_loss: 1.4770 - val_accuracy: 0.6421 - val_top_k_categorical_accuracy: 0.8864\n",
            "Epoch 27/60\n",
            "390/390 [==============================] - ETA: 0s - loss: 0.1175 - accuracy: 0.9742 - top_k_categorical_accuracy: 0.9993\n",
            "Epoch 00027: val_loss did not improve from 1.39592\n",
            "390/390 [==============================] - 47s 119ms/step - loss: 0.1175 - accuracy: 0.9742 - top_k_categorical_accuracy: 0.9993 - val_loss: 1.5370 - val_accuracy: 0.6330 - val_top_k_categorical_accuracy: 0.8789\n",
            "Epoch 28/60\n",
            "390/390 [==============================] - ETA: 0s - loss: 0.1078 - accuracy: 0.9768 - top_k_categorical_accuracy: 0.9995\n",
            "Epoch 00028: val_loss did not improve from 1.39592\n",
            "390/390 [==============================] - 47s 121ms/step - loss: 0.1078 - accuracy: 0.9768 - top_k_categorical_accuracy: 0.9995 - val_loss: 1.4865 - val_accuracy: 0.6450 - val_top_k_categorical_accuracy: 0.8843\n",
            "Epoch 29/60\n",
            "390/390 [==============================] - ETA: 0s - loss: 0.1017 - accuracy: 0.9783 - top_k_categorical_accuracy: 0.9995\n",
            "Epoch 00029: val_loss did not improve from 1.39592\n",
            "390/390 [==============================] - 47s 121ms/step - loss: 0.1017 - accuracy: 0.9783 - top_k_categorical_accuracy: 0.9995 - val_loss: 1.5498 - val_accuracy: 0.6323 - val_top_k_categorical_accuracy: 0.8807\n",
            "Epoch 30/60\n",
            "390/390 [==============================] - ETA: 0s - loss: 0.0955 - accuracy: 0.9803 - top_k_categorical_accuracy: 0.9996\n",
            "Epoch 00030: val_loss did not improve from 1.39592\n",
            "390/390 [==============================] - 47s 121ms/step - loss: 0.0955 - accuracy: 0.9803 - top_k_categorical_accuracy: 0.9996 - val_loss: 1.5730 - val_accuracy: 0.6331 - val_top_k_categorical_accuracy: 0.8738\n",
            "Epoch 31/60\n",
            "390/390 [==============================] - ETA: 0s - loss: 0.0885 - accuracy: 0.9813 - top_k_categorical_accuracy: 0.9996\n",
            "Epoch 00031: val_loss did not improve from 1.39592\n",
            "390/390 [==============================] - 47s 121ms/step - loss: 0.0885 - accuracy: 0.9813 - top_k_categorical_accuracy: 0.9996 - val_loss: 1.5271 - val_accuracy: 0.6448 - val_top_k_categorical_accuracy: 0.8806\n",
            "Epoch 32/60\n",
            "390/390 [==============================] - ETA: 0s - loss: 0.0822 - accuracy: 0.9825 - top_k_categorical_accuracy: 0.9997\n",
            "Epoch 00032: val_loss did not improve from 1.39592\n",
            "390/390 [==============================] - 47s 121ms/step - loss: 0.0822 - accuracy: 0.9825 - top_k_categorical_accuracy: 0.9997 - val_loss: 1.5054 - val_accuracy: 0.6519 - val_top_k_categorical_accuracy: 0.8866\n",
            "Epoch 33/60\n",
            "390/390 [==============================] - ETA: 0s - loss: 0.0768 - accuracy: 0.9841 - top_k_categorical_accuracy: 0.9997\n",
            "Epoch 00033: val_loss did not improve from 1.39592\n",
            "390/390 [==============================] - 47s 120ms/step - loss: 0.0768 - accuracy: 0.9841 - top_k_categorical_accuracy: 0.9997 - val_loss: 1.6016 - val_accuracy: 0.6351 - val_top_k_categorical_accuracy: 0.8742\n",
            "Epoch 34/60\n",
            "390/390 [==============================] - ETA: 0s - loss: 0.0728 - accuracy: 0.9856 - top_k_categorical_accuracy: 0.9997\n",
            "Epoch 00034: val_loss did not improve from 1.39592\n",
            "390/390 [==============================] - 47s 120ms/step - loss: 0.0728 - accuracy: 0.9856 - top_k_categorical_accuracy: 0.9997 - val_loss: 1.5360 - val_accuracy: 0.6452 - val_top_k_categorical_accuracy: 0.8838\n",
            "Epoch 35/60\n",
            "390/390 [==============================] - ETA: 0s - loss: 0.0700 - accuracy: 0.9857 - top_k_categorical_accuracy: 0.9997\n",
            "Epoch 00035: val_loss did not improve from 1.39592\n",
            "390/390 [==============================] - 47s 120ms/step - loss: 0.0700 - accuracy: 0.9857 - top_k_categorical_accuracy: 0.9997 - val_loss: 1.5461 - val_accuracy: 0.6430 - val_top_k_categorical_accuracy: 0.8825\n",
            "Epoch 36/60\n",
            "390/390 [==============================] - ETA: 0s - loss: 0.0677 - accuracy: 0.9854 - top_k_categorical_accuracy: 0.9997\n",
            "Epoch 00036: val_loss did not improve from 1.39592\n",
            "390/390 [==============================] - 47s 120ms/step - loss: 0.0677 - accuracy: 0.9854 - top_k_categorical_accuracy: 0.9997 - val_loss: 1.5405 - val_accuracy: 0.6470 - val_top_k_categorical_accuracy: 0.8808\n",
            "Epoch 37/60\n",
            "390/390 [==============================] - ETA: 0s - loss: 0.0621 - accuracy: 0.9873 - top_k_categorical_accuracy: 0.9997\n",
            "Epoch 00037: ReduceLROnPlateau reducing learning rate to 0.001.\n",
            "\n",
            "Epoch 00037: val_loss did not improve from 1.39592\n",
            "390/390 [==============================] - 47s 120ms/step - loss: 0.0621 - accuracy: 0.9873 - top_k_categorical_accuracy: 0.9997 - val_loss: 1.5319 - val_accuracy: 0.6497 - val_top_k_categorical_accuracy: 0.8823\n",
            "Epoch 38/60\n",
            "390/390 [==============================] - ETA: 0s - loss: 0.0607 - accuracy: 0.9878 - top_k_categorical_accuracy: 0.9997\n",
            "Epoch 00038: val_loss did not improve from 1.39592\n",
            "390/390 [==============================] - 47s 120ms/step - loss: 0.0607 - accuracy: 0.9878 - top_k_categorical_accuracy: 0.9997 - val_loss: 1.5526 - val_accuracy: 0.6451 - val_top_k_categorical_accuracy: 0.8832\n",
            "Epoch 39/60\n",
            "390/390 [==============================] - ETA: 0s - loss: 0.0569 - accuracy: 0.9884 - top_k_categorical_accuracy: 0.9998\n",
            "Epoch 00039: val_loss did not improve from 1.39592\n",
            "390/390 [==============================] - 48s 124ms/step - loss: 0.0569 - accuracy: 0.9884 - top_k_categorical_accuracy: 0.9998 - val_loss: 1.5567 - val_accuracy: 0.6515 - val_top_k_categorical_accuracy: 0.8803\n",
            "Epoch 40/60\n",
            "390/390 [==============================] - ETA: 0s - loss: 0.0545 - accuracy: 0.9892 - top_k_categorical_accuracy: 0.9998\n",
            "Epoch 00040: val_loss did not improve from 1.39592\n",
            "390/390 [==============================] - 48s 123ms/step - loss: 0.0545 - accuracy: 0.9892 - top_k_categorical_accuracy: 0.9998 - val_loss: 1.5945 - val_accuracy: 0.6425 - val_top_k_categorical_accuracy: 0.8785\n",
            "Epoch 41/60\n",
            "390/390 [==============================] - ETA: 0s - loss: 0.0521 - accuracy: 0.9895 - top_k_categorical_accuracy: 0.9997\n",
            "Epoch 00041: val_loss did not improve from 1.39592\n",
            "390/390 [==============================] - 48s 123ms/step - loss: 0.0521 - accuracy: 0.9895 - top_k_categorical_accuracy: 0.9997 - val_loss: 1.5885 - val_accuracy: 0.6472 - val_top_k_categorical_accuracy: 0.8820\n",
            "Epoch 42/60\n",
            "390/390 [==============================] - ETA: 0s - loss: 0.0510 - accuracy: 0.9899 - top_k_categorical_accuracy: 0.9999\n",
            "Epoch 00042: ReduceLROnPlateau reducing learning rate to 0.001.\n",
            "\n",
            "Epoch 00042: val_loss did not improve from 1.39592\n",
            "390/390 [==============================] - 48s 123ms/step - loss: 0.0510 - accuracy: 0.9899 - top_k_categorical_accuracy: 0.9999 - val_loss: 1.6030 - val_accuracy: 0.6423 - val_top_k_categorical_accuracy: 0.8776\n",
            "Epoch 43/60\n",
            "390/390 [==============================] - ETA: 0s - loss: 0.0472 - accuracy: 0.9905 - top_k_categorical_accuracy: 0.9998\n",
            "Epoch 00043: val_loss did not improve from 1.39592\n",
            "390/390 [==============================] - 48s 123ms/step - loss: 0.0472 - accuracy: 0.9905 - top_k_categorical_accuracy: 0.9998 - val_loss: 1.5809 - val_accuracy: 0.6492 - val_top_k_categorical_accuracy: 0.8787\n",
            "Epoch 44/60\n",
            "390/390 [==============================] - ETA: 0s - loss: 0.0470 - accuracy: 0.9900 - top_k_categorical_accuracy: 0.9998\n",
            "Epoch 00044: val_loss did not improve from 1.39592\n",
            "390/390 [==============================] - 48s 123ms/step - loss: 0.0470 - accuracy: 0.9900 - top_k_categorical_accuracy: 0.9998 - val_loss: 1.5874 - val_accuracy: 0.6461 - val_top_k_categorical_accuracy: 0.8821\n",
            "Epoch 45/60\n",
            "390/390 [==============================] - ETA: 0s - loss: 0.0463 - accuracy: 0.9898 - top_k_categorical_accuracy: 0.9998\n",
            "Epoch 00045: val_loss did not improve from 1.39592\n",
            "390/390 [==============================] - 48s 123ms/step - loss: 0.0463 - accuracy: 0.9898 - top_k_categorical_accuracy: 0.9998 - val_loss: 1.5959 - val_accuracy: 0.6465 - val_top_k_categorical_accuracy: 0.8803\n",
            "Epoch 46/60\n",
            "390/390 [==============================] - ETA: 0s - loss: 0.0398 - accuracy: 0.9926 - top_k_categorical_accuracy: 1.0000\n",
            "Epoch 00046: val_loss did not improve from 1.39592\n",
            "390/390 [==============================] - 48s 122ms/step - loss: 0.0398 - accuracy: 0.9926 - top_k_categorical_accuracy: 1.0000 - val_loss: 1.5754 - val_accuracy: 0.6510 - val_top_k_categorical_accuracy: 0.8826\n",
            "Epoch 47/60\n",
            "390/390 [==============================] - ETA: 0s - loss: 0.0396 - accuracy: 0.9919 - top_k_categorical_accuracy: 0.9999\n",
            "Epoch 00047: ReduceLROnPlateau reducing learning rate to 0.001.\n",
            "\n",
            "Epoch 00047: val_loss did not improve from 1.39592\n",
            "390/390 [==============================] - 48s 122ms/step - loss: 0.0396 - accuracy: 0.9919 - top_k_categorical_accuracy: 0.9999 - val_loss: 1.6301 - val_accuracy: 0.6389 - val_top_k_categorical_accuracy: 0.8769\n",
            "Epoch 48/60\n",
            "390/390 [==============================] - ETA: 0s - loss: 0.0369 - accuracy: 0.9927 - top_k_categorical_accuracy: 0.9999\n",
            "Epoch 00048: val_loss did not improve from 1.39592\n",
            "390/390 [==============================] - 48s 122ms/step - loss: 0.0369 - accuracy: 0.9927 - top_k_categorical_accuracy: 0.9999 - val_loss: 1.6019 - val_accuracy: 0.6465 - val_top_k_categorical_accuracy: 0.8803\n",
            "Epoch 49/60\n",
            "390/390 [==============================] - ETA: 0s - loss: 0.0360 - accuracy: 0.9925 - top_k_categorical_accuracy: 1.0000\n",
            "Epoch 00049: val_loss did not improve from 1.39592\n",
            "390/390 [==============================] - 47s 121ms/step - loss: 0.0360 - accuracy: 0.9925 - top_k_categorical_accuracy: 1.0000 - val_loss: 1.6068 - val_accuracy: 0.6451 - val_top_k_categorical_accuracy: 0.8812\n",
            "Epoch 50/60\n",
            "390/390 [==============================] - ETA: 0s - loss: 0.0366 - accuracy: 0.9930 - top_k_categorical_accuracy: 0.9998\n",
            "Epoch 00050: val_loss did not improve from 1.39592\n",
            "390/390 [==============================] - 48s 122ms/step - loss: 0.0366 - accuracy: 0.9930 - top_k_categorical_accuracy: 0.9998 - val_loss: 1.6411 - val_accuracy: 0.6446 - val_top_k_categorical_accuracy: 0.8782\n",
            "Epoch 51/60\n",
            "390/390 [==============================] - ETA: 0s - loss: 0.0365 - accuracy: 0.9925 - top_k_categorical_accuracy: 0.9998\n",
            "Epoch 00051: val_loss did not improve from 1.39592\n",
            "390/390 [==============================] - 47s 122ms/step - loss: 0.0365 - accuracy: 0.9925 - top_k_categorical_accuracy: 0.9998 - val_loss: 1.6562 - val_accuracy: 0.6439 - val_top_k_categorical_accuracy: 0.8782\n",
            "Epoch 52/60\n",
            "390/390 [==============================] - ETA: 0s - loss: 0.0319 - accuracy: 0.9944 - top_k_categorical_accuracy: 1.0000\n",
            "Epoch 00052: ReduceLROnPlateau reducing learning rate to 0.001.\n",
            "\n",
            "Epoch 00052: val_loss did not improve from 1.39592\n",
            "390/390 [==============================] - 48s 122ms/step - loss: 0.0319 - accuracy: 0.9944 - top_k_categorical_accuracy: 1.0000 - val_loss: 1.6330 - val_accuracy: 0.6470 - val_top_k_categorical_accuracy: 0.8799\n",
            "Epoch 53/60\n",
            "390/390 [==============================] - ETA: 0s - loss: 0.0319 - accuracy: 0.9940 - top_k_categorical_accuracy: 0.9999\n",
            "Epoch 00053: val_loss did not improve from 1.39592\n",
            "390/390 [==============================] - 47s 122ms/step - loss: 0.0319 - accuracy: 0.9940 - top_k_categorical_accuracy: 0.9999 - val_loss: 1.7707 - val_accuracy: 0.6224 - val_top_k_categorical_accuracy: 0.8631\n",
            "Epoch 54/60\n",
            "390/390 [==============================] - ETA: 0s - loss: 0.0355 - accuracy: 0.9928 - top_k_categorical_accuracy: 0.9999\n",
            "Epoch 00054: val_loss did not improve from 1.39592\n",
            "390/390 [==============================] - 47s 122ms/step - loss: 0.0355 - accuracy: 0.9928 - top_k_categorical_accuracy: 0.9999 - val_loss: 1.6579 - val_accuracy: 0.6447 - val_top_k_categorical_accuracy: 0.8762\n",
            "Epoch 55/60\n",
            "390/390 [==============================] - ETA: 0s - loss: 0.0428 - accuracy: 0.9909 - top_k_categorical_accuracy: 0.9998\n",
            "Epoch 00055: val_loss did not improve from 1.39592\n",
            "390/390 [==============================] - 48s 122ms/step - loss: 0.0428 - accuracy: 0.9909 - top_k_categorical_accuracy: 0.9998 - val_loss: 1.6312 - val_accuracy: 0.6496 - val_top_k_categorical_accuracy: 0.8780\n",
            "Epoch 56/60\n",
            "390/390 [==============================] - ETA: 0s - loss: 0.0358 - accuracy: 0.9927 - top_k_categorical_accuracy: 0.9999\n",
            "Epoch 00056: val_loss did not improve from 1.39592\n",
            "390/390 [==============================] - 48s 122ms/step - loss: 0.0358 - accuracy: 0.9927 - top_k_categorical_accuracy: 0.9999 - val_loss: 1.6523 - val_accuracy: 0.6431 - val_top_k_categorical_accuracy: 0.8811\n",
            "Epoch 57/60\n",
            "390/390 [==============================] - ETA: 0s - loss: 0.0333 - accuracy: 0.9933 - top_k_categorical_accuracy: 0.9999\n",
            "Epoch 00057: ReduceLROnPlateau reducing learning rate to 0.001.\n",
            "\n",
            "Epoch 00057: val_loss did not improve from 1.39592\n",
            "390/390 [==============================] - 48s 122ms/step - loss: 0.0333 - accuracy: 0.9933 - top_k_categorical_accuracy: 0.9999 - val_loss: 1.6472 - val_accuracy: 0.6454 - val_top_k_categorical_accuracy: 0.8783\n",
            "Epoch 58/60\n",
            "390/390 [==============================] - ETA: 0s - loss: 0.0310 - accuracy: 0.9938 - top_k_categorical_accuracy: 0.9999\n",
            "Epoch 00058: val_loss did not improve from 1.39592\n",
            "390/390 [==============================] - 48s 122ms/step - loss: 0.0310 - accuracy: 0.9938 - top_k_categorical_accuracy: 0.9999 - val_loss: 1.6221 - val_accuracy: 0.6538 - val_top_k_categorical_accuracy: 0.8799\n",
            "Epoch 59/60\n",
            "390/390 [==============================] - ETA: 0s - loss: 0.0285 - accuracy: 0.9948 - top_k_categorical_accuracy: 0.9999\n",
            "Epoch 00059: val_loss did not improve from 1.39592\n",
            "390/390 [==============================] - 47s 122ms/step - loss: 0.0285 - accuracy: 0.9948 - top_k_categorical_accuracy: 0.9999 - val_loss: 1.6386 - val_accuracy: 0.6495 - val_top_k_categorical_accuracy: 0.8778\n",
            "Epoch 60/60\n",
            "390/390 [==============================] - ETA: 0s - loss: 0.0270 - accuracy: 0.9953 - top_k_categorical_accuracy: 1.0000\n",
            "Epoch 00060: val_loss did not improve from 1.39592\n",
            "390/390 [==============================] - 47s 121ms/step - loss: 0.0270 - accuracy: 0.9953 - top_k_categorical_accuracy: 1.0000 - val_loss: 1.6697 - val_accuracy: 0.6463 - val_top_k_categorical_accuracy: 0.8776\n"
          ],
          "name": "stdout"
        }
      ]
    },
    {
      "cell_type": "code",
      "metadata": {
        "id": "PfypPY4e1FhI",
        "outputId": "59bbfccf-4089-423b-9462-30482a26c0e1",
        "colab": {
          "base_uri": "https://localhost:8080/",
          "height": 281
        }
      },
      "source": [
        "def summarize_diagnostics(history):\n",
        "    # plot loss\n",
        "    pyplot.subplot(211)\n",
        "    pyplot.title('Cross Entropy Loss')\n",
        "    pyplot.plot(history.history['loss'], color='blue', label='train')\n",
        "    pyplot.plot(history.history['val_loss'], color='orange', label='test')\n",
        "    \n",
        "    # plot accuracy\n",
        "    pyplot.subplot(212)\n",
        "    pyplot.title('Classification Accuracy')\n",
        "    pyplot.plot(history.history['accuracy'], color='blue', label='train')\n",
        "    pyplot.plot(history.history['val_accuracy'], color='orange', label='test')\n",
        "    \n",
        "    # save plot to file\n",
        "    filename = \"DenseNet201_Pretrained\"\n",
        "    pyplot.savefig(filename + '_plot.png')\n",
        "    \n",
        "\n",
        "summarize_diagnostics(history)"
      ],
      "execution_count": 7,
      "outputs": [
        {
          "output_type": "display_data",
          "data": {
            "image/png": "[encoded data removed]",
            "text/plain": [
              "<Figure size 432x288 with 2 Axes>"
            ]
          },
          "metadata": {
            "tags": [],
            "needs_background": "light"
          }
        }
      ]
    },
    {
      "cell_type": "markdown",
      "metadata": {
        "id": "fIrtQTco4Cpi"
      },
      "source": [
        "## Final Prediciton"
      ]
    },
    {
      "cell_type": "code",
      "metadata": {
        "id": "gPZfH79FfXMC",
        "outputId": "9f1c7717-3614-457a-e47b-d26054b73c1e",
        "colab": {
          "base_uri": "https://localhost:8080/"
        }
      },
      "source": [
        "ypred = model.predict(x_test)\n",
        "\n",
        "total = 0\n",
        "accurate = 0\n",
        "accurateindex = []\n",
        "wrongindex = []\n",
        "\n",
        "for i in range(len(ypred)):\n",
        "    if np.argmax(ypred[i]) == np.argmax(y_test[i]):\n",
        "        accurate += 1\n",
        "        accurateindex.append(i)\n",
        "    else:\n",
        "        wrongindex.append(i)\n",
        "        \n",
        "    total += 1\n",
        "    \n",
        "print('Total-test-data;', total, '\\taccurately-predicted-data:', accurate, '\\t wrongly-predicted-data: ', total - accurate)\n",
        "print('Accuracy:', round(accurate/total*100, 3), '%')"
      ],
      "execution_count": 8,
      "outputs": [
        {
          "output_type": "stream",
          "text": [
            "Total-test-data; 10000 \taccurately-predicted-data: 6463 \t wrongly-predicted-data:  3537\n",
            "Accuracy: 64.63 %\n"
          ],
          "name": "stdout"
        }
      ]
    },
    {
      "cell_type": "markdown",
      "metadata": {
        "id": "VwxfMY5mfXME"
      },
      "source": [
        "### Heat Map"
      ]
    },
    {
      "cell_type": "code",
      "metadata": {
        "id": "A4piLJOmfXMF"
      },
      "source": [
        "Ypred = model.predict(x_test)\n",
        "\n",
        "Ypred = np.argmax(Ypred, axis=1)\n",
        "Ytrue = np.argmax(y_test, axis=1)\n",
        "\n",
        "cm = confusion_matrix(Ytrue, Ypred)\n",
        "plt.figure(figsize=(12, 12))\n",
        "ax = sns.heatmap(cm, cmap=\"rocket_r\", fmt=\".01f\",annot_kws={'size':16}, annot=True, square=True, xticklabels=label, yticklabels=label)\n",
        "ax.set_ylabel('Actual', fontsize=20)\n",
        "ax.set_xlabel('Predicted', fontsize=20)"
      ],
      "execution_count": null,
      "outputs": []
    },
    {
      "cell_type": "code",
      "metadata": {
        "id": "0VjSJvdW9fkj",
        "outputId": "d2a08a76-b30c-4864-df28-aec26f6f05f9",
        "colab": {
          "base_uri": "https://localhost:8080/"
        }
      },
      "source": [
        "from google.colab import drive\n",
        "drive.mount('/content/drive')"
      ],
      "execution_count": null,
      "outputs": [
        {
          "output_type": "stream",
          "text": [
            "Mounted at /content/drive\n"
          ],
          "name": "stdout"
        }
      ]
    }
  ]
}