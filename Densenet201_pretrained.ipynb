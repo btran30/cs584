{
  "nbformat": 4,
  "nbformat_minor": 0,
  "metadata": {
    "accelerator": "GPU",
    "colab": {
      "name": "Densenet201_pretrained.ipynb",
      "provenance": [],
      "collapsed_sections": [],
      "toc_visible": true,
      "include_colab_link": true
    },
    "kernelspec": {
      "display_name": "Python 3",
      "language": "python",
      "name": "python3"
    },
    "language_info": {
      "codemirror_mode": {
        "name": "ipython",
        "version": 3
      },
      "file_extension": ".py",
      "mimetype": "text/x-python",
      "name": "python",
      "nbconvert_exporter": "python",
      "pygments_lexer": "ipython3",
      "version": "3.8.6"
    }
  },
  "cells": [
    {
      "cell_type": "markdown",
      "metadata": {
        "id": "view-in-github",
        "colab_type": "text"
      },
      "source": [
        "<a href=\"https://colab.research.google.com/github/btran30/cs584/blob/brenda/Densenet201_pretrained.ipynb\" target=\"_parent\"><img src=\"https://colab.research.google.com/assets/colab-badge.svg\" alt=\"Open In Colab\"/></a>"
      ]
    },
    {
      "cell_type": "markdown",
      "metadata": {
        "id": "ZY5c1IBb4OVS"
      },
      "source": [
        "# DenseNet 201 Analysis"
      ]
    },
    {
      "cell_type": "markdown",
      "metadata": {
        "id": "gfoamKGa4XSl"
      },
      "source": [
        "## Library Import"
      ]
    },
    {
      "cell_type": "code",
      "metadata": {
        "colab": {
          "base_uri": "https://localhost:8080/"
        },
        "id": "cjZlTdjjfXLr",
        "outputId": "ee192d9d-b28c-4b99-b85e-942218aa4f6a"
      },
      "source": [
        "import tensorflow \n",
        "\n",
        "import pandas as pd\n",
        "import numpy as np\n",
        "import os\n",
        "import keras\n",
        "import random\n",
        "import cv2\n",
        "import math\n",
        "import seaborn as sns\n",
        "import matplotlib.pyplot as plt\n",
        "\n",
        "from sklearn.metrics import confusion_matrix\n",
        "from sklearn.preprocessing import LabelBinarizer\n",
        "from sklearn.model_selection import train_test_split\n",
        "from keras.utils.np_utils import to_categorical\n",
        "\n",
        "from tensorflow.keras.datasets import cifar100\n",
        "from tensorflow.keras.datasets import cifar10\n",
        "from tensorflow.keras.layers import Dense,GlobalAveragePooling2D,Convolution2D,BatchNormalization,Activation\n",
        "from tensorflow.keras.layers import Flatten,MaxPooling2D,Dropout\n",
        "from tensorflow.keras.applications import DenseNet201\n",
        "from tensorflow.keras.applications.densenet import preprocess_input\n",
        "\n",
        "from tensorflow.keras.preprocessing import image\n",
        "from tensorflow.keras.preprocessing.image import ImageDataGenerator,img_to_array\n",
        "from tensorflow.keras.models import Model\n",
        "from tensorflow.keras.optimizers import Adam,SGD\n",
        "from tensorflow.keras.callbacks import ModelCheckpoint, ReduceLROnPlateau\n",
        "\n",
        "import warnings\n",
        "warnings.filterwarnings(\"ignore\")\n",
        "\n",
        "print(\"Tensorflow-version:\", tensorflow.__version__)"
      ],
      "execution_count": 1,
      "outputs": [
        {
          "output_type": "stream",
          "text": [
            "Tensorflow-version: 2.3.0\n"
          ],
          "name": "stdout"
        }
      ]
    },
    {
      "cell_type": "markdown",
      "metadata": {
        "id": "j8rl-qhF4lP-"
      },
      "source": [
        "## Load Data from Keras"
      ]
    },
    {
      "cell_type": "code",
      "metadata": {
        "id": "bJ0MfUxMfXL5"
      },
      "source": [
        "def read_data(cifar_dataset):\n",
        "\n",
        "    if cifar_dataset == 100:\n",
        "        (x_train, y_train), (x_test, y_test) = cifar100.load_data()\n",
        "        # One-hot encoding for 100 classes.\n",
        "        y_train = to_categorical(y_train, 100)\n",
        "        y_test = to_categorical(y_test, 100)\n",
        "    else :\n",
        "        (x_train, y_train), (x_test, y_test) = cifar10.load_data()\n",
        "        y_train = to_categorical(y_train, 10)\n",
        "        y_test = to_categorical(y_test, 10)\n",
        "\n",
        "    print('Train: X=%s, y=%s' % (x_train.shape, y_train.shape))\n",
        "    print('Test: X=%s, y=%s' % (x_test.shape, y_test.shape))\n",
        "    return (x_train, y_train), (x_test, y_test) "
      ],
      "execution_count": 2,
      "outputs": []
    },
    {
      "cell_type": "markdown",
      "metadata": {
        "id": "Hjw4aw-b4qEs"
      },
      "source": [
        "## DenseNet 201 Model"
      ]
    },
    {
      "cell_type": "markdown",
      "metadata": {
        "id": "EW5ANnlB4xC_"
      },
      "source": [
        "We utilize ImageDataGenerator to augment our input data.  This should help us avoid overfitting."
      ]
    },
    {
      "cell_type": "code",
      "metadata": {
        "id": "gJXdLY1zXqwF"
      },
      "source": [
        "def run_model(cifar_dataset, x_train, y_train, x_test, y_test):\n",
        "    \n",
        "    input_shape=(32,32,3)\n",
        "    model_d=DenseNet201(weights='imagenet',include_top=False, input_shape=input_shape) \n",
        "\n",
        "    x=model_d.output\n",
        "\n",
        "    x= BatchNormalization()(x)\n",
        "    x= Activation('relu')(x)\n",
        "    x= GlobalAveragePooling2D()(x)\n",
        "\n",
        "    preds=Dense(cifar_dataset ,activation='softmax')(x) #FC-layer\n",
        "\n",
        "    model=Model(inputs=model_d.input, outputs=preds)\n",
        "\n",
        "    #model.summary()\n",
        "    #tf.keras.utils.plot_model( model , show_shapes=True )\n",
        "\n",
        "    sgd = SGD(lr=1e-3, decay=1e-6, momentum=0.9, nesterov=True)\n",
        "    model.compile(optimizer=sgd, loss='categorical_crossentropy', metrics=['accuracy', 'top_k_categorical_accuracy'])\n",
        "\n",
        "    batch_size = 128\n",
        "    epochs = 20\n",
        "\n",
        "    anne = ReduceLROnPlateau(monitor='val_accuracy', factor=0.5, patience=5, verbose=1, min_lr=1e-3)\n",
        "\n",
        "    datagen = ImageDataGenerator(zoom_range = 0.2, horizontal_flip=True, shear_range=0.2)\n",
        "\n",
        "    datagen.fit(x_train)\n",
        "    # Fits-the-model\n",
        "    history = model.fit_generator(datagen.flow(x_train, y_train, batch_size=batch_size),\n",
        "                   steps_per_epoch=x_train.shape[0] // batch_size,\n",
        "                   epochs=epochs,\n",
        "                   verbose=1,\n",
        "                   callbacks=[anne],\n",
        "                   validation_data=(x_test, y_test))\n",
        "    return history, model"
      ],
      "execution_count": 7,
      "outputs": []
    },
    {
      "cell_type": "code",
      "metadata": {
        "id": "Rwk0Fk9uQyd2"
      },
      "source": [
        "def summarize_diagnostics(history):\n",
        "    plt.subplots_adjust(hspace=0.7)\n",
        "    # plot loss\n",
        "    plt.subplot(211)\n",
        "    plt.title('Cross Entropy Loss')\n",
        "    plt.plot(history.history['loss'], color='blue', label='train')\n",
        "    plt.plot(history.history['val_loss'], color='orange', label='test')\n",
        "    \n",
        "    # plot accuracy\n",
        "    plt.subplot(212)\n",
        "    plt.title('Classification Accuracy')\n",
        "    plt.plot(history.history['accuracy'], color='blue', label='train')\n",
        "    plt.plot(history.history['val_accuracy'], color='orange', label='test')\n",
        "    \n",
        "    # save plot to file\n",
        "    #filename = \"DenseNet201_Pretrained\"\n",
        "    #plt.savefig(filename + '_plot.png')\n",
        "    \n",
        "    return history\n"
      ],
      "execution_count": 3,
      "outputs": []
    },
    {
      "cell_type": "code",
      "metadata": {
        "id": "GqKhzLKEQyd2"
      },
      "source": [
        "def final_prediction(model, x_test, y_test):\n",
        "    ypred = model.predict(x_test)\n",
        "\n",
        "    total = 0\n",
        "    accurate = 0\n",
        "    accurateindex = []\n",
        "    wrongindex = []\n",
        "\n",
        "    for i in range(len(ypred)):\n",
        "        if np.argmax(ypred[i]) == np.argmax(y_test[i]):\n",
        "            accurate += 1\n",
        "            accurateindex.append(i)\n",
        "        else:\n",
        "            wrongindex.append(i)\n",
        "\n",
        "        total += 1\n",
        "    \n",
        "    print('Total-test-data;', total, '\\taccurately-predicted-data:', accurate, '\\t wrongly-predicted-data: ', total - accurate)\n",
        "    print('Accuracy:', round(accurate/total*100, 3), '%')"
      ],
      "execution_count": 4,
      "outputs": []
    },
    {
      "cell_type": "markdown",
      "metadata": {
        "id": "M3i04VBsQyd2"
      },
      "source": [
        "### Run model"
      ]
    },
    {
      "cell_type": "code",
      "metadata": {
        "colab": {
          "base_uri": "https://localhost:8080/",
          "height": 1000
        },
        "id": "MxDh_9oUQyd2",
        "outputId": "3a02ea65-81cb-4ed1-f2a4-4bdabffe41d3"
      },
      "source": [
        "cifar_dataset = 100\n",
        "(x_train, y_train), (x_test, y_test) = read_data(cifar_dataset)\n",
        "history, model = run_model(cifar_dataset, x_train, y_train,x_test, y_test)\n",
        "print('\\n\\n')\n",
        "summarize_diagnostics(history)\n",
        "print('\\n')\n",
        "final_prediction(model, x_test, y_test)"
      ],
      "execution_count": 8,
      "outputs": [
        {
          "output_type": "stream",
          "text": [
            "Train: X=(50000, 32, 32, 3), y=(50000, 100)\n",
            "Test: X=(10000, 32, 32, 3), y=(10000, 100)\n",
            "Downloading data from https://storage.googleapis.com/tensorflow/keras-applications/densenet/densenet201_weights_tf_dim_ordering_tf_kernels_notop.h5\n",
            "74842112/74836368 [==============================] - 1s 0us/step\n",
            "WARNING:tensorflow:From <ipython-input-7-e2db1c00bc50>:36: Model.fit_generator (from tensorflow.python.keras.engine.training) is deprecated and will be removed in a future version.\n",
            "Instructions for updating:\n",
            "Please use Model.fit, which supports generators.\n",
            "Epoch 1/20\n",
            "390/390 [==============================] - 50s 128ms/step - loss: 3.4554 - accuracy: 0.2268 - top_k_categorical_accuracy: 0.4449 - val_loss: 2.7163 - val_accuracy: 0.3471 - val_top_k_categorical_accuracy: 0.6394\n",
            "Epoch 2/20\n",
            "390/390 [==============================] - 44s 113ms/step - loss: 2.2041 - accuracy: 0.4385 - top_k_categorical_accuracy: 0.7357 - val_loss: 2.3137 - val_accuracy: 0.4269 - val_top_k_categorical_accuracy: 0.7065\n",
            "Epoch 3/20\n",
            "390/390 [==============================] - 45s 114ms/step - loss: 1.7833 - accuracy: 0.5272 - top_k_categorical_accuracy: 0.8138 - val_loss: 1.8411 - val_accuracy: 0.5093 - val_top_k_categorical_accuracy: 0.7995\n",
            "Epoch 4/20\n",
            "390/390 [==============================] - 44s 113ms/step - loss: 1.5339 - accuracy: 0.5807 - top_k_categorical_accuracy: 0.8557 - val_loss: 1.7263 - val_accuracy: 0.5326 - val_top_k_categorical_accuracy: 0.8198\n",
            "Epoch 5/20\n",
            "390/390 [==============================] - 44s 114ms/step - loss: 1.3466 - accuracy: 0.6283 - top_k_categorical_accuracy: 0.8846 - val_loss: 1.6948 - val_accuracy: 0.5457 - val_top_k_categorical_accuracy: 0.8261\n",
            "Epoch 6/20\n",
            "390/390 [==============================] - 45s 115ms/step - loss: 1.2016 - accuracy: 0.6649 - top_k_categorical_accuracy: 0.9046 - val_loss: 1.4957 - val_accuracy: 0.5821 - val_top_k_categorical_accuracy: 0.8542\n",
            "Epoch 7/20\n",
            "390/390 [==============================] - 44s 114ms/step - loss: 1.0749 - accuracy: 0.6999 - top_k_categorical_accuracy: 0.9235 - val_loss: 1.4769 - val_accuracy: 0.5915 - val_top_k_categorical_accuracy: 0.8638\n",
            "Epoch 8/20\n",
            "390/390 [==============================] - 45s 114ms/step - loss: 0.9628 - accuracy: 0.7289 - top_k_categorical_accuracy: 0.9355 - val_loss: 1.6891 - val_accuracy: 0.5681 - val_top_k_categorical_accuracy: 0.8369\n",
            "Epoch 9/20\n",
            "390/390 [==============================] - 44s 113ms/step - loss: 0.8704 - accuracy: 0.7554 - top_k_categorical_accuracy: 0.9479 - val_loss: 1.4072 - val_accuracy: 0.6161 - val_top_k_categorical_accuracy: 0.8739\n",
            "Epoch 10/20\n",
            "390/390 [==============================] - 45s 115ms/step - loss: 0.7786 - accuracy: 0.7797 - top_k_categorical_accuracy: 0.9584 - val_loss: 1.4562 - val_accuracy: 0.6048 - val_top_k_categorical_accuracy: 0.8707\n",
            "Epoch 11/20\n",
            "390/390 [==============================] - 44s 112ms/step - loss: 0.7006 - accuracy: 0.8026 - top_k_categorical_accuracy: 0.9651 - val_loss: 1.4476 - val_accuracy: 0.6106 - val_top_k_categorical_accuracy: 0.8690\n",
            "Epoch 12/20\n",
            "390/390 [==============================] - 44s 113ms/step - loss: 0.6359 - accuracy: 0.8223 - top_k_categorical_accuracy: 0.9719 - val_loss: 1.4166 - val_accuracy: 0.6189 - val_top_k_categorical_accuracy: 0.8750\n",
            "Epoch 13/20\n",
            "390/390 [==============================] - 44s 112ms/step - loss: 0.5668 - accuracy: 0.8429 - top_k_categorical_accuracy: 0.9777 - val_loss: 1.4264 - val_accuracy: 0.6186 - val_top_k_categorical_accuracy: 0.8769\n",
            "Epoch 14/20\n",
            "390/390 [==============================] - 44s 113ms/step - loss: 0.5082 - accuracy: 0.8593 - top_k_categorical_accuracy: 0.9816 - val_loss: 1.4405 - val_accuracy: 0.6163 - val_top_k_categorical_accuracy: 0.8705\n",
            "Epoch 15/20\n",
            "390/390 [==============================] - 44s 112ms/step - loss: 0.4544 - accuracy: 0.8756 - top_k_categorical_accuracy: 0.9860 - val_loss: 1.4106 - val_accuracy: 0.6247 - val_top_k_categorical_accuracy: 0.8816\n",
            "Epoch 16/20\n",
            "390/390 [==============================] - 44s 113ms/step - loss: 0.4073 - accuracy: 0.8905 - top_k_categorical_accuracy: 0.9885 - val_loss: 1.4847 - val_accuracy: 0.6143 - val_top_k_categorical_accuracy: 0.8690\n",
            "Epoch 17/20\n",
            "390/390 [==============================] - 44s 113ms/step - loss: 0.3619 - accuracy: 0.9031 - top_k_categorical_accuracy: 0.9912 - val_loss: 1.4378 - val_accuracy: 0.6272 - val_top_k_categorical_accuracy: 0.8778\n",
            "Epoch 18/20\n",
            "390/390 [==============================] - 44s 113ms/step - loss: 0.3280 - accuracy: 0.9158 - top_k_categorical_accuracy: 0.9930 - val_loss: 1.4417 - val_accuracy: 0.6295 - val_top_k_categorical_accuracy: 0.8737\n",
            "Epoch 19/20\n",
            "390/390 [==============================] - 44s 113ms/step - loss: 0.3019 - accuracy: 0.9222 - top_k_categorical_accuracy: 0.9943 - val_loss: 1.5042 - val_accuracy: 0.6223 - val_top_k_categorical_accuracy: 0.8692\n",
            "Epoch 20/20\n",
            "390/390 [==============================] - 44s 112ms/step - loss: 0.2666 - accuracy: 0.9331 - top_k_categorical_accuracy: 0.9954 - val_loss: 1.5035 - val_accuracy: 0.6241 - val_top_k_categorical_accuracy: 0.8708\n",
            "\n",
            "\n",
            "\n",
            "\n",
            "\n",
            "Total-test-data; 10000 \taccurately-predicted-data: 6241 \t wrongly-predicted-data:  3759\n",
            "Accuracy: 62.41 %\n"
          ],
          "name": "stdout"
        },
        {
          "output_type": "display_data",
          "data": {
            "image/png": "[encoded data removed]",
            "text/plain": [
              "<Figure size 432x288 with 2 Axes>"
            ]
          },
          "metadata": {
            "tags": [],
            "needs_background": "light"
          }
        }
      ]
    },
    {
      "cell_type": "code",
      "metadata": {
        "id": "gPZfH79FfXMC"
      },
      "source": [
        ""
      ],
      "execution_count": null,
      "outputs": []
    },
    {
      "cell_type": "code",
      "metadata": {
        "colab": {
          "base_uri": "https://localhost:8080/"
        },
        "id": "0VjSJvdW9fkj",
        "outputId": "d2a08a76-b30c-4864-df28-aec26f6f05f9"
      },
      "source": [
        "from google.colab import drive\n",
        "drive.mount('/content/drive')"
      ],
      "execution_count": null,
      "outputs": [
        {
          "output_type": "stream",
          "text": [
            "Mounted at /content/drive\n"
          ],
          "name": "stdout"
        }
      ]
    }
  ]
}