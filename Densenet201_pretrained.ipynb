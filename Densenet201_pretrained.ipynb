{
  "nbformat": 4,
  "nbformat_minor": 0,
  "metadata": {
    "accelerator": "GPU",
    "colab": {
      "name": "Densenet201_pretrained.ipynb",
      "provenance": [],
      "collapsed_sections": [],
      "toc_visible": true,
      "include_colab_link": true
    },
    "kernelspec": {
      "display_name": "Python 3",
      "language": "python",
      "name": "python3"
    },
    "language_info": {
      "codemirror_mode": {
        "name": "ipython",
        "version": 3
      },
      "file_extension": ".py",
      "mimetype": "text/x-python",
      "name": "python",
      "nbconvert_exporter": "python",
      "pygments_lexer": "ipython3",
      "version": "3.8.6"
    }
  },
  "cells": [
    {
      "cell_type": "markdown",
      "metadata": {
        "id": "view-in-github",
        "colab_type": "text"
      },
      "source": [
        "<a href=\"https://colab.research.google.com/github/btran30/cs584/blob/brenda/Densenet201_pretrained.ipynb\" target=\"_parent\"><img src=\"https://colab.research.google.com/assets/colab-badge.svg\" alt=\"Open In Colab\"/></a>"
      ]
    },
    {
      "cell_type": "markdown",
      "metadata": {
        "id": "ZY5c1IBb4OVS"
      },
      "source": [
        "# DenseNet 201 Analysis"
      ]
    },
    {
      "cell_type": "markdown",
      "metadata": {
        "id": "gfoamKGa4XSl"
      },
      "source": [
        "## Library Import"
      ]
    },
    {
      "cell_type": "code",
      "metadata": {
        "colab": {
          "base_uri": "https://localhost:8080/"
        },
        "id": "cjZlTdjjfXLr",
        "outputId": "73038452-b4ec-4834-a76f-b2303a5120aa"
      },
      "source": [
        "import tensorflow \n",
        "import pandas as pd\n",
        "import numpy as np\n",
        "import os\n",
        "import keras\n",
        "import matplotlib.pyplot as plt\n",
        "import time\n",
        "\n",
        "from tensorflow.keras.datasets import cifar100, cifar10\n",
        "from tensorflow.keras.applications import DenseNet201\n",
        "from tensorflow.keras.layers import Dense,GlobalAveragePooling2D,Convolution2D,BatchNormalization,Activation,Flatten,MaxPooling2D,Dropout\n",
        "from tensorflow.keras.applications.densenet import preprocess_input\n",
        "from tensorflow.keras.preprocessing.image import ImageDataGenerator\n",
        "from tensorflow.keras.models import Model\n",
        "from tensorflow.keras.optimizers import Adam\n",
        "from tensorflow.keras.callbacks import ReduceLROnPlateau\n",
        "\n",
        "import warnings\n",
        "warnings.filterwarnings(\"ignore\")\n",
        "\n",
        "print(\"Tensorflow-version:\", tensorflow.__version__)"
      ],
      "execution_count": 1,
      "outputs": [
        {
          "output_type": "stream",
          "text": [
            "Tensorflow-version: 2.3.0\n"
          ],
          "name": "stdout"
        }
      ]
    },
    {
      "cell_type": "markdown",
      "metadata": {
        "id": "j8rl-qhF4lP-"
      },
      "source": [
        "## Load and preprocess Data from Keras"
      ]
    },
    {
      "cell_type": "code",
      "metadata": {
        "id": "bJ0MfUxMfXL5"
      },
      "source": [
        "def preprocess_data(num_classes):\n",
        "\n",
        "    if num_classes == 100:\n",
        "        (x_train, y_train), (x_test, y_test) = cifar100.load_data()\n",
        "    else :\n",
        "        (x_train, y_train), (x_test, y_test) = cifar10.load_data()\n",
        "        \n",
        "    x_train = tensorflow.keras.applications.densenet.preprocess_input(x_train)\n",
        "    x_test = tensorflow.keras.applications.densenet.preprocess_input(x_test)\n",
        "    y_train = tensorflow.keras.utils.to_categorical(y_train)\n",
        "    y_test = tensorflow.keras.utils.to_categorical(y_test)\n",
        "       \n",
        "    print('Train: X=%s, y=%s' % (x_train.shape, y_train.shape))\n",
        "    print('Test: X=%s, y=%s' % (x_test.shape, y_test.shape))\n",
        "    return (x_train, y_train), (x_test, y_test) "
      ],
      "execution_count": 2,
      "outputs": []
    },
    {
      "cell_type": "markdown",
      "metadata": {
        "id": "Hjw4aw-b4qEs"
      },
      "source": [
        "## DenseNet 201 Model"
      ]
    },
    {
      "cell_type": "markdown",
      "metadata": {
        "id": "EW5ANnlB4xC_"
      },
      "source": [
        "We utilize ImageDataGenerator to augment our input data.  This should help us avoid overfitting."
      ]
    },
    {
      "cell_type": "code",
      "metadata": {
        "id": "gJXdLY1zXqwF"
      },
      "source": [
        "def fit_model(num_classes, x_train, y_train, x_test, y_test):\n",
        "    densenet_model = DenseNet201(weights='imagenet', include_top=False, input_shape=(224, 224, 3))\n",
        "    for layer in densenet_model.layers:\n",
        "      if isinstance(layer, BatchNormalization):\n",
        "        layer.trainable = True  # update the weight\n",
        "      else:\n",
        "        layer.trainable = False\n",
        "        \n",
        "    model = Sequential()\n",
        "    model.add(UpSampling2D(size=(7,7)))\n",
        "    model.add(densenet_model)\n",
        "    model.add(GlobalAveragePooling2D())\n",
        "    model.add(Dense(256, activation='relu'))\n",
        "    model.add(Dropout(.25))\n",
        "    model.add(BatchNormalization())\n",
        "    model.add(Dense(num_classes, activation='softmax'))\n",
        "    model.compile(optimizer='Adam', loss='categorical_crossentropy', metrics=['accuracy', 'top_k_categorical_accuracy'])\n",
        "\n",
        "    datagen = ImageDataGenerator(rotation_range=8,\n",
        "                             shear_range=0.2, \n",
        "                             zoom_range=0.2,\n",
        "                             channel_shift_range=0.05, \n",
        "                             horizontal_flip=True)\n",
        "    datagen.fit(x_train)\n",
        "    # Fits-the-model\n",
        "    batch_size = 64\n",
        "    epochs = 10\n",
        "    anne = ReduceLROnPlateau(monitor='val_accuracy', factor=0.1, patience=5, verbose=1, min_lr=1e-3)\n",
        "    t=time.time()\n",
        "    history = model.fit(datagen.flow(x_train, y_train, batch_size=batch_size),\n",
        "               steps_per_epoch=x_train.shape[0] // batch_size,\n",
        "               epochs=epochs,\n",
        "               verbose=1,\n",
        "               callbacks=[anne],\n",
        "               validation_data=(x_test, y_test))\n",
        "    print('Training time: %s' % (time.time() -t))\n",
        "    model.save('Densenet201_cifar'+str(num_classes)+'.h5')\n",
        "    return history, model"
      ],
      "execution_count": 4,
      "outputs": []
    },
    {
      "cell_type": "code",
      "metadata": {
        "id": "Rwk0Fk9uQyd2"
      },
      "source": [
        "def summarize_diagnostics(num_classes, history):\n",
        "    cifar = 'CIFAR'+str(num_classes)\n",
        "    plt.subplots_adjust(hspace=0.7)\n",
        "    # plot loss\n",
        "    plt.subplot(211)\n",
        "    plt.title(cifar + ' Cross Entropy Loss')\n",
        "    plt.plot(history.history['loss'], color='blue', label='train')\n",
        "    plt.plot(history.history['val_loss'], color='orange', label='test')\n",
        "    \n",
        "    # plot accuracy\n",
        "    plt.subplot(212)\n",
        "    plt.title(cifar + ' Classification Accuracy')\n",
        "    plt.plot(history.history['accuracy'], color='blue', label='train')\n",
        "    plt.plot(history.history['val_accuracy'], color='orange', label='test')\n",
        "    \n",
        "    # save plot to file\n",
        "    #filename = \"DenseNet201_Pretrained\"\n",
        "    #plt.savefig(filename + '_plot.png')\n",
        "    \n",
        "    return history\n"
      ],
      "execution_count": null,
      "outputs": []
    },
    {
      "cell_type": "code",
      "metadata": {
        "id": "GqKhzLKEQyd2"
      },
      "source": [
        "def predict(model, x_test, y_test):\n",
        "    ypred = model.predict(x_test)\n",
        "\n",
        "    total = 0\n",
        "    accurate = 0\n",
        "    accurateindex = []\n",
        "    wrongindex = []\n",
        "\n",
        "    for i in range(len(ypred)):\n",
        "        if np.argmax(ypred[i]) == np.argmax(y_test[i]):\n",
        "            accurate += 1\n",
        "            accurateindex.append(i)\n",
        "        else:\n",
        "            wrongindex.append(i)\n",
        "\n",
        "        total += 1\n",
        "    \n",
        "    print('Total-test-data;', total, '\\taccurately-predicted-data:', accurate, '\\t wrongly-predicted-data: ', total - accurate)\n",
        "    print('Accuracy:', round(accurate/total*100, 3), '%')\n",
        "    return ypred"
      ],
      "execution_count": null,
      "outputs": []
    },
    {
      "cell_type": "markdown",
      "metadata": {
        "id": "M3i04VBsQyd2"
      },
      "source": [
        "### Run with CIFAR100"
      ]
    },
    {
      "cell_type": "code",
      "metadata": {
        "colab": {
          "base_uri": "https://localhost:8080/",
          "height": 1000
        },
        "id": "MxDh_9oUQyd2",
        "outputId": "dc40dc04-a657-49d2-85da-a2aaab27a8ca"
      },
      "source": [
        "num_classes = 100\n",
        "(x_train, y_train), (x_test, y_test) = preprocess_data(num_classes)\n",
        "history, model = fit_model(num_classes, x_train, y_train,x_test, y_test)\n",
        "print('\\n\\n')\n",
        "summarize_diagnostics(num_classes, history)\n",
        "print('\\n')\n",
        "predict(model, x_test, y_test)"
      ],
      "execution_count": null,
      "outputs": [
        {
          "output_type": "stream",
          "text": [
            "Train: X=(50000, 32, 32, 3), y=(50000, 100)\n",
            "Test: X=(10000, 32, 32, 3), y=(10000, 100)\n",
            "Epoch 1/20\n",
            "390/390 [==============================] - 55s 140ms/step - loss: 3.4578 - accuracy: 0.2266 - top_k_categorical_accuracy: 0.4550 - val_loss: 2.9230 - val_accuracy: 0.3106 - val_top_k_categorical_accuracy: 0.5992\n",
            "Epoch 2/20\n",
            "390/390 [==============================] - 48s 122ms/step - loss: 2.1764 - accuracy: 0.4446 - top_k_categorical_accuracy: 0.7504 - val_loss: 2.0832 - val_accuracy: 0.4549 - val_top_k_categorical_accuracy: 0.7548\n",
            "Epoch 3/20\n",
            "390/390 [==============================] - 48s 123ms/step - loss: 1.7428 - accuracy: 0.5339 - top_k_categorical_accuracy: 0.8260 - val_loss: 1.7707 - val_accuracy: 0.5190 - val_top_k_categorical_accuracy: 0.8134\n",
            "Epoch 4/20\n",
            "390/390 [==============================] - 48s 122ms/step - loss: 1.4940 - accuracy: 0.5895 - top_k_categorical_accuracy: 0.8650 - val_loss: 1.6784 - val_accuracy: 0.5416 - val_top_k_categorical_accuracy: 0.8284\n",
            "Epoch 5/20\n",
            "390/390 [==============================] - 48s 123ms/step - loss: 1.3165 - accuracy: 0.6355 - top_k_categorical_accuracy: 0.8919 - val_loss: 1.5662 - val_accuracy: 0.5669 - val_top_k_categorical_accuracy: 0.8476\n",
            "Epoch 6/20\n",
            "390/390 [==============================] - 47s 120ms/step - loss: 1.1715 - accuracy: 0.6701 - top_k_categorical_accuracy: 0.9107 - val_loss: 1.4468 - val_accuracy: 0.5983 - val_top_k_categorical_accuracy: 0.8684\n",
            "Epoch 7/20\n",
            "390/390 [==============================] - 47s 121ms/step - loss: 1.0456 - accuracy: 0.7046 - top_k_categorical_accuracy: 0.9272 - val_loss: 1.5001 - val_accuracy: 0.5871 - val_top_k_categorical_accuracy: 0.8551\n",
            "Epoch 8/20\n",
            "390/390 [==============================] - 48s 123ms/step - loss: 0.9455 - accuracy: 0.7304 - top_k_categorical_accuracy: 0.9391 - val_loss: 1.4005 - val_accuracy: 0.6126 - val_top_k_categorical_accuracy: 0.8762\n",
            "Epoch 9/20\n",
            "390/390 [==============================] - 48s 123ms/step - loss: 0.8481 - accuracy: 0.7599 - top_k_categorical_accuracy: 0.9526 - val_loss: 1.4186 - val_accuracy: 0.6108 - val_top_k_categorical_accuracy: 0.8694\n",
            "Epoch 10/20\n",
            "390/390 [==============================] - 47s 121ms/step - loss: 0.7586 - accuracy: 0.7836 - top_k_categorical_accuracy: 0.9605 - val_loss: 1.4280 - val_accuracy: 0.6102 - val_top_k_categorical_accuracy: 0.8722\n",
            "Epoch 11/20\n",
            "390/390 [==============================] - 47s 121ms/step - loss: 0.6793 - accuracy: 0.8082 - top_k_categorical_accuracy: 0.9689 - val_loss: 1.4773 - val_accuracy: 0.6018 - val_top_k_categorical_accuracy: 0.8626\n",
            "Epoch 12/20\n",
            "390/390 [==============================] - 47s 120ms/step - loss: 0.6106 - accuracy: 0.8292 - top_k_categorical_accuracy: 0.9748 - val_loss: 1.4136 - val_accuracy: 0.6209 - val_top_k_categorical_accuracy: 0.8757\n",
            "Epoch 13/20\n",
            "390/390 [==============================] - 46s 119ms/step - loss: 0.5415 - accuracy: 0.8483 - top_k_categorical_accuracy: 0.9807 - val_loss: 1.3884 - val_accuracy: 0.6264 - val_top_k_categorical_accuracy: 0.8784\n",
            "Epoch 14/20\n",
            "390/390 [==============================] - 48s 122ms/step - loss: 0.4876 - accuracy: 0.8663 - top_k_categorical_accuracy: 0.9843 - val_loss: 1.4445 - val_accuracy: 0.6205 - val_top_k_categorical_accuracy: 0.8708\n",
            "Epoch 15/20\n",
            "390/390 [==============================] - 47s 121ms/step - loss: 0.4306 - accuracy: 0.8837 - top_k_categorical_accuracy: 0.9884 - val_loss: 1.3915 - val_accuracy: 0.6365 - val_top_k_categorical_accuracy: 0.8789\n",
            "Epoch 16/20\n",
            "390/390 [==============================] - 46s 119ms/step - loss: 0.3740 - accuracy: 0.9006 - top_k_categorical_accuracy: 0.9914 - val_loss: 1.4100 - val_accuracy: 0.6315 - val_top_k_categorical_accuracy: 0.8787\n",
            "Epoch 17/20\n",
            "390/390 [==============================] - 47s 120ms/step - loss: 0.3375 - accuracy: 0.9116 - top_k_categorical_accuracy: 0.9934 - val_loss: 1.4801 - val_accuracy: 0.6193 - val_top_k_categorical_accuracy: 0.8713\n",
            "Epoch 18/20\n",
            "390/390 [==============================] - 47s 121ms/step - loss: 0.2997 - accuracy: 0.9225 - top_k_categorical_accuracy: 0.9952 - val_loss: 1.4378 - val_accuracy: 0.6365 - val_top_k_categorical_accuracy: 0.8798\n",
            "Epoch 19/20\n",
            "390/390 [==============================] - 47s 120ms/step - loss: 0.2749 - accuracy: 0.9296 - top_k_categorical_accuracy: 0.9965 - val_loss: 1.4972 - val_accuracy: 0.6278 - val_top_k_categorical_accuracy: 0.8714\n",
            "Epoch 20/20\n",
            "390/390 [==============================] - ETA: 0s - loss: 0.2428 - accuracy: 0.9399 - top_k_categorical_accuracy: 0.9971\n",
            "Epoch 00020: ReduceLROnPlateau reducing learning rate to 0.001.\n",
            "390/390 [==============================] - 47s 120ms/step - loss: 0.2428 - accuracy: 0.9399 - top_k_categorical_accuracy: 0.9971 - val_loss: 1.4868 - val_accuracy: 0.6299 - val_top_k_categorical_accuracy: 0.8740\n",
            "\n",
            "\n",
            "\n",
            "\n",
            "\n",
            "Total-test-data; 10000 \taccurately-predicted-data: 6299 \t wrongly-predicted-data:  3701\n",
            "Accuracy: 62.99 %\n"
          ],
          "name": "stdout"
        },
        {
          "output_type": "display_data",
          "data": {
            "image/png": "[encoded data removed]",
            "text/plain": [
              "<Figure size 432x288 with 2 Axes>"
            ]
          },
          "metadata": {
            "tags": [],
            "needs_background": "light"
          }
        }
      ]
    },
    {
      "cell_type": "markdown",
      "metadata": {
        "id": "iyVlCjq3mWle"
      },
      "source": [
        "### Run with CIFAR10"
      ]
    },
    {
      "cell_type": "code",
      "metadata": {
        "id": "Hxnxyb8VmWle",
        "outputId": "2c17a89a-80ae-4d4e-f61d-9e360e952875"
      },
      "source": [
        "num_classes = 10\n",
        "(x_train, y_train), (x_test, y_test) = preprocess_data(num_classes)\n",
        "history, model = fit_model(num_classes, x_train, y_train,x_test, y_test)\n",
        "print('\\n\\n')\n",
        "summarize_diagnostics(num_classes, history)\n",
        "print('\\n')\n",
        "predict(model, x_test, y_test)"
      ],
      "execution_count": null,
      "outputs": [
        {
          "output_type": "stream",
          "text": [
            "Train: X=(50000, 32, 32, 3), y=(50000, 10)\n",
            "Test: X=(10000, 32, 32, 3), y=(10000, 10)\n"
          ],
          "name": "stdout"
        },
        {
          "output_type": "error",
          "ename": "NameError",
          "evalue": "name 'fit_model' is not defined",
          "traceback": [
            "\u001b[0;31m---------------------------------------------------------------------------\u001b[0m",
            "\u001b[0;31mNameError\u001b[0m                                 Traceback (most recent call last)",
            "\u001b[0;32m<ipython-input-10-b873a9ca5fd0>\u001b[0m in \u001b[0;36m<module>\u001b[0;34m\u001b[0m\n\u001b[1;32m      1\u001b[0m \u001b[0mnum_classes\u001b[0m \u001b[0;34m=\u001b[0m \u001b[0;36m10\u001b[0m\u001b[0;34m\u001b[0m\u001b[0;34m\u001b[0m\u001b[0m\n\u001b[1;32m      2\u001b[0m \u001b[0;34m(\u001b[0m\u001b[0mx_train\u001b[0m\u001b[0;34m,\u001b[0m \u001b[0my_train\u001b[0m\u001b[0;34m)\u001b[0m\u001b[0;34m,\u001b[0m \u001b[0;34m(\u001b[0m\u001b[0mx_test\u001b[0m\u001b[0;34m,\u001b[0m \u001b[0my_test\u001b[0m\u001b[0;34m)\u001b[0m \u001b[0;34m=\u001b[0m \u001b[0mpreprocess_data\u001b[0m\u001b[0;34m(\u001b[0m\u001b[0mnum_classes\u001b[0m\u001b[0;34m)\u001b[0m\u001b[0;34m\u001b[0m\u001b[0;34m\u001b[0m\u001b[0m\n\u001b[0;32m----> 3\u001b[0;31m \u001b[0mhistory\u001b[0m\u001b[0;34m,\u001b[0m \u001b[0mmodel\u001b[0m \u001b[0;34m=\u001b[0m \u001b[0mfit_model\u001b[0m\u001b[0;34m(\u001b[0m\u001b[0mnum_classes\u001b[0m\u001b[0;34m,\u001b[0m \u001b[0mx_train\u001b[0m\u001b[0;34m,\u001b[0m \u001b[0my_train\u001b[0m\u001b[0;34m,\u001b[0m\u001b[0mx_test\u001b[0m\u001b[0;34m,\u001b[0m \u001b[0my_test\u001b[0m\u001b[0;34m)\u001b[0m\u001b[0;34m\u001b[0m\u001b[0;34m\u001b[0m\u001b[0m\n\u001b[0m\u001b[1;32m      4\u001b[0m \u001b[0mprint\u001b[0m\u001b[0;34m(\u001b[0m\u001b[0;34m'\\n\\n'\u001b[0m\u001b[0;34m)\u001b[0m\u001b[0;34m\u001b[0m\u001b[0;34m\u001b[0m\u001b[0m\n\u001b[1;32m      5\u001b[0m \u001b[0msummarize_diagnostics\u001b[0m\u001b[0;34m(\u001b[0m\u001b[0mnum_classes\u001b[0m\u001b[0;34m,\u001b[0m \u001b[0mhistory\u001b[0m\u001b[0;34m)\u001b[0m\u001b[0;34m\u001b[0m\u001b[0;34m\u001b[0m\u001b[0m\n",
            "\u001b[0;31mNameError\u001b[0m: name 'fit_model' is not defined"
          ]
        }
      ]
    },
    {
      "cell_type": "code",
      "metadata": {
        "id": "2To0wzcgmWle"
      },
      "source": [
        ""
      ],
      "execution_count": null,
      "outputs": []
    }
  ]
}