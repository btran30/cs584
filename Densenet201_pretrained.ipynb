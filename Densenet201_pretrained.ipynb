{
  "nbformat": 4,
  "nbformat_minor": 0,
  "metadata": {
    "accelerator": "GPU",
    "colab": {
      "name": "Densenet201_pretrained.ipynb",
      "provenance": [],
      "collapsed_sections": [],
      "include_colab_link": true
    },
    "kernelspec": {
      "display_name": "Python 3",
      "language": "python",
      "name": "python3"
    },
    "language_info": {
      "codemirror_mode": {
        "name": "ipython",
        "version": 3
      },
      "file_extension": ".py",
      "mimetype": "text/x-python",
      "name": "python",
      "nbconvert_exporter": "python",
      "pygments_lexer": "ipython3",
      "version": "3.8.6"
    }
  },
  "cells": [
    {
      "cell_type": "markdown",
      "metadata": {
        "id": "view-in-github",
        "colab_type": "text"
      },
      "source": [
        "<a href=\"https://colab.research.google.com/github/btran30/cs584/blob/brenda/Densenet201_pretrained.ipynb\" target=\"_parent\"><img src=\"https://colab.research.google.com/assets/colab-badge.svg\" alt=\"Open In Colab\"/></a>"
      ]
    },
    {
      "cell_type": "markdown",
      "metadata": {
        "id": "ZY5c1IBb4OVS"
      },
      "source": [
        "# DenseNet 201 Analysis"
      ]
    },
    {
      "cell_type": "markdown",
      "metadata": {
        "id": "gfoamKGa4XSl"
      },
      "source": [
        "## Library Import"
      ]
    },
    {
      "cell_type": "code",
      "metadata": {
        "colab": {
          "base_uri": "https://localhost:8080/"
        },
        "id": "cjZlTdjjfXLr",
        "outputId": "8f8d0ece-b1ce-4294-a789-759ca4811177"
      },
      "source": [
        "import tensorflow \n",
        "import pandas as pd\n",
        "import numpy as np\n",
        "import os\n",
        "import keras\n",
        "import matplotlib.pyplot as plt\n",
        "import time\n",
        "\n",
        "from tensorflow.keras.datasets import cifar100, cifar10\n",
        "from tensorflow.keras.applications import DenseNet201\n",
        "from tensorflow.keras.layers import Dense,GlobalAveragePooling2D,Convolution2D,BatchNormalization,Activation,Flatten,MaxPooling2D,Dropout,UpSampling2D\n",
        "from tensorflow.keras.applications.densenet import preprocess_input\n",
        "from tensorflow.keras.preprocessing.image import ImageDataGenerator\n",
        "from tensorflow.keras.models import Model, Sequential\n",
        "from tensorflow.keras.optimizers import Adam\n",
        "from tensorflow.keras.callbacks import ReduceLROnPlateau\n",
        "\n",
        "import warnings\n",
        "warnings.filterwarnings(\"ignore\")\n",
        "\n",
        "print(\"Tensorflow-version:\", tensorflow.__version__)"
      ],
      "execution_count": 3,
      "outputs": [
        {
          "output_type": "stream",
          "text": [
            "Tensorflow-version: 2.3.0\n"
          ],
          "name": "stdout"
        }
      ]
    },
    {
      "cell_type": "markdown",
      "metadata": {
        "id": "j8rl-qhF4lP-"
      },
      "source": [
        "## Load and preprocess Data from Keras"
      ]
    },
    {
      "cell_type": "code",
      "metadata": {
        "id": "bJ0MfUxMfXL5"
      },
      "source": [
        "def preprocess_data(num_classes):\n",
        "\n",
        "    if num_classes == 100:\n",
        "        (x_train, y_train), (x_test, y_test) = cifar100.load_data()\n",
        "    else :\n",
        "        (x_train, y_train), (x_test, y_test) = cifar10.load_data()\n",
        "        \n",
        "    x_train = tensorflow.keras.applications.densenet.preprocess_input(x_train)\n",
        "    x_test = tensorflow.keras.applications.densenet.preprocess_input(x_test)\n",
        "    y_train = tensorflow.keras.utils.to_categorical(y_train)\n",
        "    y_test = tensorflow.keras.utils.to_categorical(y_test)\n",
        "       \n",
        "    print('Train: X=%s, y=%s' % (x_train.shape, y_train.shape))\n",
        "    print('Test: X=%s, y=%s' % (x_test.shape, y_test.shape))\n",
        "    return (x_train, y_train), (x_test, y_test) "
      ],
      "execution_count": 4,
      "outputs": []
    },
    {
      "cell_type": "markdown",
      "metadata": {
        "id": "Hjw4aw-b4qEs"
      },
      "source": [
        "## DenseNet 201 Model"
      ]
    },
    {
      "cell_type": "markdown",
      "metadata": {
        "id": "EW5ANnlB4xC_"
      },
      "source": [
        "We utilize ImageDataGenerator to augment our input data.  This should help us avoid overfitting."
      ]
    },
    {
      "cell_type": "code",
      "metadata": {
        "id": "gJXdLY1zXqwF"
      },
      "source": [
        "def fit_model(num_classes, x_train, y_train, x_test, y_test):\n",
        "    densenet_model = DenseNet201(weights='imagenet', include_top=False, input_shape=(224, 224, 3))\n",
        "    for layer in densenet_model.layers:\n",
        "      if isinstance(layer, BatchNormalization):\n",
        "        layer.trainable = True  # update the weight\n",
        "      else:\n",
        "        layer.trainable = False\n",
        "        \n",
        "    model = Sequential()\n",
        "    model.add(UpSampling2D(size=(7,7)))\n",
        "    model.add(densenet_model)\n",
        "    model.add(GlobalAveragePooling2D())\n",
        "    model.add(Dense(256, activation='relu'))\n",
        "    model.add(Dropout(.25))\n",
        "    model.add(BatchNormalization())\n",
        "    model.add(Dense(num_classes, activation='softmax'))\n",
        "    model.compile(optimizer='Adam', loss='categorical_crossentropy', metrics=['accuracy', 'top_k_categorical_accuracy'])\n",
        "\n",
        "    datagen = ImageDataGenerator(rotation_range=8,\n",
        "                             shear_range=0.2, \n",
        "                             zoom_range=0.2,\n",
        "                             channel_shift_range=0.05, \n",
        "                             horizontal_flip=True)\n",
        "    datagen.fit(x_train)\n",
        "    # Fits-the-model\n",
        "    batch_size = 64\n",
        "    epochs = 10\n",
        "    anne = ReduceLROnPlateau(monitor='val_accuracy', factor=0.1, patience=5, verbose=1, min_lr=1e-3)\n",
        "    t=time.time()\n",
        "    history = model.fit(datagen.flow(x_train, y_train, batch_size=batch_size),\n",
        "               steps_per_epoch=x_train.shape[0] // batch_size,\n",
        "               epochs=epochs,\n",
        "               verbose=1,\n",
        "               callbacks=[anne],\n",
        "               validation_data=(x_test, y_test))\n",
        "    print('Training time: %s' % (time.time() -t))\n",
        "    model.save('Densenet201_cifar'+str(num_classes)+'.h5')\n",
        "    return history, model"
      ],
      "execution_count": 5,
      "outputs": []
    },
    {
      "cell_type": "code",
      "metadata": {
        "id": "Rwk0Fk9uQyd2"
      },
      "source": [
        "def summarize_diagnostics(num_classes, history):\n",
        "    cifar = 'CIFAR'+str(num_classes)\n",
        "    plt.subplots_adjust(hspace=0.7)\n",
        "    # plot loss\n",
        "    plt.subplot(211)\n",
        "    plt.title(cifar + ' Cross Entropy Loss')\n",
        "    plt.plot(history.history['loss'], color='blue', label='train')\n",
        "    plt.plot(history.history['val_loss'], color='orange', label='test')\n",
        "    \n",
        "    # plot accuracy\n",
        "    plt.subplot(212)\n",
        "    plt.title(cifar + ' Classification Accuracy')\n",
        "    plt.plot(history.history['accuracy'], color='blue', label='train')\n",
        "    plt.plot(history.history['val_accuracy'], color='orange', label='test')\n",
        "    \n",
        "    # save plot to file\n",
        "    #filename = \"DenseNet201_Pretrained\"\n",
        "    #plt.savefig(filename + '_plot.png')\n",
        "    \n",
        "    return history\n"
      ],
      "execution_count": 6,
      "outputs": []
    },
    {
      "cell_type": "code",
      "metadata": {
        "id": "GqKhzLKEQyd2"
      },
      "source": [
        "def predict(model, x_test, y_test):\n",
        "    ypred = model.predict(x_test)\n",
        "\n",
        "    total = 0\n",
        "    accurate = 0\n",
        "    accurateindex = []\n",
        "    wrongindex = []\n",
        "\n",
        "    for i in range(len(ypred)):\n",
        "        if np.argmax(ypred[i]) == np.argmax(y_test[i]):\n",
        "            accurate += 1\n",
        "            accurateindex.append(i)\n",
        "        else:\n",
        "            wrongindex.append(i)\n",
        "\n",
        "        total += 1\n",
        "    \n",
        "    print('Total-test-data;', total, '\\taccurately-predicted-data:', accurate, '\\t wrongly-predicted-data: ', total - accurate)\n",
        "    print('Accuracy:', round(accurate/total*100, 3), '%')\n",
        "    return ypred"
      ],
      "execution_count": 7,
      "outputs": []
    },
    {
      "cell_type": "markdown",
      "metadata": {
        "id": "M3i04VBsQyd2"
      },
      "source": [
        "### Run with CIFAR100"
      ]
    },
    {
      "cell_type": "code",
      "metadata": {
        "colab": {
          "base_uri": "https://localhost:8080/",
          "height": 857
        },
        "id": "MxDh_9oUQyd2",
        "outputId": "4f19b1bd-27ae-4826-9a68-052037ac462b"
      },
      "source": [
        "num_classes = 100\n",
        "(x_train, y_train), (x_test, y_test) = preprocess_data(num_classes)\n",
        "history, model = fit_model(num_classes, x_train, y_train,x_test, y_test)\n",
        "print('\\n\\n')\n",
        "summarize_diagnostics(num_classes, history)\n",
        "print('\\n')\n",
        "pred = predict(model, x_test, y_test)"
      ],
      "execution_count": 9,
      "outputs": [
        {
          "output_type": "stream",
          "text": [
            "Downloading data from https://www.cs.toronto.edu/~kriz/cifar-100-python.tar.gz\n",
            "169009152/169001437 [==============================] - 4s 0us/step\n",
            "Train: X=(50000, 32, 32, 3), y=(50000, 100)\n",
            "Test: X=(10000, 32, 32, 3), y=(10000, 100)\n",
            "Epoch 1/10\n",
            "781/781 [==============================] - 686s 879ms/step - loss: 1.6651 - accuracy: 0.5653 - top_k_categorical_accuracy: 0.8299 - val_loss: 0.9007 - val_accuracy: 0.7286 - val_top_k_categorical_accuracy: 0.9454\n",
            "Epoch 2/10\n",
            "781/781 [==============================] - 694s 889ms/step - loss: 0.9351 - accuracy: 0.7235 - top_k_categorical_accuracy: 0.9430 - val_loss: 0.8315 - val_accuracy: 0.7527 - val_top_k_categorical_accuracy: 0.9490\n",
            "Epoch 3/10\n",
            "781/781 [==============================] - 694s 888ms/step - loss: 0.8124 - accuracy: 0.7557 - top_k_categorical_accuracy: 0.9562 - val_loss: 0.8763 - val_accuracy: 0.7463 - val_top_k_categorical_accuracy: 0.9458\n",
            "Epoch 4/10\n",
            "781/781 [==============================] - 687s 880ms/step - loss: 0.7324 - accuracy: 0.7769 - top_k_categorical_accuracy: 0.9631 - val_loss: 0.9023 - val_accuracy: 0.7375 - val_top_k_categorical_accuracy: 0.9455\n",
            "Epoch 5/10\n",
            "781/781 [==============================] - 689s 882ms/step - loss: 0.6902 - accuracy: 0.7887 - top_k_categorical_accuracy: 0.9672 - val_loss: 0.7812 - val_accuracy: 0.7681 - val_top_k_categorical_accuracy: 0.9578\n",
            "Epoch 6/10\n",
            "781/781 [==============================] - 688s 881ms/step - loss: 0.6523 - accuracy: 0.7978 - top_k_categorical_accuracy: 0.9703 - val_loss: 0.7620 - val_accuracy: 0.7747 - val_top_k_categorical_accuracy: 0.9603\n",
            "Epoch 7/10\n",
            "781/781 [==============================] - 688s 881ms/step - loss: 0.6049 - accuracy: 0.8101 - top_k_categorical_accuracy: 0.9743 - val_loss: 0.8550 - val_accuracy: 0.7580 - val_top_k_categorical_accuracy: 0.9492\n",
            "Epoch 8/10\n",
            "781/781 [==============================] - 691s 885ms/step - loss: 0.5943 - accuracy: 0.8156 - top_k_categorical_accuracy: 0.9738 - val_loss: 0.7059 - val_accuracy: 0.7964 - val_top_k_categorical_accuracy: 0.9627\n",
            "Epoch 9/10\n",
            "781/781 [==============================] - 690s 884ms/step - loss: 0.5716 - accuracy: 0.8200 - top_k_categorical_accuracy: 0.9776 - val_loss: 0.6727 - val_accuracy: 0.8044 - val_top_k_categorical_accuracy: 0.9666\n",
            "Epoch 10/10\n",
            "781/781 [==============================] - 687s 880ms/step - loss: 0.5460 - accuracy: 0.8278 - top_k_categorical_accuracy: 0.9784 - val_loss: 0.7749 - val_accuracy: 0.7832 - val_top_k_categorical_accuracy: 0.9592\n",
            "Training time: 6919.983092308044\n",
            "\n",
            "\n",
            "\n",
            "\n",
            "\n",
            "Total-test-data; 10000 \taccurately-predicted-data: 7832 \t wrongly-predicted-data:  2168\n",
            "Accuracy: 78.32 %\n"
          ],
          "name": "stdout"
        },
        {
          "output_type": "display_data",
          "data": {
            "image/png": "[encoded data removed]",
            "text/plain": [
              "<Figure size 432x288 with 2 Axes>"
            ]
          },
          "metadata": {
            "tags": [],
            "needs_background": "light"
          }
        }
      ]
    },
    {
      "cell_type": "markdown",
      "metadata": {
        "id": "iyVlCjq3mWle"
      },
      "source": [
        "### Run with CIFAR10"
      ]
    },
    {
      "cell_type": "code",
      "metadata": {
        "colab": {
          "base_uri": "https://localhost:8080/",
          "height": 891
        },
        "id": "Hxnxyb8VmWle",
        "outputId": "6e2c68bb-4960-4ed6-a54b-a4874d812bfb"
      },
      "source": [
        "num_classes = 10\n",
        "(x_train, y_train), (x_test, y_test) = preprocess_data(num_classes)\n",
        "history, model = fit_model(num_classes, x_train, y_train,x_test, y_test)\n",
        "print('\\n\\n')\n",
        "summarize_diagnostics(num_classes, history)\n",
        "print('\\n')\n",
        "pred = predict(model, x_test, y_test)"
      ],
      "execution_count": 8,
      "outputs": [
        {
          "output_type": "stream",
          "text": [
            "Downloading data from https://www.cs.toronto.edu/~kriz/cifar-10-python.tar.gz\n",
            "170500096/170498071 [==============================] - 4s 0us/step\n",
            "Train: X=(50000, 32, 32, 3), y=(50000, 10)\n",
            "Test: X=(10000, 32, 32, 3), y=(10000, 10)\n",
            "Downloading data from https://storage.googleapis.com/tensorflow/keras-applications/densenet/densenet201_weights_tf_dim_ordering_tf_kernels_notop.h5\n",
            "74842112/74836368 [==============================] - 1s 0us/step\n",
            "Epoch 1/10\n",
            "781/781 [==============================] - 702s 899ms/step - loss: 0.3780 - accuracy: 0.8720 - top_k_categorical_accuracy: 0.9916 - val_loss: 0.1658 - val_accuracy: 0.9445 - val_top_k_categorical_accuracy: 0.9991\n",
            "Epoch 2/10\n",
            "781/781 [==============================] - 700s 896ms/step - loss: 0.1901 - accuracy: 0.9364 - top_k_categorical_accuracy: 0.9989 - val_loss: 0.1549 - val_accuracy: 0.9468 - val_top_k_categorical_accuracy: 0.9998\n",
            "Epoch 3/10\n",
            "781/781 [==============================] - 698s 893ms/step - loss: 0.1621 - accuracy: 0.9455 - top_k_categorical_accuracy: 0.9992 - val_loss: 0.1602 - val_accuracy: 0.9477 - val_top_k_categorical_accuracy: 0.9990\n",
            "Epoch 4/10\n",
            "781/781 [==============================] - 697s 893ms/step - loss: 0.1428 - accuracy: 0.9511 - top_k_categorical_accuracy: 0.9994 - val_loss: 0.1706 - val_accuracy: 0.9418 - val_top_k_categorical_accuracy: 0.9995\n",
            "Epoch 5/10\n",
            "781/781 [==============================] - 697s 892ms/step - loss: 0.1305 - accuracy: 0.9555 - top_k_categorical_accuracy: 0.9994 - val_loss: 0.1472 - val_accuracy: 0.9533 - val_top_k_categorical_accuracy: 0.9995\n",
            "Epoch 6/10\n",
            "781/781 [==============================] - 696s 891ms/step - loss: 0.1166 - accuracy: 0.9601 - top_k_categorical_accuracy: 0.9996 - val_loss: 0.1399 - val_accuracy: 0.9538 - val_top_k_categorical_accuracy: 0.9996\n",
            "Epoch 7/10\n",
            "781/781 [==============================] - 696s 891ms/step - loss: 0.1138 - accuracy: 0.9617 - top_k_categorical_accuracy: 0.9995 - val_loss: 0.2077 - val_accuracy: 0.9377 - val_top_k_categorical_accuracy: 0.9987\n",
            "Epoch 8/10\n",
            "781/781 [==============================] - 695s 889ms/step - loss: 0.1033 - accuracy: 0.9650 - top_k_categorical_accuracy: 0.9997 - val_loss: 0.1581 - val_accuracy: 0.9502 - val_top_k_categorical_accuracy: 0.9989\n",
            "Epoch 9/10\n",
            "781/781 [==============================] - 691s 884ms/step - loss: 0.1000 - accuracy: 0.9647 - top_k_categorical_accuracy: 0.9998 - val_loss: 0.1952 - val_accuracy: 0.9405 - val_top_k_categorical_accuracy: 0.9981\n",
            "Epoch 10/10\n",
            "781/781 [==============================] - 689s 883ms/step - loss: 0.0930 - accuracy: 0.9679 - top_k_categorical_accuracy: 0.9998 - val_loss: 0.1368 - val_accuracy: 0.9583 - val_top_k_categorical_accuracy: 0.9997\n",
            "Training time: 6996.347300052643\n",
            "\n",
            "\n",
            "\n",
            "\n",
            "\n",
            "Total-test-data; 10000 \taccurately-predicted-data: 9583 \t wrongly-predicted-data:  417\n",
            "Accuracy: 95.83 %\n"
          ],
          "name": "stdout"
        },
        {
          "output_type": "display_data",
          "data": {
            "image/png": "[encoded data removed]",
            "text/plain": [
              "<Figure size 432x288 with 2 Axes>"
            ]
          },
          "metadata": {
            "tags": [],
            "needs_background": "light"
          }
        }
      ]
    },
    {
      "cell_type": "code",
      "metadata": {
        "id": "2To0wzcgmWle"
      },
      "source": [
        ""
      ],
      "execution_count": null,
      "outputs": []
    }
  ]
}