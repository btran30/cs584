{
  "nbformat": 4,
  "nbformat_minor": 0,
  "metadata": {
    "accelerator": "GPU",
    "colab": {
      "name": "Densenet201_pretrained.ipynb",
      "provenance": [],
      "collapsed_sections": [],
      "toc_visible": true,
      "include_colab_link": true
    },
    "kernelspec": {
      "display_name": "Python 3",
      "language": "python",
      "name": "python3"
    },
    "language_info": {
      "codemirror_mode": {
        "name": "ipython",
        "version": 3
      },
      "file_extension": ".py",
      "mimetype": "text/x-python",
      "name": "python",
      "nbconvert_exporter": "python",
      "pygments_lexer": "ipython3",
      "version": "3.8.6"
    }
  },
  "cells": [
    {
      "cell_type": "markdown",
      "metadata": {
        "id": "view-in-github",
        "colab_type": "text"
      },
      "source": [
        "<a href=\"https://colab.research.google.com/github/btran30/cs584/blob/brenda/Densenet201_pretrained.ipynb\" target=\"_parent\"><img src=\"https://colab.research.google.com/assets/colab-badge.svg\" alt=\"Open In Colab\"/></a>"
      ]
    },
    {
      "cell_type": "markdown",
      "metadata": {
        "id": "ZY5c1IBb4OVS"
      },
      "source": [
        "# DenseNet 201 Analysis"
      ]
    },
    {
      "cell_type": "code",
      "metadata": {
        "id": "LPcUHS7trLk4"
      },
      "source": [
        ""
      ],
      "execution_count": null,
      "outputs": []
    },
    {
      "cell_type": "markdown",
      "metadata": {
        "id": "gfoamKGa4XSl"
      },
      "source": [
        "## Library Import"
      ]
    },
    {
      "cell_type": "code",
      "metadata": {
        "id": "pf3xqMyzrJpb"
      },
      "source": [
        "import numpy as np\n",
        "import tensorflow as tf\n",
        "import random as python_random\n",
        "\n",
        "np.random.seed(123)\n",
        "python_random.seed(123)\n",
        "tf.random.set_seed(1234)"
      ],
      "execution_count": 1,
      "outputs": []
    },
    {
      "cell_type": "code",
      "metadata": {
        "colab": {
          "base_uri": "https://localhost:8080/"
        },
        "id": "cjZlTdjjfXLr",
        "outputId": "4ddae994-8fe6-49fe-efa2-d90dcdd620ec"
      },
      "source": [
        "import tensorflow \n",
        "import pandas as pd\n",
        "import numpy as np\n",
        "import os\n",
        "import keras\n",
        "import matplotlib.pyplot as plt\n",
        "import time\n",
        "\n",
        "from tensorflow.keras.datasets import cifar100, cifar10\n",
        "from tensorflow.keras.applications import DenseNet201\n",
        "from tensorflow.keras.layers import Dense,GlobalAveragePooling2D,Convolution2D,BatchNormalization,Activation,Flatten,MaxPooling2D,Dropout,UpSampling2D\n",
        "from tensorflow.keras.applications.densenet import preprocess_input\n",
        "from tensorflow.keras.preprocessing.image import ImageDataGenerator\n",
        "from tensorflow.keras.models import Model, Sequential\n",
        "from tensorflow.keras.optimizers import Adam\n",
        "from tensorflow.keras.callbacks import ReduceLROnPlateau, ModelCheckpoint\n",
        "\n",
        "import warnings\n",
        "warnings.filterwarnings(\"ignore\")\n",
        "\n",
        "print(\"Tensorflow-version:\", tensorflow.__version__)"
      ],
      "execution_count": 2,
      "outputs": [
        {
          "output_type": "stream",
          "text": [
            "Tensorflow-version: 2.3.0\n"
          ],
          "name": "stdout"
        }
      ]
    },
    {
      "cell_type": "markdown",
      "metadata": {
        "id": "j8rl-qhF4lP-"
      },
      "source": [
        "## Load and preprocess Data from Keras"
      ]
    },
    {
      "cell_type": "code",
      "metadata": {
        "id": "bJ0MfUxMfXL5"
      },
      "source": [
        "def preprocess_data(num_classes):\n",
        "\n",
        "    if num_classes == 100:\n",
        "        (x_train, y_train), (x_test, y_test) = cifar100.load_data()\n",
        "    else :\n",
        "        (x_train, y_train), (x_test, y_test) = cifar10.load_data()\n",
        "        \n",
        "    x_train = tensorflow.keras.applications.densenet.preprocess_input(x_train)\n",
        "    x_test = tensorflow.keras.applications.densenet.preprocess_input(x_test)\n",
        "    y_train = tensorflow.keras.utils.to_categorical(y_train)\n",
        "    y_test = tensorflow.keras.utils.to_categorical(y_test)\n",
        "       \n",
        "    print('Train: X=%s, y=%s' % (x_train.shape, y_train.shape))\n",
        "    print('Test: X=%s, y=%s' % (x_test.shape, y_test.shape))\n",
        "    return (x_train, y_train), (x_test, y_test) "
      ],
      "execution_count": 3,
      "outputs": []
    },
    {
      "cell_type": "markdown",
      "metadata": {
        "id": "Hjw4aw-b4qEs"
      },
      "source": [
        "## DenseNet 201 Model"
      ]
    },
    {
      "cell_type": "markdown",
      "metadata": {
        "id": "EW5ANnlB4xC_"
      },
      "source": [
        "We utilize ImageDataGenerator to augment our input data.  This should help us avoid overfitting."
      ]
    },
    {
      "cell_type": "code",
      "metadata": {
        "id": "gJXdLY1zXqwF"
      },
      "source": [
        "def fit_model(num_classes, x_train, y_train, x_test, y_test):\n",
        "    densenet_model = DenseNet201(weights='imagenet', include_top=False, input_shape=(224, 224, 3))\n",
        "    for layer in densenet_model.layers:\n",
        "      if isinstance(layer, BatchNormalization):\n",
        "        layer.trainable = True  # update the weight\n",
        "      else:\n",
        "        layer.trainable = False\n",
        "        \n",
        "    model = Sequential()\n",
        "    model.add(UpSampling2D(size=(7,7)))\n",
        "    model.add(densenet_model)\n",
        "    model.add(GlobalAveragePooling2D())\n",
        "    model.add(Dense(256, activation='relu'))\n",
        "    model.add(Dropout(.25))\n",
        "    model.add(BatchNormalization())\n",
        "    model.add(Dense(num_classes, activation='softmax'))\n",
        "    model.compile(optimizer='Adam', loss='categorical_crossentropy', metrics=['accuracy', 'top_k_categorical_accuracy'])\n",
        "\n",
        "    datagen = ImageDataGenerator(rotation_range=8,\n",
        "                             shear_range=0.2, \n",
        "                             zoom_range=0.2,\n",
        "                             channel_shift_range=0.05, \n",
        "                             horizontal_flip=True)\n",
        "    datagen.fit(x_train)\n",
        "    # Fits-the-model\n",
        "    batch_size = 64\n",
        "    epochs = 10\n",
        "    anne = ReduceLROnPlateau(monitor='val_accuracy', factor=0.1, patience=5, verbose=1, min_lr=1e-3)\n",
        "    checkpoint = ModelCheckpoint('Densenet201_cifar'+str(num_classes)+'.h5', verbose=1, save_best_only=True)\n",
        "\n",
        "    t=time.time()\n",
        "    history = model.fit(datagen.flow(x_train, y_train, batch_size=batch_size),\n",
        "               steps_per_epoch=x_train.shape[0] // batch_size,\n",
        "               epochs=epochs,\n",
        "               verbose=1,\n",
        "               callbacks=[anne,checkpoint],\n",
        "               validation_data=(x_test, y_test))\n",
        "    print('Training time: %s' % (time.time() -t))\n",
        "    return history, model"
      ],
      "execution_count": 4,
      "outputs": []
    },
    {
      "cell_type": "code",
      "metadata": {
        "id": "Rwk0Fk9uQyd2"
      },
      "source": [
        "def summarize_diagnostics(num_classes, history):\n",
        "    cifar = 'CIFAR'+str(num_classes)\n",
        "    plt.subplots_adjust(hspace=0.7)\n",
        "    # plot loss\n",
        "    plt.subplot(211)\n",
        "    plt.title(cifar + ' Cross Entropy Loss')\n",
        "    plt.plot(history.history['loss'], color='blue', label='train')\n",
        "    plt.plot(history.history['val_loss'], color='orange', label='test')\n",
        "    \n",
        "    # plot accuracy\n",
        "    plt.subplot(212)\n",
        "    plt.title(cifar + ' Classification Accuracy')\n",
        "    plt.plot(history.history['accuracy'], color='blue', label='train')\n",
        "    plt.plot(history.history['val_accuracy'], color='orange', label='test')\n",
        "    \n",
        "    # save plot to file\n",
        "    #filename = \"DenseNet201_Pretrained\"\n",
        "    #plt.savefig(filename + '_plot.png')\n",
        "    \n",
        "    return history\n"
      ],
      "execution_count": 5,
      "outputs": []
    },
    {
      "cell_type": "code",
      "metadata": {
        "id": "GqKhzLKEQyd2"
      },
      "source": [
        "def predict(model, x_test, y_test):\n",
        "    ypred = model.predict(x_test)\n",
        "\n",
        "    total = 0\n",
        "    accurate = 0\n",
        "    accurateindex = []\n",
        "    wrongindex = []\n",
        "\n",
        "    for i in range(len(ypred)):\n",
        "        if np.argmax(ypred[i]) == np.argmax(y_test[i]):\n",
        "            accurate += 1\n",
        "            accurateindex.append(i)\n",
        "        else:\n",
        "            wrongindex.append(i)\n",
        "\n",
        "        total += 1\n",
        "    \n",
        "    print('Total-test-data;', total, '\\taccurately-predicted-data:', accurate, '\\t wrongly-predicted-data: ', total - accurate)\n",
        "    print('Accuracy:', round(accurate/total*100, 3), '%')\n",
        "    return ypred"
      ],
      "execution_count": 6,
      "outputs": []
    },
    {
      "cell_type": "markdown",
      "metadata": {
        "id": "M3i04VBsQyd2"
      },
      "source": [
        "### Run with CIFAR100"
      ]
    },
    {
      "cell_type": "code",
      "metadata": {
        "colab": {
          "base_uri": "https://localhost:8080/",
          "height": 1000
        },
        "id": "MxDh_9oUQyd2",
        "outputId": "1f6f1156-edfd-4e59-d9f1-c7146d0a0d72"
      },
      "source": [
        "num_classes = 100\n",
        "(x_train, y_train), (x_test, y_test) = preprocess_data(num_classes)\n",
        "history, model = fit_model(num_classes, x_train, y_train,x_test, y_test)\n",
        "print('\\n\\n')\n",
        "summarize_diagnostics(num_classes, history)\n",
        "print('\\n')\n",
        "pred = predict(model, x_test, y_test)"
      ],
      "execution_count": 7,
      "outputs": [
        {
          "output_type": "stream",
          "text": [
            "Downloading data from https://www.cs.toronto.edu/~kriz/cifar-100-python.tar.gz\n",
            "169009152/169001437 [==============================] - 2s 0us/step\n",
            "Train: X=(50000, 32, 32, 3), y=(50000, 100)\n",
            "Test: X=(10000, 32, 32, 3), y=(10000, 100)\n",
            "Downloading data from https://storage.googleapis.com/tensorflow/keras-applications/densenet/densenet201_weights_tf_dim_ordering_tf_kernels_notop.h5\n",
            "74842112/74836368 [==============================] - 1s 0us/step\n",
            "Epoch 1/10\n",
            "781/781 [==============================] - ETA: 0s - loss: 1.6682 - accuracy: 0.5625 - top_k_categorical_accuracy: 0.8299\n",
            "Epoch 00001: val_loss improved from inf to 0.93765, saving model to Densenet201_cifar100.h5\n",
            "781/781 [==============================] - 687s 879ms/step - loss: 1.6682 - accuracy: 0.5625 - top_k_categorical_accuracy: 0.8299 - val_loss: 0.9377 - val_accuracy: 0.7191 - val_top_k_categorical_accuracy: 0.9461\n",
            "Epoch 2/10\n",
            "781/781 [==============================] - ETA: 0s - loss: 0.9305 - accuracy: 0.7263 - top_k_categorical_accuracy: 0.9439\n",
            "Epoch 00002: val_loss improved from 0.93765 to 0.84310, saving model to Densenet201_cifar100.h5\n",
            "781/781 [==============================] - 684s 876ms/step - loss: 0.9305 - accuracy: 0.7263 - top_k_categorical_accuracy: 0.9439 - val_loss: 0.8431 - val_accuracy: 0.7443 - val_top_k_categorical_accuracy: 0.9524\n",
            "Epoch 3/10\n",
            "781/781 [==============================] - ETA: 0s - loss: 0.8009 - accuracy: 0.7601 - top_k_categorical_accuracy: 0.9564\n",
            "Epoch 00003: val_loss improved from 0.84310 to 0.78563, saving model to Densenet201_cifar100.h5\n",
            "781/781 [==============================] - 683s 874ms/step - loss: 0.8009 - accuracy: 0.7601 - top_k_categorical_accuracy: 0.9564 - val_loss: 0.7856 - val_accuracy: 0.7663 - val_top_k_categorical_accuracy: 0.9586\n",
            "Epoch 4/10\n",
            "781/781 [==============================] - ETA: 0s - loss: 0.7232 - accuracy: 0.7795 - top_k_categorical_accuracy: 0.9639\n",
            "Epoch 00004: val_loss did not improve from 0.78563\n",
            "781/781 [==============================] - 681s 872ms/step - loss: 0.7232 - accuracy: 0.7795 - top_k_categorical_accuracy: 0.9639 - val_loss: 0.8366 - val_accuracy: 0.7555 - val_top_k_categorical_accuracy: 0.9522\n",
            "Epoch 5/10\n",
            "781/781 [==============================] - ETA: 0s - loss: 0.6796 - accuracy: 0.7925 - top_k_categorical_accuracy: 0.9674\n",
            "Epoch 00005: val_loss improved from 0.78563 to 0.73964, saving model to Densenet201_cifar100.h5\n",
            "781/781 [==============================] - 682s 874ms/step - loss: 0.6796 - accuracy: 0.7925 - top_k_categorical_accuracy: 0.9674 - val_loss: 0.7396 - val_accuracy: 0.7813 - val_top_k_categorical_accuracy: 0.9586\n",
            "Epoch 6/10\n",
            "781/781 [==============================] - ETA: 0s - loss: 0.6444 - accuracy: 0.8035 - top_k_categorical_accuracy: 0.9698\n",
            "Epoch 00006: val_loss improved from 0.73964 to 0.72871, saving model to Densenet201_cifar100.h5\n",
            "781/781 [==============================] - 683s 874ms/step - loss: 0.6444 - accuracy: 0.8035 - top_k_categorical_accuracy: 0.9698 - val_loss: 0.7287 - val_accuracy: 0.7880 - val_top_k_categorical_accuracy: 0.9608\n",
            "Epoch 7/10\n",
            "781/781 [==============================] - ETA: 0s - loss: 0.6169 - accuracy: 0.8080 - top_k_categorical_accuracy: 0.9745\n",
            "Epoch 00007: val_loss improved from 0.72871 to 0.69065, saving model to Densenet201_cifar100.h5\n",
            "781/781 [==============================] - 681s 872ms/step - loss: 0.6169 - accuracy: 0.8080 - top_k_categorical_accuracy: 0.9745 - val_loss: 0.6907 - val_accuracy: 0.7937 - val_top_k_categorical_accuracy: 0.9659\n",
            "Epoch 8/10\n",
            "781/781 [==============================] - ETA: 0s - loss: 0.5853 - accuracy: 0.8168 - top_k_categorical_accuracy: 0.9754\n",
            "Epoch 00008: val_loss did not improve from 0.69065\n",
            "781/781 [==============================] - 680s 870ms/step - loss: 0.5853 - accuracy: 0.8168 - top_k_categorical_accuracy: 0.9754 - val_loss: 0.7298 - val_accuracy: 0.7856 - val_top_k_categorical_accuracy: 0.9634\n",
            "Epoch 9/10\n",
            "781/781 [==============================] - ETA: 0s - loss: 0.5633 - accuracy: 0.8247 - top_k_categorical_accuracy: 0.9772\n",
            "Epoch 00009: val_loss did not improve from 0.69065\n",
            "781/781 [==============================] - 680s 871ms/step - loss: 0.5633 - accuracy: 0.8247 - top_k_categorical_accuracy: 0.9772 - val_loss: 0.7132 - val_accuracy: 0.7929 - val_top_k_categorical_accuracy: 0.9624\n",
            "Epoch 10/10\n",
            "781/781 [==============================] - ETA: 0s - loss: 0.5392 - accuracy: 0.8306 - top_k_categorical_accuracy: 0.9800\n",
            "Epoch 00010: val_loss did not improve from 0.69065\n",
            "781/781 [==============================] - 680s 870ms/step - loss: 0.5392 - accuracy: 0.8306 - top_k_categorical_accuracy: 0.9800 - val_loss: 0.7311 - val_accuracy: 0.7934 - val_top_k_categorical_accuracy: 0.9600\n",
            "Training time: 6855.6726167202\n",
            "\n",
            "\n",
            "\n",
            "\n",
            "\n",
            "Total-test-data; 10000 \taccurately-predicted-data: 7934 \t wrongly-predicted-data:  2066\n",
            "Accuracy: 79.34 %\n"
          ],
          "name": "stdout"
        },
        {
          "output_type": "display_data",
          "data": {
            "image/png": "[encoded data removed]",
            "text/plain": [
              "<Figure size 432x288 with 2 Axes>"
            ]
          },
          "metadata": {
            "tags": [],
            "needs_background": "light"
          }
        }
      ]
    },
    {
      "cell_type": "markdown",
      "metadata": {
        "id": "iyVlCjq3mWle"
      },
      "source": [
        "### Run with CIFAR10"
      ]
    },
    {
      "cell_type": "code",
      "metadata": {
        "colab": {
          "base_uri": "https://localhost:8080/",
          "height": 1000
        },
        "id": "Hxnxyb8VmWle",
        "outputId": "15ac9d5f-f10a-4b08-b5a4-665403a17f60"
      },
      "source": [
        "num_classes = 10\n",
        "(x_train, y_train), (x_test, y_test) = preprocess_data(num_classes)\n",
        "history, model = fit_model(num_classes, x_train, y_train,x_test, y_test)\n",
        "print('\\n\\n')\n",
        "summarize_diagnostics(num_classes, history)\n",
        "print('\\n')\n",
        "pred = predict(model, x_test, y_test)"
      ],
      "execution_count": null,
      "outputs": [
        {
          "output_type": "stream",
          "text": [
            "Downloading data from https://www.cs.toronto.edu/~kriz/cifar-10-python.tar.gz\n",
            "170500096/170498071 [==============================] - 2s 0us/step\n",
            "Train: X=(50000, 32, 32, 3), y=(50000, 10)\n",
            "Test: X=(10000, 32, 32, 3), y=(10000, 10)\n",
            "Epoch 1/10\n",
            "781/781 [==============================] - ETA: 0s - loss: 0.3769 - accuracy: 0.8718 - top_k_categorical_accuracy: 0.9914\n",
            "Epoch 00001: val_loss improved from inf to 0.21007, saving model to Densenet201_cifar10.h5\n",
            "781/781 [==============================] - 695s 889ms/step - loss: 0.3769 - accuracy: 0.8718 - top_k_categorical_accuracy: 0.9914 - val_loss: 0.2101 - val_accuracy: 0.9322 - val_top_k_categorical_accuracy: 0.9978\n",
            "Epoch 2/10\n",
            "781/781 [==============================] - ETA: 0s - loss: 0.1937 - accuracy: 0.9349 - top_k_categorical_accuracy: 0.9987\n",
            "Epoch 00002: val_loss improved from 0.21007 to 0.16300, saving model to Densenet201_cifar10.h5\n",
            "781/781 [==============================] - 692s 885ms/step - loss: 0.1937 - accuracy: 0.9349 - top_k_categorical_accuracy: 0.9987 - val_loss: 0.1630 - val_accuracy: 0.9461 - val_top_k_categorical_accuracy: 0.9990\n",
            "Epoch 3/10\n",
            "781/781 [==============================] - ETA: 0s - loss: 0.1578 - accuracy: 0.9462 - top_k_categorical_accuracy: 0.9992\n",
            "Epoch 00003: val_loss improved from 0.16300 to 0.14602, saving model to Densenet201_cifar10.h5\n",
            "781/781 [==============================] - 692s 885ms/step - loss: 0.1578 - accuracy: 0.9462 - top_k_categorical_accuracy: 0.9992 - val_loss: 0.1460 - val_accuracy: 0.9507 - val_top_k_categorical_accuracy: 0.9994\n",
            "Epoch 4/10\n",
            "781/781 [==============================] - ETA: 0s - loss: 0.1418 - accuracy: 0.9520 - top_k_categorical_accuracy: 0.9993\n",
            "Epoch 00004: val_loss improved from 0.14602 to 0.13901, saving model to Densenet201_cifar10.h5\n",
            "781/781 [==============================] - 691s 885ms/step - loss: 0.1418 - accuracy: 0.9520 - top_k_categorical_accuracy: 0.9993 - val_loss: 0.1390 - val_accuracy: 0.9531 - val_top_k_categorical_accuracy: 0.9990\n",
            "Epoch 5/10\n",
            "781/781 [==============================] - ETA: 0s - loss: 0.1299 - accuracy: 0.9544 - top_k_categorical_accuracy: 0.9995\n",
            "Epoch 00005: val_loss did not improve from 0.13901\n",
            "781/781 [==============================] - 689s 882ms/step - loss: 0.1299 - accuracy: 0.9544 - top_k_categorical_accuracy: 0.9995 - val_loss: 0.1404 - val_accuracy: 0.9516 - val_top_k_categorical_accuracy: 0.9993\n",
            "Epoch 6/10\n",
            "781/781 [==============================] - ETA: 0s - loss: 0.1166 - accuracy: 0.9601 - top_k_categorical_accuracy: 0.9994\n",
            "Epoch 00006: val_loss did not improve from 0.13901\n",
            "781/781 [==============================] - 689s 882ms/step - loss: 0.1166 - accuracy: 0.9601 - top_k_categorical_accuracy: 0.9994 - val_loss: 0.1704 - val_accuracy: 0.9454 - val_top_k_categorical_accuracy: 0.9982\n",
            "Epoch 7/10\n",
            "781/781 [==============================] - ETA: 0s - loss: 0.1115 - accuracy: 0.9616 - top_k_categorical_accuracy: 0.9996\n",
            "Epoch 00007: val_loss improved from 0.13901 to 0.13244, saving model to Densenet201_cifar10.h5\n",
            "781/781 [==============================] - 690s 884ms/step - loss: 0.1115 - accuracy: 0.9616 - top_k_categorical_accuracy: 0.9996 - val_loss: 0.1324 - val_accuracy: 0.9610 - val_top_k_categorical_accuracy: 0.9988\n",
            "Epoch 8/10\n",
            "781/781 [==============================] - ETA: 0s - loss: 0.1052 - accuracy: 0.9635 - top_k_categorical_accuracy: 0.9996\n",
            "Epoch 00008: val_loss did not improve from 0.13244\n",
            "781/781 [==============================] - 689s 882ms/step - loss: 0.1052 - accuracy: 0.9635 - top_k_categorical_accuracy: 0.9996 - val_loss: 0.1533 - val_accuracy: 0.9517 - val_top_k_categorical_accuracy: 0.9988\n",
            "Epoch 9/10\n",
            "781/781 [==============================] - ETA: 0s - loss: 0.0975 - accuracy: 0.9654 - top_k_categorical_accuracy: 0.9997\n",
            "Epoch 00009: val_loss did not improve from 0.13244\n",
            "781/781 [==============================] - 688s 881ms/step - loss: 0.0975 - accuracy: 0.9654 - top_k_categorical_accuracy: 0.9997 - val_loss: 0.1450 - val_accuracy: 0.9511 - val_top_k_categorical_accuracy: 0.9994\n",
            "Epoch 10/10\n",
            "781/781 [==============================] - ETA: 0s - loss: 0.0888 - accuracy: 0.9685 - top_k_categorical_accuracy: 0.9999\n",
            "Epoch 00010: val_loss did not improve from 0.13244\n",
            "781/781 [==============================] - 688s 881ms/step - loss: 0.0888 - accuracy: 0.9685 - top_k_categorical_accuracy: 0.9999 - val_loss: 0.1745 - val_accuracy: 0.9472 - val_top_k_categorical_accuracy: 0.9985\n",
            "Training time: 6927.72958779335\n",
            "\n",
            "\n",
            "\n",
            "\n",
            "\n",
            "Total-test-data; 10000 \taccurately-predicted-data: 9472 \t wrongly-predicted-data:  528\n",
            "Accuracy: 94.72 %\n"
          ],
          "name": "stdout"
        },
        {
          "output_type": "display_data",
          "data": {
            "image/png": "[encoded data removed]",
            "text/plain": [
              "<Figure size 432x288 with 2 Axes>"
            ]
          },
          "metadata": {
            "tags": [],
            "needs_background": "light"
          }
        }
      ]
    },
    {
      "cell_type": "code",
      "metadata": {
        "id": "2To0wzcgmWle"
      },
      "source": [
        ""
      ],
      "execution_count": null,
      "outputs": []
    }
  ]
}