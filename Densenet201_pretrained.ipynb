{
  "nbformat": 4,
  "nbformat_minor": 0,
  "metadata": {
    "accelerator": "GPU",
    "colab": {
      "name": "Densenet201_pretrained.ipynb",
      "provenance": [],
      "collapsed_sections": [],
      "toc_visible": true,
      "include_colab_link": true
    },
    "kernelspec": {
      "display_name": "Python 3",
      "language": "python",
      "name": "python3"
    },
    "language_info": {
      "codemirror_mode": {
        "name": "ipython",
        "version": 3
      },
      "file_extension": ".py",
      "mimetype": "text/x-python",
      "name": "python",
      "nbconvert_exporter": "python",
      "pygments_lexer": "ipython3",
      "version": "3.8.6"
    }
  },
  "cells": [
    {
      "cell_type": "markdown",
      "metadata": {
        "id": "view-in-github",
        "colab_type": "text"
      },
      "source": [
        "<a href=\"https://colab.research.google.com/github/btran30/cs584/blob/brenda/Densenet201_pretrained.ipynb\" target=\"_parent\"><img src=\"https://colab.research.google.com/assets/colab-badge.svg\" alt=\"Open In Colab\"/></a>"
      ]
    },
    {
      "cell_type": "markdown",
      "metadata": {
        "id": "ZY5c1IBb4OVS"
      },
      "source": [
        "# DenseNet 201 Analysis"
      ]
    },
    {
      "cell_type": "markdown",
      "metadata": {
        "id": "gfoamKGa4XSl"
      },
      "source": [
        "## Library Import"
      ]
    },
    {
      "cell_type": "code",
      "metadata": {
        "colab": {
          "base_uri": "https://localhost:8080/"
        },
        "id": "cjZlTdjjfXLr",
        "outputId": "e355e0a8-2cf8-436e-a088-b35f1e3d85c6"
      },
      "source": [
        "import tensorflow \n",
        "\n",
        "import pandas as pd\n",
        "import numpy as np\n",
        "import os\n",
        "import keras\n",
        "import random\n",
        "import cv2\n",
        "import math\n",
        "import seaborn as sns\n",
        "import matplotlib.pyplot as plt\n",
        "\n",
        "from sklearn.metrics import confusion_matrix\n",
        "from sklearn.preprocessing import LabelBinarizer\n",
        "from sklearn.model_selection import train_test_split\n",
        "from keras.utils.np_utils import to_categorical\n",
        "\n",
        "from tensorflow.keras.datasets import cifar100\n",
        "from tensorflow.keras.datasets import cifar10\n",
        "from tensorflow.keras.layers import Dense,GlobalAveragePooling2D,Convolution2D,BatchNormalization,Activation\n",
        "from tensorflow.keras.layers import Flatten,MaxPooling2D,Dropout\n",
        "from tensorflow.keras.applications import DenseNet201\n",
        "from tensorflow.keras.applications.densenet import preprocess_input\n",
        "\n",
        "from tensorflow.keras.preprocessing import image\n",
        "from tensorflow.keras.preprocessing.image import ImageDataGenerator,img_to_array\n",
        "from tensorflow.keras.models import Model\n",
        "from tensorflow.keras.optimizers import Adam,SGD\n",
        "from tensorflow.keras.callbacks import ModelCheckpoint, ReduceLROnPlateau\n",
        "\n",
        "import warnings\n",
        "warnings.filterwarnings(\"ignore\")\n",
        "\n",
        "print(\"Tensorflow-version:\", tensorflow.__version__)"
      ],
      "execution_count": 4,
      "outputs": [
        {
          "output_type": "stream",
          "text": [
            "Tensorflow-version: 2.3.0\n"
          ],
          "name": "stdout"
        }
      ]
    },
    {
      "cell_type": "markdown",
      "metadata": {
        "id": "j8rl-qhF4lP-"
      },
      "source": [
        "## Load Data from Keras"
      ]
    },
    {
      "cell_type": "code",
      "metadata": {
        "id": "bJ0MfUxMfXL5"
      },
      "source": [
        "def read_data(cifar_dataset):\n",
        "\n",
        "    if cifar_dataset == 100:\n",
        "        (x_train, y_train), (x_test, y_test) = cifar100.load_data()\n",
        "        # One-hot encoding for 100 classes.\n",
        "        y_train = to_categorical(y_train, 100)\n",
        "        y_test = to_categorical(y_test, 100)\n",
        "    else :\n",
        "        (x_train, y_train), (x_test, y_test) = cifar10.load_data()\n",
        "        y_train = to_categorical(y_train, 10)\n",
        "        y_test = to_categorical(y_test, 10)\n",
        "\n",
        "    print('Train: X=%s, y=%s' % (x_train.shape, y_train.shape))\n",
        "    print('Test: X=%s, y=%s' % (x_test.shape, y_test.shape))\n",
        "    return (x_train, y_train), (x_test, y_test) "
      ],
      "execution_count": 5,
      "outputs": []
    },
    {
      "cell_type": "markdown",
      "metadata": {
        "id": "Hjw4aw-b4qEs"
      },
      "source": [
        "## DenseNet 201 Model"
      ]
    },
    {
      "cell_type": "markdown",
      "metadata": {
        "id": "EW5ANnlB4xC_"
      },
      "source": [
        "We utilize ImageDataGenerator to augment our input data.  This should help us avoid overfitting."
      ]
    },
    {
      "cell_type": "code",
      "metadata": {
        "id": "gJXdLY1zXqwF"
      },
      "source": [
        "def run_model(cifar_dataset, x_train, y_train, x_test, y_test):\n",
        "    \n",
        "    input_shape=(32,32,3)\n",
        "    model_d=DenseNet201(weights='imagenet',include_top=False, input_shape=input_shape) \n",
        "\n",
        "    x=model_d.output\n",
        "\n",
        "    x= BatchNormalization()(x)\n",
        "    x= Activation('relu')(x)\n",
        "    x= GlobalAveragePooling2D()(x)\n",
        "\n",
        "    preds=Dense(cifar_dataset ,activation='softmax')(x) #FC-layer\n",
        "\n",
        "    model=Model(inputs=model_d.input, outputs=preds)\n",
        "\n",
        "    #model.summary()\n",
        "    #tf.keras.utils.plot_model( model , show_shapes=True )\n",
        "\n",
        "    sgd = SGD(lr=1e-3, decay=1e-6, momentum=0.9, nesterov=True)\n",
        "    model.compile(optimizer=sgd, loss='categorical_crossentropy', metrics=['accuracy', 'top_k_categorical_accuracy'])\n",
        "\n",
        "    batch_size = 128\n",
        "    epochs = 20\n",
        "\n",
        "    anne = ReduceLROnPlateau(monitor='val_accuracy', factor=0.5, patience=5, verbose=1, min_lr=1e-3)\n",
        "\n",
        "    datagen = ImageDataGenerator(zoom_range = 0.2, horizontal_flip=True, shear_range=0.2)\n",
        "\n",
        "    datagen.fit(x_train)\n",
        "    # Fits-the-model\n",
        "    history = model.fit(datagen.flow(x_train, y_train, batch_size=batch_size),\n",
        "                   steps_per_epoch=x_train.shape[0] // batch_size,\n",
        "                   epochs=epochs,\n",
        "                   verbose=1,\n",
        "                   callbacks=[anne],\n",
        "                   validation_data=(x_test, y_test))\n",
        "    return history, model"
      ],
      "execution_count": 6,
      "outputs": []
    },
    {
      "cell_type": "code",
      "metadata": {
        "id": "Rwk0Fk9uQyd2"
      },
      "source": [
        "def summarize_diagnostics(history):\n",
        "    plt.subplots_adjust(hspace=0.7)\n",
        "    # plot loss\n",
        "    plt.subplot(211)\n",
        "    plt.title('Cross Entropy Loss')\n",
        "    plt.plot(history.history['loss'], color='blue', label='train')\n",
        "    plt.plot(history.history['val_loss'], color='orange', label='test')\n",
        "    \n",
        "    # plot accuracy\n",
        "    plt.subplot(212)\n",
        "    plt.title('Classification Accuracy')\n",
        "    plt.plot(history.history['accuracy'], color='blue', label='train')\n",
        "    plt.plot(history.history['val_accuracy'], color='orange', label='test')\n",
        "    \n",
        "    # save plot to file\n",
        "    #filename = \"DenseNet201_Pretrained\"\n",
        "    #plt.savefig(filename + '_plot.png')\n",
        "    \n",
        "    return history\n"
      ],
      "execution_count": 8,
      "outputs": []
    },
    {
      "cell_type": "code",
      "metadata": {
        "id": "GqKhzLKEQyd2"
      },
      "source": [
        "def final_prediction(model, x_test, y_test):\n",
        "    ypred = model.predict(x_test)\n",
        "\n",
        "    total = 0\n",
        "    accurate = 0\n",
        "    accurateindex = []\n",
        "    wrongindex = []\n",
        "\n",
        "    for i in range(len(ypred)):\n",
        "        if np.argmax(ypred[i]) == np.argmax(y_test[i]):\n",
        "            accurate += 1\n",
        "            accurateindex.append(i)\n",
        "        else:\n",
        "            wrongindex.append(i)\n",
        "\n",
        "        total += 1\n",
        "    \n",
        "    print('Total-test-data;', total, '\\taccurately-predicted-data:', accurate, '\\t wrongly-predicted-data: ', total - accurate)\n",
        "    print('Accuracy:', round(accurate/total*100, 3), '%')"
      ],
      "execution_count": 9,
      "outputs": []
    },
    {
      "cell_type": "markdown",
      "metadata": {
        "id": "M3i04VBsQyd2"
      },
      "source": [
        "### Run model"
      ]
    },
    {
      "cell_type": "code",
      "metadata": {
        "id": "MxDh_9oUQyd2",
        "outputId": "930a7beb-7fdb-4a54-e40e-d7a40adf1a5d",
        "colab": {
          "base_uri": "https://localhost:8080/",
          "height": 1000
        }
      },
      "source": [
        "cifar_dataset = 100\n",
        "(x_train, y_train), (x_test, y_test) = read_data(cifar_dataset)\n",
        "history, model = run_model(cifar_dataset, x_train, y_train,x_test, y_test)\n",
        "print('\\n\\n')\n",
        "summarize_diagnostics(history)\n",
        "\n",
        "print('\\n\\n')\n",
        "final_prediction(model, x_test, y_test)"
      ],
      "execution_count": 10,
      "outputs": [
        {
          "output_type": "stream",
          "text": [
            "Downloading data from https://www.cs.toronto.edu/~kriz/cifar-100-python.tar.gz\n",
            "169009152/169001437 [==============================] - 2s 0us/step\n",
            "Train: X=(50000, 32, 32, 3), y=(50000, 100)\n",
            "Test: X=(10000, 32, 32, 3), y=(10000, 100)\n",
            "Downloading data from https://storage.googleapis.com/tensorflow/keras-applications/densenet/densenet201_weights_tf_dim_ordering_tf_kernels_notop.h5\n",
            "74842112/74836368 [==============================] - 1s 0us/step\n",
            "Epoch 1/60\n",
            "390/390 [==============================] - 54s 138ms/step - loss: 3.4774 - accuracy: 0.2230 - top_k_categorical_accuracy: 0.4420 - val_loss: 2.6127 - val_accuracy: 0.3771 - val_top_k_categorical_accuracy: 0.6661\n",
            "Epoch 2/60\n",
            "390/390 [==============================] - 45s 116ms/step - loss: 2.1976 - accuracy: 0.4371 - top_k_categorical_accuracy: 0.7429 - val_loss: 2.0052 - val_accuracy: 0.4685 - val_top_k_categorical_accuracy: 0.7738\n",
            "Epoch 3/60\n",
            "390/390 [==============================] - 44s 114ms/step - loss: 1.7561 - accuracy: 0.5304 - top_k_categorical_accuracy: 0.8245 - val_loss: 1.7634 - val_accuracy: 0.5245 - val_top_k_categorical_accuracy: 0.8146\n",
            "Epoch 4/60\n",
            "390/390 [==============================] - 45s 115ms/step - loss: 1.4985 - accuracy: 0.5894 - top_k_categorical_accuracy: 0.8642 - val_loss: 1.6070 - val_accuracy: 0.5615 - val_top_k_categorical_accuracy: 0.8395\n",
            "Epoch 5/60\n",
            "390/390 [==============================] - 45s 114ms/step - loss: 1.3126 - accuracy: 0.6359 - top_k_categorical_accuracy: 0.8915 - val_loss: 1.5451 - val_accuracy: 0.5743 - val_top_k_categorical_accuracy: 0.8517\n",
            "Epoch 6/60\n",
            "390/390 [==============================] - 44s 113ms/step - loss: 1.1740 - accuracy: 0.6707 - top_k_categorical_accuracy: 0.9103 - val_loss: 1.5113 - val_accuracy: 0.5850 - val_top_k_categorical_accuracy: 0.8550\n",
            "Epoch 7/60\n",
            "390/390 [==============================] - 44s 114ms/step - loss: 1.0467 - accuracy: 0.7049 - top_k_categorical_accuracy: 0.9290 - val_loss: 1.4287 - val_accuracy: 0.6068 - val_top_k_categorical_accuracy: 0.8652\n",
            "Epoch 8/60\n",
            "390/390 [==============================] - 44s 113ms/step - loss: 0.9449 - accuracy: 0.7316 - top_k_categorical_accuracy: 0.9399 - val_loss: 1.4417 - val_accuracy: 0.6063 - val_top_k_categorical_accuracy: 0.8684\n",
            "Epoch 9/60\n",
            "390/390 [==============================] - 44s 114ms/step - loss: 0.8436 - accuracy: 0.7593 - top_k_categorical_accuracy: 0.9527 - val_loss: 1.4012 - val_accuracy: 0.6160 - val_top_k_categorical_accuracy: 0.8771\n",
            "Epoch 10/60\n",
            "390/390 [==============================] - 44s 113ms/step - loss: 0.7577 - accuracy: 0.7850 - top_k_categorical_accuracy: 0.9613 - val_loss: 1.3951 - val_accuracy: 0.6164 - val_top_k_categorical_accuracy: 0.8773\n",
            "Epoch 11/60\n",
            "390/390 [==============================] - 44s 113ms/step - loss: 0.6753 - accuracy: 0.8087 - top_k_categorical_accuracy: 0.9701 - val_loss: 1.4148 - val_accuracy: 0.6155 - val_top_k_categorical_accuracy: 0.8739\n",
            "Epoch 12/60\n",
            "390/390 [==============================] - 44s 112ms/step - loss: 0.6012 - accuracy: 0.8313 - top_k_categorical_accuracy: 0.9758 - val_loss: 1.3870 - val_accuracy: 0.6215 - val_top_k_categorical_accuracy: 0.8790\n",
            "Epoch 13/60\n",
            "390/390 [==============================] - 44s 113ms/step - loss: 0.5336 - accuracy: 0.8522 - top_k_categorical_accuracy: 0.9815 - val_loss: 1.4356 - val_accuracy: 0.6153 - val_top_k_categorical_accuracy: 0.8720\n",
            "Epoch 14/60\n",
            "390/390 [==============================] - 44s 113ms/step - loss: 0.4741 - accuracy: 0.8698 - top_k_categorical_accuracy: 0.9853 - val_loss: 1.5143 - val_accuracy: 0.6016 - val_top_k_categorical_accuracy: 0.8638\n",
            "Epoch 15/60\n",
            "390/390 [==============================] - 44s 112ms/step - loss: 0.4319 - accuracy: 0.8814 - top_k_categorical_accuracy: 0.9889 - val_loss: 1.3962 - val_accuracy: 0.6339 - val_top_k_categorical_accuracy: 0.8784\n",
            "Epoch 16/60\n",
            "390/390 [==============================] - 44s 112ms/step - loss: 0.3826 - accuracy: 0.8972 - top_k_categorical_accuracy: 0.9915 - val_loss: 1.4007 - val_accuracy: 0.6317 - val_top_k_categorical_accuracy: 0.8821\n",
            "Epoch 17/60\n",
            "390/390 [==============================] - 44s 112ms/step - loss: 0.3375 - accuracy: 0.9111 - top_k_categorical_accuracy: 0.9940 - val_loss: 1.4167 - val_accuracy: 0.6343 - val_top_k_categorical_accuracy: 0.8804\n",
            "Epoch 18/60\n",
            "390/390 [==============================] - 44s 113ms/step - loss: 0.2954 - accuracy: 0.9254 - top_k_categorical_accuracy: 0.9955 - val_loss: 1.4619 - val_accuracy: 0.6254 - val_top_k_categorical_accuracy: 0.8773\n",
            "Epoch 19/60\n",
            "390/390 [==============================] - 44s 112ms/step - loss: 0.2693 - accuracy: 0.9315 - top_k_categorical_accuracy: 0.9965 - val_loss: 1.4661 - val_accuracy: 0.6274 - val_top_k_categorical_accuracy: 0.8771\n",
            "Epoch 20/60\n",
            "390/390 [==============================] - 44s 113ms/step - loss: 0.2404 - accuracy: 0.9405 - top_k_categorical_accuracy: 0.9973 - val_loss: 1.4566 - val_accuracy: 0.6304 - val_top_k_categorical_accuracy: 0.8787\n",
            "Epoch 21/60\n",
            "390/390 [==============================] - 44s 112ms/step - loss: 0.2188 - accuracy: 0.9477 - top_k_categorical_accuracy: 0.9976 - val_loss: 1.4511 - val_accuracy: 0.6378 - val_top_k_categorical_accuracy: 0.8811\n",
            "Epoch 22/60\n",
            "390/390 [==============================] - 44s 112ms/step - loss: 0.1925 - accuracy: 0.9550 - top_k_categorical_accuracy: 0.9982 - val_loss: 1.4989 - val_accuracy: 0.6321 - val_top_k_categorical_accuracy: 0.8702\n",
            "Epoch 23/60\n",
            "390/390 [==============================] - 44s 112ms/step - loss: 0.1763 - accuracy: 0.9595 - top_k_categorical_accuracy: 0.9984 - val_loss: 1.4479 - val_accuracy: 0.6408 - val_top_k_categorical_accuracy: 0.8848\n",
            "Epoch 24/60\n",
            "390/390 [==============================] - 43s 111ms/step - loss: 0.1582 - accuracy: 0.9627 - top_k_categorical_accuracy: 0.9992 - val_loss: 1.4656 - val_accuracy: 0.6427 - val_top_k_categorical_accuracy: 0.8810\n",
            "Epoch 25/60\n",
            "390/390 [==============================] - 43s 111ms/step - loss: 0.1515 - accuracy: 0.9647 - top_k_categorical_accuracy: 0.9992 - val_loss: 1.4879 - val_accuracy: 0.6378 - val_top_k_categorical_accuracy: 0.8833\n",
            "Epoch 26/60\n",
            "390/390 [==============================] - 44s 112ms/step - loss: 0.1319 - accuracy: 0.9715 - top_k_categorical_accuracy: 0.9995 - val_loss: 1.5244 - val_accuracy: 0.6353 - val_top_k_categorical_accuracy: 0.8742\n",
            "Epoch 27/60\n",
            "390/390 [==============================] - 44s 113ms/step - loss: 0.1240 - accuracy: 0.9725 - top_k_categorical_accuracy: 0.9994 - val_loss: 1.5102 - val_accuracy: 0.6387 - val_top_k_categorical_accuracy: 0.8762\n",
            "Epoch 28/60\n",
            "390/390 [==============================] - 44s 112ms/step - loss: 0.1118 - accuracy: 0.9761 - top_k_categorical_accuracy: 0.9995 - val_loss: 1.5220 - val_accuracy: 0.6373 - val_top_k_categorical_accuracy: 0.8765\n",
            "Epoch 29/60\n",
            "390/390 [==============================] - ETA: 0s - loss: 0.1045 - accuracy: 0.9774 - top_k_categorical_accuracy: 0.9995\n",
            "Epoch 00029: ReduceLROnPlateau reducing learning rate to 0.001.\n",
            "390/390 [==============================] - 44s 112ms/step - loss: 0.1045 - accuracy: 0.9774 - top_k_categorical_accuracy: 0.9995 - val_loss: 1.5240 - val_accuracy: 0.6377 - val_top_k_categorical_accuracy: 0.8778\n",
            "Epoch 30/60\n",
            "390/390 [==============================] - 44s 112ms/step - loss: 0.0942 - accuracy: 0.9806 - top_k_categorical_accuracy: 0.9998 - val_loss: 1.5704 - val_accuracy: 0.6313 - val_top_k_categorical_accuracy: 0.8695\n",
            "Epoch 31/60\n",
            "390/390 [==============================] - 43s 111ms/step - loss: 0.0902 - accuracy: 0.9808 - top_k_categorical_accuracy: 0.9997 - val_loss: 1.5430 - val_accuracy: 0.6393 - val_top_k_categorical_accuracy: 0.8768\n",
            "Epoch 32/60\n",
            "390/390 [==============================] - 44s 112ms/step - loss: 0.0813 - accuracy: 0.9835 - top_k_categorical_accuracy: 0.9997 - val_loss: 1.5544 - val_accuracy: 0.6409 - val_top_k_categorical_accuracy: 0.8750\n",
            "Epoch 33/60\n",
            "390/390 [==============================] - 44s 112ms/step - loss: 0.0800 - accuracy: 0.9833 - top_k_categorical_accuracy: 0.9998 - val_loss: 1.5690 - val_accuracy: 0.6403 - val_top_k_categorical_accuracy: 0.8766\n",
            "Epoch 34/60\n",
            "390/390 [==============================] - 44s 113ms/step - loss: 0.0725 - accuracy: 0.9849 - top_k_categorical_accuracy: 0.9998 - val_loss: 1.5294 - val_accuracy: 0.6471 - val_top_k_categorical_accuracy: 0.8826\n",
            "Epoch 35/60\n",
            "390/390 [==============================] - 44s 113ms/step - loss: 0.0655 - accuracy: 0.9872 - top_k_categorical_accuracy: 0.9999 - val_loss: 1.5498 - val_accuracy: 0.6456 - val_top_k_categorical_accuracy: 0.8787\n",
            "Epoch 36/60\n",
            "390/390 [==============================] - 44s 112ms/step - loss: 0.0658 - accuracy: 0.9869 - top_k_categorical_accuracy: 0.9998 - val_loss: 1.5836 - val_accuracy: 0.6342 - val_top_k_categorical_accuracy: 0.8752\n",
            "Epoch 37/60\n",
            "390/390 [==============================] - 44s 112ms/step - loss: 0.0619 - accuracy: 0.9873 - top_k_categorical_accuracy: 0.9999 - val_loss: 1.5610 - val_accuracy: 0.6431 - val_top_k_categorical_accuracy: 0.8777\n",
            "Epoch 38/60\n",
            "390/390 [==============================] - 44s 112ms/step - loss: 0.0599 - accuracy: 0.9878 - top_k_categorical_accuracy: 0.9999 - val_loss: 1.5459 - val_accuracy: 0.6480 - val_top_k_categorical_accuracy: 0.8832\n",
            "Epoch 39/60\n",
            "390/390 [==============================] - 44s 112ms/step - loss: 0.0543 - accuracy: 0.9893 - top_k_categorical_accuracy: 0.9999 - val_loss: 1.6065 - val_accuracy: 0.6379 - val_top_k_categorical_accuracy: 0.8715\n",
            "Epoch 40/60\n",
            "390/390 [==============================] - 44s 113ms/step - loss: 0.0530 - accuracy: 0.9892 - top_k_categorical_accuracy: 0.9999 - val_loss: 1.5754 - val_accuracy: 0.6453 - val_top_k_categorical_accuracy: 0.8764\n",
            "Epoch 41/60\n",
            "390/390 [==============================] - 45s 114ms/step - loss: 0.0506 - accuracy: 0.9896 - top_k_categorical_accuracy: 0.9999 - val_loss: 1.6243 - val_accuracy: 0.6413 - val_top_k_categorical_accuracy: 0.8716\n",
            "Epoch 42/60\n",
            "390/390 [==============================] - 44s 112ms/step - loss: 0.0482 - accuracy: 0.9904 - top_k_categorical_accuracy: 0.9999 - val_loss: 1.5855 - val_accuracy: 0.6467 - val_top_k_categorical_accuracy: 0.8770\n",
            "Epoch 43/60\n",
            "390/390 [==============================] - 44s 112ms/step - loss: 0.0468 - accuracy: 0.9913 - top_k_categorical_accuracy: 0.9999 - val_loss: 1.5775 - val_accuracy: 0.6496 - val_top_k_categorical_accuracy: 0.8761\n",
            "Epoch 44/60\n",
            "390/390 [==============================] - 44s 113ms/step - loss: 0.0423 - accuracy: 0.9921 - top_k_categorical_accuracy: 0.9999 - val_loss: 1.5917 - val_accuracy: 0.6476 - val_top_k_categorical_accuracy: 0.8772\n",
            "Epoch 45/60\n",
            "390/390 [==============================] - 44s 113ms/step - loss: 0.0446 - accuracy: 0.9913 - top_k_categorical_accuracy: 1.0000 - val_loss: 1.6229 - val_accuracy: 0.6419 - val_top_k_categorical_accuracy: 0.8733\n",
            "Epoch 46/60\n",
            "390/390 [==============================] - 44s 112ms/step - loss: 0.0422 - accuracy: 0.9920 - top_k_categorical_accuracy: 0.9999 - val_loss: 1.6109 - val_accuracy: 0.6483 - val_top_k_categorical_accuracy: 0.8750\n",
            "Epoch 47/60\n",
            "390/390 [==============================] - 43s 111ms/step - loss: 0.0396 - accuracy: 0.9923 - top_k_categorical_accuracy: 1.0000 - val_loss: 1.5889 - val_accuracy: 0.6465 - val_top_k_categorical_accuracy: 0.8762\n",
            "Epoch 48/60\n",
            "390/390 [==============================] - ETA: 0s - loss: 0.0368 - accuracy: 0.9926 - top_k_categorical_accuracy: 0.9999\n",
            "Epoch 00048: ReduceLROnPlateau reducing learning rate to 0.001.\n",
            "390/390 [==============================] - 43s 111ms/step - loss: 0.0368 - accuracy: 0.9926 - top_k_categorical_accuracy: 0.9999 - val_loss: 1.6223 - val_accuracy: 0.6432 - val_top_k_categorical_accuracy: 0.8737\n",
            "Epoch 49/60\n",
            "390/390 [==============================] - 44s 112ms/step - loss: 0.0360 - accuracy: 0.9932 - top_k_categorical_accuracy: 0.9999 - val_loss: 1.6040 - val_accuracy: 0.6494 - val_top_k_categorical_accuracy: 0.8777\n",
            "Epoch 50/60\n",
            "390/390 [==============================] - 44s 112ms/step - loss: 0.0345 - accuracy: 0.9934 - top_k_categorical_accuracy: 0.9999 - val_loss: 1.6020 - val_accuracy: 0.6511 - val_top_k_categorical_accuracy: 0.8782\n",
            "Epoch 51/60\n",
            "390/390 [==============================] - 44s 112ms/step - loss: 0.0347 - accuracy: 0.9928 - top_k_categorical_accuracy: 0.9999 - val_loss: 1.6454 - val_accuracy: 0.6436 - val_top_k_categorical_accuracy: 0.8735\n",
            "Epoch 52/60\n",
            "390/390 [==============================] - 44s 113ms/step - loss: 0.0324 - accuracy: 0.9945 - top_k_categorical_accuracy: 1.0000 - val_loss: 1.6232 - val_accuracy: 0.6507 - val_top_k_categorical_accuracy: 0.8765\n",
            "Epoch 53/60\n",
            "390/390 [==============================] - 44s 112ms/step - loss: 0.0330 - accuracy: 0.9936 - top_k_categorical_accuracy: 0.9999 - val_loss: 1.6239 - val_accuracy: 0.6499 - val_top_k_categorical_accuracy: 0.8792\n",
            "Epoch 54/60\n",
            "390/390 [==============================] - 43s 111ms/step - loss: 0.0304 - accuracy: 0.9950 - top_k_categorical_accuracy: 0.9999 - val_loss: 1.6592 - val_accuracy: 0.6459 - val_top_k_categorical_accuracy: 0.8721\n",
            "Epoch 55/60\n",
            "390/390 [==============================] - 43s 112ms/step - loss: 0.0293 - accuracy: 0.9946 - top_k_categorical_accuracy: 1.0000 - val_loss: 1.6336 - val_accuracy: 0.6518 - val_top_k_categorical_accuracy: 0.8778\n",
            "Epoch 56/60\n",
            "390/390 [==============================] - 44s 113ms/step - loss: 0.0281 - accuracy: 0.9947 - top_k_categorical_accuracy: 0.9999 - val_loss: 1.6395 - val_accuracy: 0.6503 - val_top_k_categorical_accuracy: 0.8776\n",
            "Epoch 57/60\n",
            "390/390 [==============================] - 43s 112ms/step - loss: 0.0295 - accuracy: 0.9941 - top_k_categorical_accuracy: 1.0000 - val_loss: 1.6658 - val_accuracy: 0.6459 - val_top_k_categorical_accuracy: 0.8761\n",
            "Epoch 58/60\n",
            "390/390 [==============================] - 44s 113ms/step - loss: 0.0272 - accuracy: 0.9948 - top_k_categorical_accuracy: 1.0000 - val_loss: 1.6274 - val_accuracy: 0.6510 - val_top_k_categorical_accuracy: 0.8785\n",
            "Epoch 59/60\n",
            "390/390 [==============================] - 44s 112ms/step - loss: 0.0254 - accuracy: 0.9952 - top_k_categorical_accuracy: 1.0000 - val_loss: 1.6938 - val_accuracy: 0.6396 - val_top_k_categorical_accuracy: 0.8716\n",
            "Epoch 60/60\n",
            "390/390 [==============================] - ETA: 0s - loss: 0.0269 - accuracy: 0.9950 - top_k_categorical_accuracy: 0.9999\n",
            "Epoch 00060: ReduceLROnPlateau reducing learning rate to 0.001.\n",
            "390/390 [==============================] - 44s 112ms/step - loss: 0.0269 - accuracy: 0.9950 - top_k_categorical_accuracy: 0.9999 - val_loss: 1.6876 - val_accuracy: 0.6432 - val_top_k_categorical_accuracy: 0.8728\n",
            "\n",
            "\n",
            "\n",
            "\n",
            "\n",
            "\n",
            "Total-test-data; 10000 \taccurately-predicted-data: 6432 \t wrongly-predicted-data:  3568\n",
            "Accuracy: 64.32 %\n"
          ],
          "name": "stdout"
        },
        {
          "output_type": "display_data",
          "data": {
            "image/png": "[encoded data removed]",
            "text/plain": [
              "<Figure size 432x288 with 2 Axes>"
            ]
          },
          "metadata": {
            "tags": [],
            "needs_background": "light"
          }
        }
      ]
    },
    {
      "cell_type": "code",
      "metadata": {
        "id": "gPZfH79FfXMC"
      },
      "source": [
        ""
      ],
      "execution_count": null,
      "outputs": []
    },
    {
      "cell_type": "code",
      "metadata": {
        "colab": {
          "base_uri": "https://localhost:8080/"
        },
        "id": "0VjSJvdW9fkj",
        "outputId": "d2a08a76-b30c-4864-df28-aec26f6f05f9"
      },
      "source": [
        "from google.colab import drive\n",
        "drive.mount('/content/drive')"
      ],
      "execution_count": null,
      "outputs": [
        {
          "output_type": "stream",
          "text": [
            "Mounted at /content/drive\n"
          ],
          "name": "stdout"
        }
      ]
    }
  ]
}