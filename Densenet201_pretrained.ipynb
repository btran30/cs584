{
  "nbformat": 4,
  "nbformat_minor": 0,
  "metadata": {
    "kernelspec": {
      "display_name": "Python 3",
      "language": "python",
      "name": "python3"
    },
    "language_info": {
      "codemirror_mode": {
        "name": "ipython",
        "version": 3
      },
      "file_extension": ".py",
      "mimetype": "text/x-python",
      "name": "python",
      "nbconvert_exporter": "python",
      "pygments_lexer": "ipython3",
      "version": "3.8.5"
    },
    "colab": {
      "name": "Densenet201_pretrained.ipynb",
      "provenance": [],
      "collapsed_sections": [],
      "toc_visible": true,
      "include_colab_link": true
    },
    "accelerator": "GPU"
  },
  "cells": [
    {
      "cell_type": "markdown",
      "metadata": {
        "id": "view-in-github",
        "colab_type": "text"
      },
      "source": [
        "<a href=\"https://colab.research.google.com/github/btran30/cs584/blob/brenda/Densenet201_pretrained.ipynb\" target=\"_parent\"><img src=\"https://colab.research.google.com/assets/colab-badge.svg\" alt=\"Open In Colab\"/></a>"
      ]
    },
    {
      "cell_type": "markdown",
      "metadata": {
        "id": "ZY5c1IBb4OVS"
      },
      "source": [
        "# DenseNet 201 Analysis"
      ]
    },
    {
      "cell_type": "markdown",
      "metadata": {
        "id": "gfoamKGa4XSl"
      },
      "source": [
        "## Library Import"
      ]
    },
    {
      "cell_type": "code",
      "metadata": {
        "id": "cjZlTdjjfXLr",
        "outputId": "236717a6-9005-4e32-d50d-172006913e32",
        "colab": {
          "base_uri": "https://localhost:8080/"
        }
      },
      "source": [
        "import tensorflow \n",
        "\n",
        "import pandas as pd\n",
        "import numpy as np\n",
        "import os\n",
        "import keras\n",
        "import random\n",
        "import cv2\n",
        "import math\n",
        "import seaborn as sns\n",
        "\n",
        "from matplotlib import pyplot\n",
        "\n",
        "from sklearn.metrics import confusion_matrix\n",
        "from sklearn.preprocessing import LabelBinarizer\n",
        "from sklearn.model_selection import train_test_split\n",
        "\n",
        "import matplotlib.pyplot as plt\n",
        "\n",
        "from keras.utils.np_utils import to_categorical\n",
        "from tensorflow.keras.layers import Dense,GlobalAveragePooling2D,Convolution2D,BatchNormalization,Activation\n",
        "from tensorflow.keras.layers import Flatten,MaxPooling2D,Dropout\n",
        "from tensorflow.keras.applications import DenseNet201\n",
        "from tensorflow.keras.applications.densenet import preprocess_input\n",
        "\n",
        "from tensorflow.keras.preprocessing import image\n",
        "from tensorflow.keras.preprocessing.image import ImageDataGenerator,img_to_array\n",
        "from tensorflow.keras.models import Model\n",
        "from tensorflow.keras.optimizers import Adam,SGD\n",
        "from tensorflow.keras.callbacks import ModelCheckpoint, ReduceLROnPlateau\n",
        "\n",
        "import warnings\n",
        "warnings.filterwarnings(\"ignore\")\n",
        "\n",
        "print(\"Tensorflow-version:\", tensorflow.__version__)"
      ],
      "execution_count": 9,
      "outputs": [
        {
          "output_type": "stream",
          "text": [
            "Tensorflow-version: 2.3.0\n"
          ],
          "name": "stdout"
        }
      ]
    },
    {
      "cell_type": "markdown",
      "metadata": {
        "id": "j8rl-qhF4lP-"
      },
      "source": [
        "## Load Data from Keras"
      ]
    },
    {
      "cell_type": "code",
      "metadata": {
        "id": "bJ0MfUxMfXL5",
        "outputId": "1aa067bf-a42a-4928-bf5f-f3dbfc396670",
        "colab": {
          "base_uri": "https://localhost:8080/"
        }
      },
      "source": [
        "(x_train, y_train), (x_test, y_test) = tensorflow.keras.datasets.cifar100.load_data()\n",
        "\n",
        "# One-hot encoding for 100 classes.\n",
        "y_train = to_categorical(y_train, 100)\n",
        "y_test = to_categorical(y_test, 100)\n",
        "\n",
        "print('Train: X=%s, y=%s' % (x_train.shape, y_train.shape))\n",
        "print('Test: X=%s, y=%s' % (x_test.shape, y_test.shape))"
      ],
      "execution_count": 10,
      "outputs": [
        {
          "output_type": "stream",
          "text": [
            "Downloading data from https://www.cs.toronto.edu/~kriz/cifar-10-python.tar.gz\n",
            "170500096/170498071 [==============================] - 4s 0us/step\n",
            "Train: X=(50000, 32, 32, 3), y=(50000, 10)\n",
            "Test: X=(10000, 32, 32, 3), y=(10000, 10)\n"
          ],
          "name": "stdout"
        }
      ]
    },
    {
      "cell_type": "markdown",
      "metadata": {
        "id": "Hjw4aw-b4qEs"
      },
      "source": [
        "## DenseNet 201 Model"
      ]
    },
    {
      "cell_type": "markdown",
      "metadata": {
        "id": "EW5ANnlB4xC_"
      },
      "source": [
        "We utilize ImageDataGenerator to augment our input data.  This should help us avoid overfitting."
      ]
    },
    {
      "cell_type": "code",
      "metadata": {
        "id": "gJXdLY1zXqwF",
        "outputId": "f124054a-2c87-452d-99e1-8acc058d6596",
        "colab": {
          "base_uri": "https://localhost:8080/"
        }
      },
      "source": [
        "input_shape=(32,32,3)\n",
        "model_d=DenseNet201(weights='imagenet',include_top=False, input_shape=input_shape) \n",
        "\n",
        "x=model_d.output\n",
        "\n",
        "x= BatchNormalization()(x)\n",
        "x= Activation('relu')(x)\n",
        "x= GlobalAveragePooling2D()(x)\n",
        "\n",
        "preds=Dense(100,activation='softmax')(x) #FC-layer\n",
        "\n",
        "model=Model(inputs=model_d.input, outputs=preds)\n",
        "\n",
        "#model.summary()\n",
        "#tf.keras.utils.plot_model( model , show_shapes=True )\n",
        "\n",
        "sgd = SGD(lr=1e-3, decay=1e-6, momentum=0.9, nesterov=True)\n",
        "model.compile(optimizer=sgd, loss='categorical_crossentropy', metrics=['accuracy', 'top_k_categorical_accuracy'])\n",
        "\n",
        "batch_size = 128\n",
        "epochs = 20\n",
        "\n",
        "anne = ReduceLROnPlateau(monitor='val_accuracy', factor=0.5, patience=5, verbose=1, min_lr=1e-3)\n",
        "checkpoint = ModelCheckpoint('model.h5', verbose=1, save_best_only=True)\n",
        "\n",
        "datagen = ImageDataGenerator(zoom_range = 0.2, horizontal_flip=True, shear_range=0.2)\n",
        "\n",
        "datagen.fit(x_train)\n",
        "# Fits-the-model\n",
        "history = model.fit(datagen.flow(x_train, y_train, batch_size=batch_size),\n",
        "               steps_per_epoch=x_train.shape[0] // batch_size,\n",
        "               epochs=epochs,\n",
        "               verbose=1,\n",
        "               callbacks=[anne, checkpoint],\n",
        "               validation_data=(x_test, y_test))\n",
        "\n",
        "#model.save(\"m_densenet201.h5\")"
      ],
      "execution_count": 11,
      "outputs": [
        {
          "output_type": "stream",
          "text": [
            "Epoch 1/20\n",
            "390/390 [==============================] - ETA: 0s - loss: 1.1578 - accuracy: 0.6014 - top_k_categorical_accuracy: 0.9324\n",
            "Epoch 00001: val_loss improved from inf to 0.84656, saving model to model.h5\n",
            "390/390 [==============================] - 52s 134ms/step - loss: 1.1578 - accuracy: 0.6014 - top_k_categorical_accuracy: 0.9324 - val_loss: 0.8466 - val_accuracy: 0.7177 - val_top_k_categorical_accuracy: 0.9758\n",
            "Epoch 2/20\n",
            "390/390 [==============================] - ETA: 0s - loss: 0.6718 - accuracy: 0.7687 - top_k_categorical_accuracy: 0.9866\n",
            "Epoch 00002: val_loss improved from 0.84656 to 0.62500, saving model to model.h5\n",
            "390/390 [==============================] - 49s 127ms/step - loss: 0.6718 - accuracy: 0.7687 - top_k_categorical_accuracy: 0.9866 - val_loss: 0.6250 - val_accuracy: 0.7850 - val_top_k_categorical_accuracy: 0.9871\n",
            "Epoch 3/20\n",
            "390/390 [==============================] - ETA: 0s - loss: 0.5341 - accuracy: 0.8147 - top_k_categorical_accuracy: 0.9918\n",
            "Epoch 00003: val_loss improved from 0.62500 to 0.58888, saving model to model.h5\n",
            "390/390 [==============================] - 49s 126ms/step - loss: 0.5341 - accuracy: 0.8147 - top_k_categorical_accuracy: 0.9918 - val_loss: 0.5889 - val_accuracy: 0.8043 - val_top_k_categorical_accuracy: 0.9908\n",
            "Epoch 4/20\n",
            "390/390 [==============================] - ETA: 0s - loss: 0.4513 - accuracy: 0.8443 - top_k_categorical_accuracy: 0.9944\n",
            "Epoch 00004: val_loss improved from 0.58888 to 0.55210, saving model to model.h5\n",
            "390/390 [==============================] - 49s 126ms/step - loss: 0.4513 - accuracy: 0.8443 - top_k_categorical_accuracy: 0.9944 - val_loss: 0.5521 - val_accuracy: 0.8151 - val_top_k_categorical_accuracy: 0.9907\n",
            "Epoch 5/20\n",
            "390/390 [==============================] - ETA: 0s - loss: 0.3863 - accuracy: 0.8659 - top_k_categorical_accuracy: 0.9960\n",
            "Epoch 00005: val_loss did not improve from 0.55210\n",
            "390/390 [==============================] - 48s 122ms/step - loss: 0.3863 - accuracy: 0.8659 - top_k_categorical_accuracy: 0.9960 - val_loss: 0.5581 - val_accuracy: 0.8092 - val_top_k_categorical_accuracy: 0.9909\n",
            "Epoch 6/20\n",
            "390/390 [==============================] - ETA: 0s - loss: 0.3357 - accuracy: 0.8845 - top_k_categorical_accuracy: 0.9971\n",
            "Epoch 00006: val_loss improved from 0.55210 to 0.52647, saving model to model.h5\n",
            "390/390 [==============================] - 49s 126ms/step - loss: 0.3357 - accuracy: 0.8845 - top_k_categorical_accuracy: 0.9971 - val_loss: 0.5265 - val_accuracy: 0.8255 - val_top_k_categorical_accuracy: 0.9910\n",
            "Epoch 7/20\n",
            "390/390 [==============================] - ETA: 0s - loss: 0.2923 - accuracy: 0.8989 - top_k_categorical_accuracy: 0.9979\n",
            "Epoch 00007: val_loss improved from 0.52647 to 0.51933, saving model to model.h5\n",
            "390/390 [==============================] - 49s 127ms/step - loss: 0.2923 - accuracy: 0.8989 - top_k_categorical_accuracy: 0.9979 - val_loss: 0.5193 - val_accuracy: 0.8306 - val_top_k_categorical_accuracy: 0.9917\n",
            "Epoch 8/20\n",
            "390/390 [==============================] - ETA: 0s - loss: 0.2565 - accuracy: 0.9117 - top_k_categorical_accuracy: 0.9984\n",
            "Epoch 00008: val_loss did not improve from 0.51933\n",
            "390/390 [==============================] - 48s 122ms/step - loss: 0.2565 - accuracy: 0.9117 - top_k_categorical_accuracy: 0.9984 - val_loss: 0.5323 - val_accuracy: 0.8275 - val_top_k_categorical_accuracy: 0.9931\n",
            "Epoch 9/20\n",
            "390/390 [==============================] - ETA: 0s - loss: 0.2225 - accuracy: 0.9239 - top_k_categorical_accuracy: 0.9990\n",
            "Epoch 00009: val_loss improved from 0.51933 to 0.48320, saving model to model.h5\n",
            "390/390 [==============================] - 50s 127ms/step - loss: 0.2225 - accuracy: 0.9239 - top_k_categorical_accuracy: 0.9990 - val_loss: 0.4832 - val_accuracy: 0.8494 - val_top_k_categorical_accuracy: 0.9919\n",
            "Epoch 10/20\n",
            "390/390 [==============================] - ETA: 0s - loss: 0.1984 - accuracy: 0.9328 - top_k_categorical_accuracy: 0.9992\n",
            "Epoch 00010: val_loss did not improve from 0.48320\n",
            "390/390 [==============================] - 48s 123ms/step - loss: 0.1984 - accuracy: 0.9328 - top_k_categorical_accuracy: 0.9992 - val_loss: 0.5689 - val_accuracy: 0.8216 - val_top_k_categorical_accuracy: 0.9912\n",
            "Epoch 11/20\n",
            "390/390 [==============================] - ETA: 0s - loss: 0.1721 - accuracy: 0.9419 - top_k_categorical_accuracy: 0.9994\n",
            "Epoch 00011: val_loss did not improve from 0.48320\n",
            "390/390 [==============================] - 48s 123ms/step - loss: 0.1721 - accuracy: 0.9419 - top_k_categorical_accuracy: 0.9994 - val_loss: 0.5036 - val_accuracy: 0.8417 - val_top_k_categorical_accuracy: 0.9928\n",
            "Epoch 12/20\n",
            "390/390 [==============================] - ETA: 0s - loss: 0.1510 - accuracy: 0.9483 - top_k_categorical_accuracy: 0.9995\n",
            "Epoch 00012: val_loss did not improve from 0.48320\n",
            "390/390 [==============================] - 48s 122ms/step - loss: 0.1510 - accuracy: 0.9483 - top_k_categorical_accuracy: 0.9995 - val_loss: 0.4844 - val_accuracy: 0.8509 - val_top_k_categorical_accuracy: 0.9924\n",
            "Epoch 13/20\n",
            "390/390 [==============================] - ETA: 0s - loss: 0.1342 - accuracy: 0.9558 - top_k_categorical_accuracy: 0.9997\n",
            "Epoch 00013: val_loss did not improve from 0.48320\n",
            "390/390 [==============================] - 47s 122ms/step - loss: 0.1342 - accuracy: 0.9558 - top_k_categorical_accuracy: 0.9997 - val_loss: 0.5126 - val_accuracy: 0.8443 - val_top_k_categorical_accuracy: 0.9930\n",
            "Epoch 14/20\n",
            "390/390 [==============================] - ETA: 0s - loss: 0.1155 - accuracy: 0.9611 - top_k_categorical_accuracy: 0.9998\n",
            "Epoch 00014: val_loss did not improve from 0.48320\n",
            "390/390 [==============================] - 48s 122ms/step - loss: 0.1155 - accuracy: 0.9611 - top_k_categorical_accuracy: 0.9998 - val_loss: 0.5290 - val_accuracy: 0.8473 - val_top_k_categorical_accuracy: 0.9922\n",
            "Epoch 15/20\n",
            "390/390 [==============================] - ETA: 0s - loss: 0.1062 - accuracy: 0.9647 - top_k_categorical_accuracy: 0.9998\n",
            "Epoch 00015: val_loss did not improve from 0.48320\n",
            "390/390 [==============================] - 48s 123ms/step - loss: 0.1062 - accuracy: 0.9647 - top_k_categorical_accuracy: 0.9998 - val_loss: 0.5097 - val_accuracy: 0.8594 - val_top_k_categorical_accuracy: 0.9933\n",
            "Epoch 16/20\n",
            "390/390 [==============================] - ETA: 0s - loss: 0.0956 - accuracy: 0.9683 - top_k_categorical_accuracy: 0.9997\n",
            "Epoch 00016: val_loss did not improve from 0.48320\n",
            "390/390 [==============================] - 48s 122ms/step - loss: 0.0956 - accuracy: 0.9683 - top_k_categorical_accuracy: 0.9997 - val_loss: 0.5319 - val_accuracy: 0.8488 - val_top_k_categorical_accuracy: 0.9909\n",
            "Epoch 17/20\n",
            "390/390 [==============================] - ETA: 0s - loss: 0.0869 - accuracy: 0.9711 - top_k_categorical_accuracy: 0.9999\n",
            "Epoch 00017: val_loss did not improve from 0.48320\n",
            "390/390 [==============================] - 48s 122ms/step - loss: 0.0869 - accuracy: 0.9711 - top_k_categorical_accuracy: 0.9999 - val_loss: 0.5369 - val_accuracy: 0.8516 - val_top_k_categorical_accuracy: 0.9930\n",
            "Epoch 18/20\n",
            "390/390 [==============================] - ETA: 0s - loss: 0.0792 - accuracy: 0.9743 - top_k_categorical_accuracy: 0.9999\n",
            "Epoch 00018: val_loss did not improve from 0.48320\n",
            "390/390 [==============================] - 47s 121ms/step - loss: 0.0792 - accuracy: 0.9743 - top_k_categorical_accuracy: 0.9999 - val_loss: 0.5257 - val_accuracy: 0.8558 - val_top_k_categorical_accuracy: 0.9929\n",
            "Epoch 19/20\n",
            "390/390 [==============================] - ETA: 0s - loss: 0.0738 - accuracy: 0.9773 - top_k_categorical_accuracy: 0.9999\n",
            "Epoch 00019: val_loss did not improve from 0.48320\n",
            "390/390 [==============================] - 48s 123ms/step - loss: 0.0738 - accuracy: 0.9773 - top_k_categorical_accuracy: 0.9999 - val_loss: 0.5469 - val_accuracy: 0.8508 - val_top_k_categorical_accuracy: 0.9937\n",
            "Epoch 20/20\n",
            "390/390 [==============================] - ETA: 0s - loss: 0.0633 - accuracy: 0.9798 - top_k_categorical_accuracy: 0.9999\n",
            "Epoch 00020: ReduceLROnPlateau reducing learning rate to 0.001.\n",
            "\n",
            "Epoch 00020: val_loss did not improve from 0.48320\n",
            "390/390 [==============================] - 48s 122ms/step - loss: 0.0633 - accuracy: 0.9798 - top_k_categorical_accuracy: 0.9999 - val_loss: 0.5493 - val_accuracy: 0.8520 - val_top_k_categorical_accuracy: 0.9904\n"
          ],
          "name": "stdout"
        }
      ]
    },
    {
      "cell_type": "code",
      "metadata": {
        "id": "PfypPY4e1FhI",
        "outputId": "2999b83e-0b06-4950-a401-061af0a9ffd9",
        "colab": {
          "base_uri": "https://localhost:8080/",
          "height": 281
        }
      },
      "source": [
        "def summarize_diagnostics(history):\n",
        "    pyplot.subplots_adjust(hspace=0.7)\n",
        "    # plot loss\n",
        "    pyplot.subplot(211)\n",
        "    pyplot.title('Cross Entropy Loss')\n",
        "    pyplot.plot(history.history['loss'], color='blue', label='train')\n",
        "    pyplot.plot(history.history['val_loss'], color='orange', label='test')\n",
        "    \n",
        "    # plot accuracy\n",
        "    pyplot.subplot(212)\n",
        "    pyplot.title('Classification Accuracy')\n",
        "    pyplot.plot(history.history['accuracy'], color='blue', label='train')\n",
        "    pyplot.plot(history.history['val_accuracy'], color='orange', label='test')\n",
        "    \n",
        "    # save plot to file\n",
        "    filename = \"DenseNet201_Pretrained\"\n",
        "    pyplot.savefig(filename + '_plot.png')\n",
        "    \n",
        "\n",
        "summarize_diagnostics(history)"
      ],
      "execution_count": 23,
      "outputs": [
        {
          "output_type": "display_data",
          "data": {
            "image/png": "[encoded data removed]",
            "text/plain": [
              "<Figure size 432x288 with 2 Axes>"
            ]
          },
          "metadata": {
            "tags": [],
            "needs_background": "light"
          }
        }
      ]
    },
    {
      "cell_type": "markdown",
      "metadata": {
        "id": "1j-1GPKcGAcw"
      },
      "source": [
        ""
      ]
    },
    {
      "cell_type": "markdown",
      "metadata": {
        "id": "fIrtQTco4Cpi"
      },
      "source": [
        "## Final Prediciton"
      ]
    },
    {
      "cell_type": "code",
      "metadata": {
        "id": "gPZfH79FfXMC",
        "outputId": "48e6c76d-790e-4dfa-a03a-9650777c9cdc",
        "colab": {
          "base_uri": "https://localhost:8080/"
        }
      },
      "source": [
        "ypred = model.predict(x_test)\n",
        "\n",
        "total = 0\n",
        "accurate = 0\n",
        "accurateindex = []\n",
        "wrongindex = []\n",
        "\n",
        "for i in range(len(ypred)):\n",
        "    if np.argmax(ypred[i]) == np.argmax(y_test[i]):\n",
        "        accurate += 1\n",
        "        accurateindex.append(i)\n",
        "    else:\n",
        "        wrongindex.append(i)\n",
        "        \n",
        "    total += 1\n",
        "    \n",
        "print('Total-test-data;', total, '\\taccurately-predicted-data:', accurate, '\\t wrongly-predicted-data: ', total - accurate)\n",
        "print('Accuracy:', round(accurate/total*100, 3), '%')"
      ],
      "execution_count": 24,
      "outputs": [
        {
          "output_type": "stream",
          "text": [
            "Total-test-data; 10000 \taccurately-predicted-data: 8520 \t wrongly-predicted-data:  1480\n",
            "Accuracy: 85.2 %\n"
          ],
          "name": "stdout"
        }
      ]
    },
    {
      "cell_type": "markdown",
      "metadata": {
        "id": "VwxfMY5mfXME"
      },
      "source": [
        "### Heat Map"
      ]
    },
    {
      "cell_type": "code",
      "metadata": {
        "id": "A4piLJOmfXMF"
      },
      "source": [
        "Ypred = model.predict(x_test)\n",
        "\n",
        "Ypred = np.argmax(Ypred, axis=1)\n",
        "Ytrue = np.argmax(y_test, axis=1)\n",
        "\n",
        "cm = confusion_matrix(Ytrue, Ypred)\n",
        "plt.figure(figsize=(12, 12))\n",
        "ax = sns.heatmap(cm, cmap=\"rocket_r\", fmt=\".01f\",annot_kws={'size':16}, annot=True, square=True, xticklabels=label, yticklabels=label)\n",
        "ax.set_ylabel('Actual', fontsize=20)\n",
        "ax.set_xlabel('Predicted', fontsize=20)"
      ],
      "execution_count": null,
      "outputs": []
    },
    {
      "cell_type": "code",
      "metadata": {
        "id": "0VjSJvdW9fkj",
        "outputId": "d2a08a76-b30c-4864-df28-aec26f6f05f9",
        "colab": {
          "base_uri": "https://localhost:8080/"
        }
      },
      "source": [
        "from google.colab import drive\n",
        "drive.mount('/content/drive')"
      ],
      "execution_count": null,
      "outputs": [
        {
          "output_type": "stream",
          "text": [
            "Mounted at /content/drive\n"
          ],
          "name": "stdout"
        }
      ]
    }
  ]
}